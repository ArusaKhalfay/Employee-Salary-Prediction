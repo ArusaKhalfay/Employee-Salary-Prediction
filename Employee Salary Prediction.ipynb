{
 "cells": [
  {
   "cell_type": "markdown",
   "id": "5ef07362-7f93-43e3-821d-403224cecf16",
   "metadata": {},
   "source": [
    "# TASK 1: Problem Statement"
   ]
  },
  {
   "cell_type": "markdown",
   "id": "aaf17992-7eab-4830-a223-547b33f2972a",
   "metadata": {},
   "source": [
    "The dataset contains information about: \n",
    "1) Employee Salaries\n",
    "2) Years of Experience\n",
    "\n",
    "The goal of the project is that if you get a certain years of experience, we should be accurately able to predict the salary of the employee."
   ]
  },
  {
   "cell_type": "markdown",
   "id": "32334d96-1580-4a30-a467-a1f96b182035",
   "metadata": {},
   "source": [
    "# TASK 2: Import Libraries and Dataset"
   ]
  },
  {
   "cell_type": "code",
   "execution_count": 1,
   "id": "12e7dfe1-bbc0-45eb-addf-b21eddc2e977",
   "metadata": {},
   "outputs": [],
   "source": [
    "#importing libraries\n",
    "import pandas as pd\n",
    "import numpy as np\n",
    "import seaborn as sns\n",
    "import matplotlib.pyplot as plt"
   ]
  },
  {
   "cell_type": "code",
   "execution_count": 2,
   "id": "308d6557-0025-482f-ba7e-a3391a9b81ba",
   "metadata": {},
   "outputs": [],
   "source": [
    "#read the csv file\n",
    "salary_df = pd.read_csv('salary.csv')"
   ]
  },
  {
   "cell_type": "code",
   "execution_count": 3,
   "id": "71b9d328-f81d-486f-a4ab-cbb9489f597a",
   "metadata": {},
   "outputs": [
    {
     "data": {
      "text/html": [
       "<div>\n",
       "<style scoped>\n",
       "    .dataframe tbody tr th:only-of-type {\n",
       "        vertical-align: middle;\n",
       "    }\n",
       "\n",
       "    .dataframe tbody tr th {\n",
       "        vertical-align: top;\n",
       "    }\n",
       "\n",
       "    .dataframe thead th {\n",
       "        text-align: right;\n",
       "    }\n",
       "</style>\n",
       "<table border=\"1\" class=\"dataframe\">\n",
       "  <thead>\n",
       "    <tr style=\"text-align: right;\">\n",
       "      <th></th>\n",
       "      <th>YearsExperience</th>\n",
       "      <th>Salary</th>\n",
       "    </tr>\n",
       "  </thead>\n",
       "  <tbody>\n",
       "    <tr>\n",
       "      <th>0</th>\n",
       "      <td>1.1</td>\n",
       "      <td>39343</td>\n",
       "    </tr>\n",
       "    <tr>\n",
       "      <th>1</th>\n",
       "      <td>1.3</td>\n",
       "      <td>46205</td>\n",
       "    </tr>\n",
       "    <tr>\n",
       "      <th>2</th>\n",
       "      <td>1.5</td>\n",
       "      <td>37731</td>\n",
       "    </tr>\n",
       "    <tr>\n",
       "      <th>3</th>\n",
       "      <td>2.0</td>\n",
       "      <td>43525</td>\n",
       "    </tr>\n",
       "    <tr>\n",
       "      <th>4</th>\n",
       "      <td>2.2</td>\n",
       "      <td>39891</td>\n",
       "    </tr>\n",
       "    <tr>\n",
       "      <th>5</th>\n",
       "      <td>2.9</td>\n",
       "      <td>56642</td>\n",
       "    </tr>\n",
       "    <tr>\n",
       "      <th>6</th>\n",
       "      <td>3.0</td>\n",
       "      <td>60150</td>\n",
       "    </tr>\n",
       "    <tr>\n",
       "      <th>7</th>\n",
       "      <td>3.2</td>\n",
       "      <td>54445</td>\n",
       "    </tr>\n",
       "    <tr>\n",
       "      <th>8</th>\n",
       "      <td>3.2</td>\n",
       "      <td>64445</td>\n",
       "    </tr>\n",
       "    <tr>\n",
       "      <th>9</th>\n",
       "      <td>3.7</td>\n",
       "      <td>57189</td>\n",
       "    </tr>\n",
       "    <tr>\n",
       "      <th>10</th>\n",
       "      <td>3.9</td>\n",
       "      <td>63218</td>\n",
       "    </tr>\n",
       "    <tr>\n",
       "      <th>11</th>\n",
       "      <td>4.0</td>\n",
       "      <td>55794</td>\n",
       "    </tr>\n",
       "    <tr>\n",
       "      <th>12</th>\n",
       "      <td>4.0</td>\n",
       "      <td>56957</td>\n",
       "    </tr>\n",
       "    <tr>\n",
       "      <th>13</th>\n",
       "      <td>4.1</td>\n",
       "      <td>57081</td>\n",
       "    </tr>\n",
       "    <tr>\n",
       "      <th>14</th>\n",
       "      <td>4.5</td>\n",
       "      <td>61111</td>\n",
       "    </tr>\n",
       "    <tr>\n",
       "      <th>15</th>\n",
       "      <td>4.9</td>\n",
       "      <td>67938</td>\n",
       "    </tr>\n",
       "    <tr>\n",
       "      <th>16</th>\n",
       "      <td>5.1</td>\n",
       "      <td>66029</td>\n",
       "    </tr>\n",
       "    <tr>\n",
       "      <th>17</th>\n",
       "      <td>5.3</td>\n",
       "      <td>83088</td>\n",
       "    </tr>\n",
       "    <tr>\n",
       "      <th>18</th>\n",
       "      <td>5.9</td>\n",
       "      <td>81363</td>\n",
       "    </tr>\n",
       "    <tr>\n",
       "      <th>19</th>\n",
       "      <td>6.0</td>\n",
       "      <td>93940</td>\n",
       "    </tr>\n",
       "    <tr>\n",
       "      <th>20</th>\n",
       "      <td>6.8</td>\n",
       "      <td>91738</td>\n",
       "    </tr>\n",
       "    <tr>\n",
       "      <th>21</th>\n",
       "      <td>7.1</td>\n",
       "      <td>98273</td>\n",
       "    </tr>\n",
       "    <tr>\n",
       "      <th>22</th>\n",
       "      <td>7.9</td>\n",
       "      <td>101302</td>\n",
       "    </tr>\n",
       "    <tr>\n",
       "      <th>23</th>\n",
       "      <td>8.2</td>\n",
       "      <td>113812</td>\n",
       "    </tr>\n",
       "    <tr>\n",
       "      <th>24</th>\n",
       "      <td>8.7</td>\n",
       "      <td>109431</td>\n",
       "    </tr>\n",
       "    <tr>\n",
       "      <th>25</th>\n",
       "      <td>9.0</td>\n",
       "      <td>105582</td>\n",
       "    </tr>\n",
       "    <tr>\n",
       "      <th>26</th>\n",
       "      <td>9.5</td>\n",
       "      <td>116969</td>\n",
       "    </tr>\n",
       "    <tr>\n",
       "      <th>27</th>\n",
       "      <td>9.6</td>\n",
       "      <td>112635</td>\n",
       "    </tr>\n",
       "    <tr>\n",
       "      <th>28</th>\n",
       "      <td>10.3</td>\n",
       "      <td>122391</td>\n",
       "    </tr>\n",
       "    <tr>\n",
       "      <th>29</th>\n",
       "      <td>10.5</td>\n",
       "      <td>121872</td>\n",
       "    </tr>\n",
       "    <tr>\n",
       "      <th>30</th>\n",
       "      <td>11.2</td>\n",
       "      <td>127345</td>\n",
       "    </tr>\n",
       "    <tr>\n",
       "      <th>31</th>\n",
       "      <td>11.5</td>\n",
       "      <td>126756</td>\n",
       "    </tr>\n",
       "    <tr>\n",
       "      <th>32</th>\n",
       "      <td>12.3</td>\n",
       "      <td>128765</td>\n",
       "    </tr>\n",
       "    <tr>\n",
       "      <th>33</th>\n",
       "      <td>12.9</td>\n",
       "      <td>135675</td>\n",
       "    </tr>\n",
       "    <tr>\n",
       "      <th>34</th>\n",
       "      <td>13.5</td>\n",
       "      <td>139465</td>\n",
       "    </tr>\n",
       "  </tbody>\n",
       "</table>\n",
       "</div>"
      ],
      "text/plain": [
       "    YearsExperience  Salary\n",
       "0               1.1   39343\n",
       "1               1.3   46205\n",
       "2               1.5   37731\n",
       "3               2.0   43525\n",
       "4               2.2   39891\n",
       "5               2.9   56642\n",
       "6               3.0   60150\n",
       "7               3.2   54445\n",
       "8               3.2   64445\n",
       "9               3.7   57189\n",
       "10              3.9   63218\n",
       "11              4.0   55794\n",
       "12              4.0   56957\n",
       "13              4.1   57081\n",
       "14              4.5   61111\n",
       "15              4.9   67938\n",
       "16              5.1   66029\n",
       "17              5.3   83088\n",
       "18              5.9   81363\n",
       "19              6.0   93940\n",
       "20              6.8   91738\n",
       "21              7.1   98273\n",
       "22              7.9  101302\n",
       "23              8.2  113812\n",
       "24              8.7  109431\n",
       "25              9.0  105582\n",
       "26              9.5  116969\n",
       "27              9.6  112635\n",
       "28             10.3  122391\n",
       "29             10.5  121872\n",
       "30             11.2  127345\n",
       "31             11.5  126756\n",
       "32             12.3  128765\n",
       "33             12.9  135675\n",
       "34             13.5  139465"
      ]
     },
     "execution_count": 3,
     "metadata": {},
     "output_type": "execute_result"
    }
   ],
   "source": [
    "salary_df"
   ]
  },
  {
   "cell_type": "code",
   "execution_count": 4,
   "id": "e92bf4b4-e80a-4b8f-9d72-b769194ce534",
   "metadata": {},
   "outputs": [
    {
     "data": {
      "text/html": [
       "<div>\n",
       "<style scoped>\n",
       "    .dataframe tbody tr th:only-of-type {\n",
       "        vertical-align: middle;\n",
       "    }\n",
       "\n",
       "    .dataframe tbody tr th {\n",
       "        vertical-align: top;\n",
       "    }\n",
       "\n",
       "    .dataframe thead th {\n",
       "        text-align: right;\n",
       "    }\n",
       "</style>\n",
       "<table border=\"1\" class=\"dataframe\">\n",
       "  <thead>\n",
       "    <tr style=\"text-align: right;\">\n",
       "      <th></th>\n",
       "      <th>YearsExperience</th>\n",
       "      <th>Salary</th>\n",
       "    </tr>\n",
       "  </thead>\n",
       "  <tbody>\n",
       "    <tr>\n",
       "      <th>0</th>\n",
       "      <td>1.1</td>\n",
       "      <td>39343</td>\n",
       "    </tr>\n",
       "    <tr>\n",
       "      <th>1</th>\n",
       "      <td>1.3</td>\n",
       "      <td>46205</td>\n",
       "    </tr>\n",
       "    <tr>\n",
       "      <th>2</th>\n",
       "      <td>1.5</td>\n",
       "      <td>37731</td>\n",
       "    </tr>\n",
       "    <tr>\n",
       "      <th>3</th>\n",
       "      <td>2.0</td>\n",
       "      <td>43525</td>\n",
       "    </tr>\n",
       "    <tr>\n",
       "      <th>4</th>\n",
       "      <td>2.2</td>\n",
       "      <td>39891</td>\n",
       "    </tr>\n",
       "    <tr>\n",
       "      <th>5</th>\n",
       "      <td>2.9</td>\n",
       "      <td>56642</td>\n",
       "    </tr>\n",
       "    <tr>\n",
       "      <th>6</th>\n",
       "      <td>3.0</td>\n",
       "      <td>60150</td>\n",
       "    </tr>\n",
       "  </tbody>\n",
       "</table>\n",
       "</div>"
      ],
      "text/plain": [
       "   YearsExperience  Salary\n",
       "0              1.1   39343\n",
       "1              1.3   46205\n",
       "2              1.5   37731\n",
       "3              2.0   43525\n",
       "4              2.2   39891\n",
       "5              2.9   56642\n",
       "6              3.0   60150"
      ]
     },
     "execution_count": 4,
     "metadata": {},
     "output_type": "execute_result"
    }
   ],
   "source": [
    "#printing the first seven rows\n",
    "salary_df.head(7)"
   ]
  },
  {
   "cell_type": "code",
   "execution_count": 5,
   "id": "a044ce60-621b-49e6-a5fe-760c743d2230",
   "metadata": {},
   "outputs": [
    {
     "data": {
      "text/html": [
       "<div>\n",
       "<style scoped>\n",
       "    .dataframe tbody tr th:only-of-type {\n",
       "        vertical-align: middle;\n",
       "    }\n",
       "\n",
       "    .dataframe tbody tr th {\n",
       "        vertical-align: top;\n",
       "    }\n",
       "\n",
       "    .dataframe thead th {\n",
       "        text-align: right;\n",
       "    }\n",
       "</style>\n",
       "<table border=\"1\" class=\"dataframe\">\n",
       "  <thead>\n",
       "    <tr style=\"text-align: right;\">\n",
       "      <th></th>\n",
       "      <th>YearsExperience</th>\n",
       "      <th>Salary</th>\n",
       "    </tr>\n",
       "  </thead>\n",
       "  <tbody>\n",
       "    <tr>\n",
       "      <th>28</th>\n",
       "      <td>10.3</td>\n",
       "      <td>122391</td>\n",
       "    </tr>\n",
       "    <tr>\n",
       "      <th>29</th>\n",
       "      <td>10.5</td>\n",
       "      <td>121872</td>\n",
       "    </tr>\n",
       "    <tr>\n",
       "      <th>30</th>\n",
       "      <td>11.2</td>\n",
       "      <td>127345</td>\n",
       "    </tr>\n",
       "    <tr>\n",
       "      <th>31</th>\n",
       "      <td>11.5</td>\n",
       "      <td>126756</td>\n",
       "    </tr>\n",
       "    <tr>\n",
       "      <th>32</th>\n",
       "      <td>12.3</td>\n",
       "      <td>128765</td>\n",
       "    </tr>\n",
       "    <tr>\n",
       "      <th>33</th>\n",
       "      <td>12.9</td>\n",
       "      <td>135675</td>\n",
       "    </tr>\n",
       "    <tr>\n",
       "      <th>34</th>\n",
       "      <td>13.5</td>\n",
       "      <td>139465</td>\n",
       "    </tr>\n",
       "  </tbody>\n",
       "</table>\n",
       "</div>"
      ],
      "text/plain": [
       "    YearsExperience  Salary\n",
       "28             10.3  122391\n",
       "29             10.5  121872\n",
       "30             11.2  127345\n",
       "31             11.5  126756\n",
       "32             12.3  128765\n",
       "33             12.9  135675\n",
       "34             13.5  139465"
      ]
     },
     "execution_count": 5,
     "metadata": {},
     "output_type": "execute_result"
    }
   ],
   "source": [
    "#printing the last 7 rows\n",
    "salary_df.tail(7)"
   ]
  },
  {
   "cell_type": "code",
   "execution_count": 6,
   "id": "7a93992e-6081-4fa6-86d0-44eb9e20c918",
   "metadata": {},
   "outputs": [
    {
     "data": {
      "text/plain": [
       "139465"
      ]
     },
     "execution_count": 6,
     "metadata": {},
     "output_type": "execute_result"
    }
   ],
   "source": [
    "#maximum value of salary\n",
    "max_salary = salary_df['Salary'].max()\n",
    "max_salary"
   ]
  },
  {
   "cell_type": "markdown",
   "id": "21a850d5-d96d-4031-be36-7374b4210e6b",
   "metadata": {},
   "source": [
    "# Task 3: Exploratory Data Analysis and Visualization\n",
    "\n",
    "1) Step 1: Check for null values\n",
    "2) Step 2: Check for info of the dataframe -> column names, non-null values and datatypes\n",
    "3) Step 3: Check the summary of the dataframe"
   ]
  },
  {
   "cell_type": "code",
   "execution_count": 7,
   "id": "695b4432-5e83-45c9-b0d8-5da86d3c5843",
   "metadata": {},
   "outputs": [
    {
     "data": {
      "text/plain": [
       "YearsExperience    False\n",
       "Salary             False\n",
       "dtype: bool"
      ]
     },
     "execution_count": 7,
     "metadata": {},
     "output_type": "execute_result"
    }
   ],
   "source": [
    "#Checking for null values\n",
    "#isnull() - gives true and false for null values\n",
    "#.any() - returns True if there are any null values\n",
    "salary_df.isnull().any()"
   ]
  },
  {
   "cell_type": "code",
   "execution_count": 8,
   "id": "f418b96c-4498-44ff-823d-7ee4583e7e88",
   "metadata": {},
   "outputs": [
    {
     "data": {
      "text/plain": [
       "<Axes: >"
      ]
     },
     "execution_count": 8,
     "metadata": {},
     "output_type": "execute_result"
    },
    {
     "data": {
      "image/png": "[encoded data removed]",
      "text/plain": [
       "<Figure size 640x480 with 1 Axes>"
      ]
     },
     "metadata": {},
     "output_type": "display_data"
    }
   ],
   "source": [
    "#Checking for null values using a heatmap\n",
    "sns.heatmap(salary_df.isnull(), cbar = False, yticklabels = False, cmap = 'Blues')\n",
    "#here you see everything is blue and there are no dark spots that means that there are no missing values"
   ]
  },
  {
   "cell_type": "code",
   "execution_count": 9,
   "id": "937e7a64-461b-4f89-b074-2b874847d0c7",
   "metadata": {},
   "outputs": [
    {
     "name": "stdout",
     "output_type": "stream",
     "text": [
      "<class 'pandas.core.frame.DataFrame'>\n",
      "RangeIndex: 35 entries, 0 to 34\n",
      "Data columns (total 2 columns):\n",
      " #   Column           Non-Null Count  Dtype  \n",
      "---  ------           --------------  -----  \n",
      " 0   YearsExperience  35 non-null     float64\n",
      " 1   Salary           35 non-null     int64  \n",
      "dtypes: float64(1), int64(1)\n",
      "memory usage: 692.0 bytes\n"
     ]
    }
   ],
   "source": [
    "#info of the dataframe\n",
    "#gives the info of the columns, non-null values and data types\n",
    "salary_df.info()"
   ]
  },
  {
   "cell_type": "code",
   "execution_count": 10,
   "id": "3ce996f5-8212-4ad5-ac2e-eb344819820c",
   "metadata": {},
   "outputs": [
    {
     "data": {
      "text/html": [
       "<div>\n",
       "<style scoped>\n",
       "    .dataframe tbody tr th:only-of-type {\n",
       "        vertical-align: middle;\n",
       "    }\n",
       "\n",
       "    .dataframe tbody tr th {\n",
       "        vertical-align: top;\n",
       "    }\n",
       "\n",
       "    .dataframe thead th {\n",
       "        text-align: right;\n",
       "    }\n",
       "</style>\n",
       "<table border=\"1\" class=\"dataframe\">\n",
       "  <thead>\n",
       "    <tr style=\"text-align: right;\">\n",
       "      <th></th>\n",
       "      <th>YearsExperience</th>\n",
       "      <th>Salary</th>\n",
       "    </tr>\n",
       "  </thead>\n",
       "  <tbody>\n",
       "    <tr>\n",
       "      <th>count</th>\n",
       "      <td>35.000000</td>\n",
       "      <td>35.000000</td>\n",
       "    </tr>\n",
       "    <tr>\n",
       "      <th>mean</th>\n",
       "      <td>6.308571</td>\n",
       "      <td>83945.600000</td>\n",
       "    </tr>\n",
       "    <tr>\n",
       "      <th>std</th>\n",
       "      <td>3.618610</td>\n",
       "      <td>32162.673003</td>\n",
       "    </tr>\n",
       "    <tr>\n",
       "      <th>min</th>\n",
       "      <td>1.100000</td>\n",
       "      <td>37731.000000</td>\n",
       "    </tr>\n",
       "    <tr>\n",
       "      <th>25%</th>\n",
       "      <td>3.450000</td>\n",
       "      <td>57019.000000</td>\n",
       "    </tr>\n",
       "    <tr>\n",
       "      <th>50%</th>\n",
       "      <td>5.300000</td>\n",
       "      <td>81363.000000</td>\n",
       "    </tr>\n",
       "    <tr>\n",
       "      <th>75%</th>\n",
       "      <td>9.250000</td>\n",
       "      <td>113223.500000</td>\n",
       "    </tr>\n",
       "    <tr>\n",
       "      <th>max</th>\n",
       "      <td>13.500000</td>\n",
       "      <td>139465.000000</td>\n",
       "    </tr>\n",
       "  </tbody>\n",
       "</table>\n",
       "</div>"
      ],
      "text/plain": [
       "       YearsExperience         Salary\n",
       "count        35.000000      35.000000\n",
       "mean          6.308571   83945.600000\n",
       "std           3.618610   32162.673003\n",
       "min           1.100000   37731.000000\n",
       "25%           3.450000   57019.000000\n",
       "50%           5.300000   81363.000000\n",
       "75%           9.250000  113223.500000\n",
       "max          13.500000  139465.000000"
      ]
     },
     "execution_count": 10,
     "metadata": {},
     "output_type": "execute_result"
    }
   ],
   "source": [
    "#summary of the dataframe\n",
    "salary_df.describe()"
   ]
  },
  {
   "cell_type": "markdown",
   "id": "1b0b51bc-8899-4fe7-9a67-90e0d9dfab43",
   "metadata": {},
   "source": [
    "## What are the number of years corresponding to employees with minimum and maximum years of experience?"
   ]
  },
  {
   "cell_type": "code",
   "execution_count": 11,
   "id": "2762a1ce-a2e8-40bb-be53-d6525bd83d58",
   "metadata": {},
   "outputs": [
    {
     "data": {
      "text/plain": [
       "139465"
      ]
     },
     "execution_count": 11,
     "metadata": {},
     "output_type": "execute_result"
    }
   ],
   "source": [
    "#value of max_salary that was calculated before\n",
    "max_salary"
   ]
  },
  {
   "cell_type": "code",
   "execution_count": 12,
   "id": "afe0ba45-5af3-4e47-84ae-84e0133cb408",
   "metadata": {},
   "outputs": [
    {
     "name": "stdout",
     "output_type": "stream",
     "text": [
      "13.5\n"
     ]
    }
   ],
   "source": [
    "#finding the number of years corresponding to maximum salary\n",
    "salary_df_max = salary_df[salary_df['Salary'] == max_salary]\n",
    "years_max_salary = salary_df_max['YearsExperience'].to_string(index=False)\n",
    "print(years_max_salary)"
   ]
  },
  {
   "cell_type": "code",
   "execution_count": 13,
   "id": "660fad63-e990-4da9-a216-a4f6bf54903f",
   "metadata": {},
   "outputs": [
    {
     "data": {
      "text/plain": [
       "37731"
      ]
     },
     "execution_count": 13,
     "metadata": {},
     "output_type": "execute_result"
    }
   ],
   "source": [
    "#value of minimum salary\n",
    "salary_min = salary_df['Salary'].min()\n",
    "salary_min"
   ]
  },
  {
   "cell_type": "code",
   "execution_count": 14,
   "id": "fada0de5-1349-4d1d-8798-3cc189072410",
   "metadata": {},
   "outputs": [
    {
     "data": {
      "text/html": [
       "<div>\n",
       "<style scoped>\n",
       "    .dataframe tbody tr th:only-of-type {\n",
       "        vertical-align: middle;\n",
       "    }\n",
       "\n",
       "    .dataframe tbody tr th {\n",
       "        vertical-align: top;\n",
       "    }\n",
       "\n",
       "    .dataframe thead th {\n",
       "        text-align: right;\n",
       "    }\n",
       "</style>\n",
       "<table border=\"1\" class=\"dataframe\">\n",
       "  <thead>\n",
       "    <tr style=\"text-align: right;\">\n",
       "      <th></th>\n",
       "      <th>YearsExperience</th>\n",
       "      <th>Salary</th>\n",
       "    </tr>\n",
       "  </thead>\n",
       "  <tbody>\n",
       "    <tr>\n",
       "      <th>2</th>\n",
       "      <td>1.5</td>\n",
       "      <td>37731</td>\n",
       "    </tr>\n",
       "  </tbody>\n",
       "</table>\n",
       "</div>"
      ],
      "text/plain": [
       "   YearsExperience  Salary\n",
       "2              1.5   37731"
      ]
     },
     "execution_count": 14,
     "metadata": {},
     "output_type": "execute_result"
    }
   ],
   "source": [
    "#finding the number of years corresponding to the minimum salary (in a dataframe form)\n",
    "salary_df_min = salary_df[salary_df['Salary'] == salary_min]\n",
    "salary_df_min"
   ]
  },
  {
   "cell_type": "markdown",
   "id": "56f4ea14-808d-4262-af66-5202fd68f32a",
   "metadata": {},
   "source": [
    "Conclusion: Here we observe that someone who has worked for 1.1 years is actually making a little more than someone who has worked for 1.5 years."
   ]
  },
  {
   "cell_type": "code",
   "execution_count": 15,
   "id": "a3d5c3f6-651a-4e84-a738-57d55f7be94f",
   "metadata": {},
   "outputs": [
    {
     "data": {
      "text/plain": [
       "array([[<Axes: title={'center': 'YearsExperience'}>,\n",
       "        <Axes: title={'center': 'Salary'}>]], dtype=object)"
      ]
     },
     "execution_count": 15,
     "metadata": {},
     "output_type": "execute_result"
    },
    {
     "data": {
      "image/png": "[encoded data removed]",
      "text/plain": [
       "<Figure size 2000x1000 with 2 Axes>"
      ]
     },
     "metadata": {},
     "output_type": "display_data"
    }
   ],
   "source": [
    "# plotting a histogram to see the distribution of all the columns in the dataset\n",
    "salary_df.hist(bins = 30, figsize = (20,10), color = 'r')"
   ]
  },
  {
   "cell_type": "code",
   "execution_count": 16,
   "id": "9bd3e12f-5515-47c6-8e29-6ba2d548bb4f",
   "metadata": {},
   "outputs": [
    {
     "data": {
      "text/plain": [
       "<seaborn.axisgrid.PairGrid at 0x7f76a033b0d0>"
      ]
     },
     "execution_count": 16,
     "metadata": {},
     "output_type": "execute_result"
    },
    {
     "data": {
      "image/png": "[encoded data removed]",
      "text/plain": [
       "<Figure size 500x500 with 6 Axes>"
      ]
     },
     "metadata": {},
     "output_type": "display_data"
    }
   ],
   "source": [
    "sns.pairplot(salary_df)"
   ]
  },
  {
   "cell_type": "markdown",
   "id": "fa7082b4-a456-40df-90e3-e9513e76e4a9",
   "metadata": {},
   "source": [
    "From the above figure we observe that as the years of experience increase the salary also increases."
   ]
  },
  {
   "cell_type": "code",
   "execution_count": 17,
   "id": "e778b50e-c1a4-40f0-8a10-07bef139023f",
   "metadata": {},
   "outputs": [
    {
     "data": {
      "text/html": [
       "<div>\n",
       "<style scoped>\n",
       "    .dataframe tbody tr th:only-of-type {\n",
       "        vertical-align: middle;\n",
       "    }\n",
       "\n",
       "    .dataframe tbody tr th {\n",
       "        vertical-align: top;\n",
       "    }\n",
       "\n",
       "    .dataframe thead th {\n",
       "        text-align: right;\n",
       "    }\n",
       "</style>\n",
       "<table border=\"1\" class=\"dataframe\">\n",
       "  <thead>\n",
       "    <tr style=\"text-align: right;\">\n",
       "      <th></th>\n",
       "      <th>YearsExperience</th>\n",
       "      <th>Salary</th>\n",
       "    </tr>\n",
       "  </thead>\n",
       "  <tbody>\n",
       "    <tr>\n",
       "      <th>YearsExperience</th>\n",
       "      <td>1.000000</td>\n",
       "      <td>0.982427</td>\n",
       "    </tr>\n",
       "    <tr>\n",
       "      <th>Salary</th>\n",
       "      <td>0.982427</td>\n",
       "      <td>1.000000</td>\n",
       "    </tr>\n",
       "  </tbody>\n",
       "</table>\n",
       "</div>"
      ],
      "text/plain": [
       "                 YearsExperience    Salary\n",
       "YearsExperience         1.000000  0.982427\n",
       "Salary                  0.982427  1.000000"
      ]
     },
     "execution_count": 17,
     "metadata": {},
     "output_type": "execute_result"
    }
   ],
   "source": [
    "#correlation matrix\n",
    "corr_matrix = salary_df.corr()\n",
    "corr_matrix"
   ]
  },
  {
   "cell_type": "code",
   "execution_count": 18,
   "id": "9ae1fe40-a75f-4037-b826-81373acde513",
   "metadata": {},
   "outputs": [
    {
     "data": {
      "image/png": "[encoded data removed]",
      "text/plain": [
       "<Figure size 640x480 with 2 Axes>"
      ]
     },
     "metadata": {},
     "output_type": "display_data"
    }
   ],
   "source": [
    "sns.heatmap(corr_matrix, annot = True)\n",
    "plt.show() #removes the extra axes marker on the top"
   ]
  },
  {
   "cell_type": "markdown",
   "id": "36065889-9aef-4efe-a8aa-b8bdf249188a",
   "metadata": {},
   "source": [
    "Using regplot in Seaborn below to obtain a straight line fit between \"salary\" and \"years of experience\" "
   ]
  },
  {
   "cell_type": "code",
   "execution_count": 19,
   "id": "2f457f9e-4d5e-4902-a897-d317b2242170",
   "metadata": {},
   "outputs": [
    {
     "data": {
      "text/plain": [
       "<Axes: xlabel='YearsExperience', ylabel='Salary'>"
      ]
     },
     "execution_count": 19,
     "metadata": {},
     "output_type": "execute_result"
    },
    {
     "data": {
      "image/png": "[encoded data removed]",
      "text/plain": [
       "<Figure size 640x480 with 1 Axes>"
      ]
     },
     "metadata": {},
     "output_type": "display_data"
    }
   ],
   "source": [
    "#regplot in seaborn is used to fit a straight line to the dataset\n",
    "sns.regplot(x ='YearsExperience', y = 'Salary', data = salary_df)"
   ]
  },
  {
   "cell_type": "markdown",
   "id": "2ae60a39-be78-41b4-ba6c-3fec0ae2b8e3",
   "metadata": {},
   "source": [
    "# Task 4: Create a Training and Test dataset"
   ]
  },
  {
   "cell_type": "code",
   "execution_count": 20,
   "id": "c0e7a59b-8f2a-4100-b53f-e4f231dd451d",
   "metadata": {},
   "outputs": [
    {
     "data": {
      "text/html": [
       "<div>\n",
       "<style scoped>\n",
       "    .dataframe tbody tr th:only-of-type {\n",
       "        vertical-align: middle;\n",
       "    }\n",
       "\n",
       "    .dataframe tbody tr th {\n",
       "        vertical-align: top;\n",
       "    }\n",
       "\n",
       "    .dataframe thead th {\n",
       "        text-align: right;\n",
       "    }\n",
       "</style>\n",
       "<table border=\"1\" class=\"dataframe\">\n",
       "  <thead>\n",
       "    <tr style=\"text-align: right;\">\n",
       "      <th></th>\n",
       "      <th>YearsExperience</th>\n",
       "    </tr>\n",
       "  </thead>\n",
       "  <tbody>\n",
       "    <tr>\n",
       "      <th>0</th>\n",
       "      <td>1.1</td>\n",
       "    </tr>\n",
       "    <tr>\n",
       "      <th>1</th>\n",
       "      <td>1.3</td>\n",
       "    </tr>\n",
       "    <tr>\n",
       "      <th>2</th>\n",
       "      <td>1.5</td>\n",
       "    </tr>\n",
       "    <tr>\n",
       "      <th>3</th>\n",
       "      <td>2.0</td>\n",
       "    </tr>\n",
       "    <tr>\n",
       "      <th>4</th>\n",
       "      <td>2.2</td>\n",
       "    </tr>\n",
       "    <tr>\n",
       "      <th>5</th>\n",
       "      <td>2.9</td>\n",
       "    </tr>\n",
       "    <tr>\n",
       "      <th>6</th>\n",
       "      <td>3.0</td>\n",
       "    </tr>\n",
       "    <tr>\n",
       "      <th>7</th>\n",
       "      <td>3.2</td>\n",
       "    </tr>\n",
       "    <tr>\n",
       "      <th>8</th>\n",
       "      <td>3.2</td>\n",
       "    </tr>\n",
       "    <tr>\n",
       "      <th>9</th>\n",
       "      <td>3.7</td>\n",
       "    </tr>\n",
       "    <tr>\n",
       "      <th>10</th>\n",
       "      <td>3.9</td>\n",
       "    </tr>\n",
       "    <tr>\n",
       "      <th>11</th>\n",
       "      <td>4.0</td>\n",
       "    </tr>\n",
       "    <tr>\n",
       "      <th>12</th>\n",
       "      <td>4.0</td>\n",
       "    </tr>\n",
       "    <tr>\n",
       "      <th>13</th>\n",
       "      <td>4.1</td>\n",
       "    </tr>\n",
       "    <tr>\n",
       "      <th>14</th>\n",
       "      <td>4.5</td>\n",
       "    </tr>\n",
       "    <tr>\n",
       "      <th>15</th>\n",
       "      <td>4.9</td>\n",
       "    </tr>\n",
       "    <tr>\n",
       "      <th>16</th>\n",
       "      <td>5.1</td>\n",
       "    </tr>\n",
       "    <tr>\n",
       "      <th>17</th>\n",
       "      <td>5.3</td>\n",
       "    </tr>\n",
       "    <tr>\n",
       "      <th>18</th>\n",
       "      <td>5.9</td>\n",
       "    </tr>\n",
       "    <tr>\n",
       "      <th>19</th>\n",
       "      <td>6.0</td>\n",
       "    </tr>\n",
       "    <tr>\n",
       "      <th>20</th>\n",
       "      <td>6.8</td>\n",
       "    </tr>\n",
       "    <tr>\n",
       "      <th>21</th>\n",
       "      <td>7.1</td>\n",
       "    </tr>\n",
       "    <tr>\n",
       "      <th>22</th>\n",
       "      <td>7.9</td>\n",
       "    </tr>\n",
       "    <tr>\n",
       "      <th>23</th>\n",
       "      <td>8.2</td>\n",
       "    </tr>\n",
       "    <tr>\n",
       "      <th>24</th>\n",
       "      <td>8.7</td>\n",
       "    </tr>\n",
       "    <tr>\n",
       "      <th>25</th>\n",
       "      <td>9.0</td>\n",
       "    </tr>\n",
       "    <tr>\n",
       "      <th>26</th>\n",
       "      <td>9.5</td>\n",
       "    </tr>\n",
       "    <tr>\n",
       "      <th>27</th>\n",
       "      <td>9.6</td>\n",
       "    </tr>\n",
       "    <tr>\n",
       "      <th>28</th>\n",
       "      <td>10.3</td>\n",
       "    </tr>\n",
       "    <tr>\n",
       "      <th>29</th>\n",
       "      <td>10.5</td>\n",
       "    </tr>\n",
       "    <tr>\n",
       "      <th>30</th>\n",
       "      <td>11.2</td>\n",
       "    </tr>\n",
       "    <tr>\n",
       "      <th>31</th>\n",
       "      <td>11.5</td>\n",
       "    </tr>\n",
       "    <tr>\n",
       "      <th>32</th>\n",
       "      <td>12.3</td>\n",
       "    </tr>\n",
       "    <tr>\n",
       "      <th>33</th>\n",
       "      <td>12.9</td>\n",
       "    </tr>\n",
       "    <tr>\n",
       "      <th>34</th>\n",
       "      <td>13.5</td>\n",
       "    </tr>\n",
       "  </tbody>\n",
       "</table>\n",
       "</div>"
      ],
      "text/plain": [
       "    YearsExperience\n",
       "0               1.1\n",
       "1               1.3\n",
       "2               1.5\n",
       "3               2.0\n",
       "4               2.2\n",
       "5               2.9\n",
       "6               3.0\n",
       "7               3.2\n",
       "8               3.2\n",
       "9               3.7\n",
       "10              3.9\n",
       "11              4.0\n",
       "12              4.0\n",
       "13              4.1\n",
       "14              4.5\n",
       "15              4.9\n",
       "16              5.1\n",
       "17              5.3\n",
       "18              5.9\n",
       "19              6.0\n",
       "20              6.8\n",
       "21              7.1\n",
       "22              7.9\n",
       "23              8.2\n",
       "24              8.7\n",
       "25              9.0\n",
       "26              9.5\n",
       "27              9.6\n",
       "28             10.3\n",
       "29             10.5\n",
       "30             11.2\n",
       "31             11.5\n",
       "32             12.3\n",
       "33             12.9\n",
       "34             13.5"
      ]
     },
     "execution_count": 20,
     "metadata": {},
     "output_type": "execute_result"
    }
   ],
   "source": [
    "#independent features\n",
    "#represented by capital X\n",
    "X = salary_df[['YearsExperience']]\n",
    "X"
   ]
  },
  {
   "cell_type": "code",
   "execution_count": 21,
   "id": "5b6e87fb-f8f4-4002-8ecb-a473e76d6465",
   "metadata": {},
   "outputs": [
    {
     "data": {
      "text/html": [
       "<div>\n",
       "<style scoped>\n",
       "    .dataframe tbody tr th:only-of-type {\n",
       "        vertical-align: middle;\n",
       "    }\n",
       "\n",
       "    .dataframe tbody tr th {\n",
       "        vertical-align: top;\n",
       "    }\n",
       "\n",
       "    .dataframe thead th {\n",
       "        text-align: right;\n",
       "    }\n",
       "</style>\n",
       "<table border=\"1\" class=\"dataframe\">\n",
       "  <thead>\n",
       "    <tr style=\"text-align: right;\">\n",
       "      <th></th>\n",
       "      <th>Salary</th>\n",
       "    </tr>\n",
       "  </thead>\n",
       "  <tbody>\n",
       "    <tr>\n",
       "      <th>0</th>\n",
       "      <td>39343</td>\n",
       "    </tr>\n",
       "    <tr>\n",
       "      <th>1</th>\n",
       "      <td>46205</td>\n",
       "    </tr>\n",
       "    <tr>\n",
       "      <th>2</th>\n",
       "      <td>37731</td>\n",
       "    </tr>\n",
       "    <tr>\n",
       "      <th>3</th>\n",
       "      <td>43525</td>\n",
       "    </tr>\n",
       "    <tr>\n",
       "      <th>4</th>\n",
       "      <td>39891</td>\n",
       "    </tr>\n",
       "    <tr>\n",
       "      <th>5</th>\n",
       "      <td>56642</td>\n",
       "    </tr>\n",
       "    <tr>\n",
       "      <th>6</th>\n",
       "      <td>60150</td>\n",
       "    </tr>\n",
       "    <tr>\n",
       "      <th>7</th>\n",
       "      <td>54445</td>\n",
       "    </tr>\n",
       "    <tr>\n",
       "      <th>8</th>\n",
       "      <td>64445</td>\n",
       "    </tr>\n",
       "    <tr>\n",
       "      <th>9</th>\n",
       "      <td>57189</td>\n",
       "    </tr>\n",
       "    <tr>\n",
       "      <th>10</th>\n",
       "      <td>63218</td>\n",
       "    </tr>\n",
       "    <tr>\n",
       "      <th>11</th>\n",
       "      <td>55794</td>\n",
       "    </tr>\n",
       "    <tr>\n",
       "      <th>12</th>\n",
       "      <td>56957</td>\n",
       "    </tr>\n",
       "    <tr>\n",
       "      <th>13</th>\n",
       "      <td>57081</td>\n",
       "    </tr>\n",
       "    <tr>\n",
       "      <th>14</th>\n",
       "      <td>61111</td>\n",
       "    </tr>\n",
       "    <tr>\n",
       "      <th>15</th>\n",
       "      <td>67938</td>\n",
       "    </tr>\n",
       "    <tr>\n",
       "      <th>16</th>\n",
       "      <td>66029</td>\n",
       "    </tr>\n",
       "    <tr>\n",
       "      <th>17</th>\n",
       "      <td>83088</td>\n",
       "    </tr>\n",
       "    <tr>\n",
       "      <th>18</th>\n",
       "      <td>81363</td>\n",
       "    </tr>\n",
       "    <tr>\n",
       "      <th>19</th>\n",
       "      <td>93940</td>\n",
       "    </tr>\n",
       "    <tr>\n",
       "      <th>20</th>\n",
       "      <td>91738</td>\n",
       "    </tr>\n",
       "    <tr>\n",
       "      <th>21</th>\n",
       "      <td>98273</td>\n",
       "    </tr>\n",
       "    <tr>\n",
       "      <th>22</th>\n",
       "      <td>101302</td>\n",
       "    </tr>\n",
       "    <tr>\n",
       "      <th>23</th>\n",
       "      <td>113812</td>\n",
       "    </tr>\n",
       "    <tr>\n",
       "      <th>24</th>\n",
       "      <td>109431</td>\n",
       "    </tr>\n",
       "    <tr>\n",
       "      <th>25</th>\n",
       "      <td>105582</td>\n",
       "    </tr>\n",
       "    <tr>\n",
       "      <th>26</th>\n",
       "      <td>116969</td>\n",
       "    </tr>\n",
       "    <tr>\n",
       "      <th>27</th>\n",
       "      <td>112635</td>\n",
       "    </tr>\n",
       "    <tr>\n",
       "      <th>28</th>\n",
       "      <td>122391</td>\n",
       "    </tr>\n",
       "    <tr>\n",
       "      <th>29</th>\n",
       "      <td>121872</td>\n",
       "    </tr>\n",
       "    <tr>\n",
       "      <th>30</th>\n",
       "      <td>127345</td>\n",
       "    </tr>\n",
       "    <tr>\n",
       "      <th>31</th>\n",
       "      <td>126756</td>\n",
       "    </tr>\n",
       "    <tr>\n",
       "      <th>32</th>\n",
       "      <td>128765</td>\n",
       "    </tr>\n",
       "    <tr>\n",
       "      <th>33</th>\n",
       "      <td>135675</td>\n",
       "    </tr>\n",
       "    <tr>\n",
       "      <th>34</th>\n",
       "      <td>139465</td>\n",
       "    </tr>\n",
       "  </tbody>\n",
       "</table>\n",
       "</div>"
      ],
      "text/plain": [
       "    Salary\n",
       "0    39343\n",
       "1    46205\n",
       "2    37731\n",
       "3    43525\n",
       "4    39891\n",
       "5    56642\n",
       "6    60150\n",
       "7    54445\n",
       "8    64445\n",
       "9    57189\n",
       "10   63218\n",
       "11   55794\n",
       "12   56957\n",
       "13   57081\n",
       "14   61111\n",
       "15   67938\n",
       "16   66029\n",
       "17   83088\n",
       "18   81363\n",
       "19   93940\n",
       "20   91738\n",
       "21   98273\n",
       "22  101302\n",
       "23  113812\n",
       "24  109431\n",
       "25  105582\n",
       "26  116969\n",
       "27  112635\n",
       "28  122391\n",
       "29  121872\n",
       "30  127345\n",
       "31  126756\n",
       "32  128765\n",
       "33  135675\n",
       "34  139465"
      ]
     },
     "execution_count": 21,
     "metadata": {},
     "output_type": "execute_result"
    }
   ],
   "source": [
    "#dependent variables\n",
    "#represented with small y\n",
    "y = salary_df[['Salary']]\n",
    "y"
   ]
  },
  {
   "cell_type": "code",
   "execution_count": 22,
   "id": "6b7a4c81-4a90-4b8d-bb27-68545e0b93a9",
   "metadata": {},
   "outputs": [
    {
     "data": {
      "text/plain": [
       "(35, 1)"
      ]
     },
     "execution_count": 22,
     "metadata": {},
     "output_type": "execute_result"
    }
   ],
   "source": [
    "X.shape"
   ]
  },
  {
   "cell_type": "code",
   "execution_count": 23,
   "id": "8f70f6ea-2943-4378-94c8-cc630a706433",
   "metadata": {},
   "outputs": [
    {
     "data": {
      "text/plain": [
       "(35, 1)"
      ]
     },
     "execution_count": 23,
     "metadata": {},
     "output_type": "execute_result"
    }
   ],
   "source": [
    "#ensuring that the shape of X and y are the same\n",
    "y.shape"
   ]
  },
  {
   "cell_type": "code",
   "execution_count": 24,
   "id": "e0f3a6cd-1987-48b9-8e6b-30b9795cd973",
   "metadata": {},
   "outputs": [],
   "source": [
    "#for linear learner algorithm in aws sagemaker you need the training and test data to be float values\n",
    "#and in an np array\n",
    "X = np.array(X).astype('float32')\n",
    "y = np.array(y).astype('float32')"
   ]
  },
  {
   "cell_type": "code",
   "execution_count": 25,
   "id": "807740eb-60dc-43e9-9067-5bb301beb5ac",
   "metadata": {},
   "outputs": [
    {
     "data": {
      "text/plain": [
       "array([[ 1.1],\n",
       "       [ 1.3],\n",
       "       [ 1.5],\n",
       "       [ 2. ],\n",
       "       [ 2.2],\n",
       "       [ 2.9],\n",
       "       [ 3. ],\n",
       "       [ 3.2],\n",
       "       [ 3.2],\n",
       "       [ 3.7],\n",
       "       [ 3.9],\n",
       "       [ 4. ],\n",
       "       [ 4. ],\n",
       "       [ 4.1],\n",
       "       [ 4.5],\n",
       "       [ 4.9],\n",
       "       [ 5.1],\n",
       "       [ 5.3],\n",
       "       [ 5.9],\n",
       "       [ 6. ],\n",
       "       [ 6.8],\n",
       "       [ 7.1],\n",
       "       [ 7.9],\n",
       "       [ 8.2],\n",
       "       [ 8.7],\n",
       "       [ 9. ],\n",
       "       [ 9.5],\n",
       "       [ 9.6],\n",
       "       [10.3],\n",
       "       [10.5],\n",
       "       [11.2],\n",
       "       [11.5],\n",
       "       [12.3],\n",
       "       [12.9],\n",
       "       [13.5]], dtype=float32)"
      ]
     },
     "execution_count": 25,
     "metadata": {},
     "output_type": "execute_result"
    }
   ],
   "source": [
    "X"
   ]
  },
  {
   "cell_type": "code",
   "execution_count": 26,
   "id": "bd9e019a-ab1a-4046-a3e5-e9c58bdb5c7f",
   "metadata": {},
   "outputs": [
    {
     "data": {
      "text/plain": [
       "array([[ 39343.],\n",
       "       [ 46205.],\n",
       "       [ 37731.],\n",
       "       [ 43525.],\n",
       "       [ 39891.],\n",
       "       [ 56642.],\n",
       "       [ 60150.],\n",
       "       [ 54445.],\n",
       "       [ 64445.],\n",
       "       [ 57189.],\n",
       "       [ 63218.],\n",
       "       [ 55794.],\n",
       "       [ 56957.],\n",
       "       [ 57081.],\n",
       "       [ 61111.],\n",
       "       [ 67938.],\n",
       "       [ 66029.],\n",
       "       [ 83088.],\n",
       "       [ 81363.],\n",
       "       [ 93940.],\n",
       "       [ 91738.],\n",
       "       [ 98273.],\n",
       "       [101302.],\n",
       "       [113812.],\n",
       "       [109431.],\n",
       "       [105582.],\n",
       "       [116969.],\n",
       "       [112635.],\n",
       "       [122391.],\n",
       "       [121872.],\n",
       "       [127345.],\n",
       "       [126756.],\n",
       "       [128765.],\n",
       "       [135675.],\n",
       "       [139465.]], dtype=float32)"
      ]
     },
     "execution_count": 26,
     "metadata": {},
     "output_type": "execute_result"
    }
   ],
   "source": [
    "y"
   ]
  },
  {
   "cell_type": "code",
   "execution_count": 46,
   "id": "8becab17-4385-4537-8e93-3baf076d0f80",
   "metadata": {},
   "outputs": [],
   "source": [
    "#split into training and testing data (75% training and 25% test)\n",
    "#train test split shuffles the data\n",
    "from sklearn.model_selection import train_test_split\n",
    "\n",
    "X_train, X_test, y_train, y_test = train_test_split(X, y, test_size = 0.2)"
   ]
  },
  {
   "cell_type": "code",
   "execution_count": 47,
   "id": "3f09526f-7e83-4568-b36a-c603aaf95726",
   "metadata": {},
   "outputs": [
    {
     "data": {
      "text/plain": [
       "(28, 1)"
      ]
     },
     "execution_count": 47,
     "metadata": {},
     "output_type": "execute_result"
    }
   ],
   "source": [
    "X_train.shape"
   ]
  },
  {
   "cell_type": "code",
   "execution_count": 48,
   "id": "3083e759-34c7-4ad8-bc62-f2032ddc1029",
   "metadata": {},
   "outputs": [
    {
     "data": {
      "text/plain": [
       "(7, 1)"
      ]
     },
     "execution_count": 48,
     "metadata": {},
     "output_type": "execute_result"
    }
   ],
   "source": [
    "X_test.shape"
   ]
  },
  {
   "cell_type": "code",
   "execution_count": 49,
   "id": "e3b4b347-e53e-4e76-b6c7-53ea16a4b7e1",
   "metadata": {},
   "outputs": [
    {
     "data": {
      "text/plain": [
       "(28, 1)"
      ]
     },
     "execution_count": 49,
     "metadata": {},
     "output_type": "execute_result"
    }
   ],
   "source": [
    "y_train.shape"
   ]
  },
  {
   "cell_type": "markdown",
   "id": "b2c94975-dec7-421f-b1d6-71e90cb4d4d5",
   "metadata": {},
   "source": [
    "# TASK 5: TRAIN A LINEAR REGRESSION MODEL IN SKLEARN (without sagemaker built in algorithm)"
   ]
  },
  {
   "cell_type": "code",
   "execution_count": 50,
   "id": "d3633260-3c0b-4da7-97a6-685ef91a069a",
   "metadata": {},
   "outputs": [
    {
     "data": {
      "text/html": [
       "<style>#sk-container-id-3 {\n",
       "  /* Definition of color scheme common for light and dark mode */\n",
       "  --sklearn-color-text: black;\n",
       "  --sklearn-color-line: gray;\n",
       "  /* Definition of color scheme for unfitted estimators */\n",
       "  --sklearn-color-unfitted-level-0: #fff5e6;\n",
       "  --sklearn-color-unfitted-level-1: #f6e4d2;\n",
       "  --sklearn-color-unfitted-level-2: #ffe0b3;\n",
       "  --sklearn-color-unfitted-level-3: chocolate;\n",
       "  /* Definition of color scheme for fitted estimators */\n",
       "  --sklearn-color-fitted-level-0: #f0f8ff;\n",
       "  --sklearn-color-fitted-level-1: #d4ebff;\n",
       "  --sklearn-color-fitted-level-2: #b3dbfd;\n",
       "  --sklearn-color-fitted-level-3: cornflowerblue;\n",
       "\n",
       "  /* Specific color for light theme */\n",
       "  --sklearn-color-text-on-default-background: var(--sg-text-color, var(--theme-code-foreground, var(--jp-content-font-color1, black)));\n",
       "  --sklearn-color-background: var(--sg-background-color, var(--theme-background, var(--jp-layout-color0, white)));\n",
       "  --sklearn-color-border-box: var(--sg-text-color, var(--theme-code-foreground, var(--jp-content-font-color1, black)));\n",
       "  --sklearn-color-icon: #696969;\n",
       "\n",
       "  @media (prefers-color-scheme: dark) {\n",
       "    /* Redefinition of color scheme for dark theme */\n",
       "    --sklearn-color-text-on-default-background: var(--sg-text-color, var(--theme-code-foreground, var(--jp-content-font-color1, white)));\n",
       "    --sklearn-color-background: var(--sg-background-color, var(--theme-background, var(--jp-layout-color0, #111)));\n",
       "    --sklearn-color-border-box: var(--sg-text-color, var(--theme-code-foreground, var(--jp-content-font-color1, white)));\n",
       "    --sklearn-color-icon: #878787;\n",
       "  }\n",
       "}\n",
       "\n",
       "#sk-container-id-3 {\n",
       "  color: var(--sklearn-color-text);\n",
       "}\n",
       "\n",
       "#sk-container-id-3 pre {\n",
       "  padding: 0;\n",
       "}\n",
       "\n",
       "#sk-container-id-3 input.sk-hidden--visually {\n",
       "  border: 0;\n",
       "  clip: rect(1px 1px 1px 1px);\n",
       "  clip: rect(1px, 1px, 1px, 1px);\n",
       "  height: 1px;\n",
       "  margin: -1px;\n",
       "  overflow: hidden;\n",
       "  padding: 0;\n",
       "  position: absolute;\n",
       "  width: 1px;\n",
       "}\n",
       "\n",
       "#sk-container-id-3 div.sk-dashed-wrapped {\n",
       "  border: 1px dashed var(--sklearn-color-line);\n",
       "  margin: 0 0.4em 0.5em 0.4em;\n",
       "  box-sizing: border-box;\n",
       "  padding-bottom: 0.4em;\n",
       "  background-color: var(--sklearn-color-background);\n",
       "}\n",
       "\n",
       "#sk-container-id-3 div.sk-container {\n",
       "  /* jupyter's `normalize.less` sets `[hidden] { display: none; }`\n",
       "     but bootstrap.min.css set `[hidden] { display: none !important; }`\n",
       "     so we also need the `!important` here to be able to override the\n",
       "     default hidden behavior on the sphinx rendered scikit-learn.org.\n",
       "     See: https://github.com/scikit-learn/scikit-learn/issues/21755 */\n",
       "  display: inline-block !important;\n",
       "  position: relative;\n",
       "}\n",
       "\n",
       "#sk-container-id-3 div.sk-text-repr-fallback {\n",
       "  display: none;\n",
       "}\n",
       "\n",
       "div.sk-parallel-item,\n",
       "div.sk-serial,\n",
       "div.sk-item {\n",
       "  /* draw centered vertical line to link estimators */\n",
       "  background-image: linear-gradient(var(--sklearn-color-text-on-default-background), var(--sklearn-color-text-on-default-background));\n",
       "  background-size: 2px 100%;\n",
       "  background-repeat: no-repeat;\n",
       "  background-position: center center;\n",
       "}\n",
       "\n",
       "/* Parallel-specific style estimator block */\n",
       "\n",
       "#sk-container-id-3 div.sk-parallel-item::after {\n",
       "  content: \"\";\n",
       "  width: 100%;\n",
       "  border-bottom: 2px solid var(--sklearn-color-text-on-default-background);\n",
       "  flex-grow: 1;\n",
       "}\n",
       "\n",
       "#sk-container-id-3 div.sk-parallel {\n",
       "  display: flex;\n",
       "  align-items: stretch;\n",
       "  justify-content: center;\n",
       "  background-color: var(--sklearn-color-background);\n",
       "  position: relative;\n",
       "}\n",
       "\n",
       "#sk-container-id-3 div.sk-parallel-item {\n",
       "  display: flex;\n",
       "  flex-direction: column;\n",
       "}\n",
       "\n",
       "#sk-container-id-3 div.sk-parallel-item:first-child::after {\n",
       "  align-self: flex-end;\n",
       "  width: 50%;\n",
       "}\n",
       "\n",
       "#sk-container-id-3 div.sk-parallel-item:last-child::after {\n",
       "  align-self: flex-start;\n",
       "  width: 50%;\n",
       "}\n",
       "\n",
       "#sk-container-id-3 div.sk-parallel-item:only-child::after {\n",
       "  width: 0;\n",
       "}\n",
       "\n",
       "/* Serial-specific style estimator block */\n",
       "\n",
       "#sk-container-id-3 div.sk-serial {\n",
       "  display: flex;\n",
       "  flex-direction: column;\n",
       "  align-items: center;\n",
       "  background-color: var(--sklearn-color-background);\n",
       "  padding-right: 1em;\n",
       "  padding-left: 1em;\n",
       "}\n",
       "\n",
       "\n",
       "/* Toggleable style: style used for estimator/Pipeline/ColumnTransformer box that is\n",
       "clickable and can be expanded/collapsed.\n",
       "- Pipeline and ColumnTransformer use this feature and define the default style\n",
       "- Estimators will overwrite some part of the style using the `sk-estimator` class\n",
       "*/\n",
       "\n",
       "/* Pipeline and ColumnTransformer style (default) */\n",
       "\n",
       "#sk-container-id-3 div.sk-toggleable {\n",
       "  /* Default theme specific background. It is overwritten whether we have a\n",
       "  specific estimator or a Pipeline/ColumnTransformer */\n",
       "  background-color: var(--sklearn-color-background);\n",
       "}\n",
       "\n",
       "/* Toggleable label */\n",
       "#sk-container-id-3 label.sk-toggleable__label {\n",
       "  cursor: pointer;\n",
       "  display: block;\n",
       "  width: 100%;\n",
       "  margin-bottom: 0;\n",
       "  padding: 0.5em;\n",
       "  box-sizing: border-box;\n",
       "  text-align: center;\n",
       "}\n",
       "\n",
       "#sk-container-id-3 label.sk-toggleable__label-arrow:before {\n",
       "  /* Arrow on the left of the label */\n",
       "  content: \"▸\";\n",
       "  float: left;\n",
       "  margin-right: 0.25em;\n",
       "  color: var(--sklearn-color-icon);\n",
       "}\n",
       "\n",
       "#sk-container-id-3 label.sk-toggleable__label-arrow:hover:before {\n",
       "  color: var(--sklearn-color-text);\n",
       "}\n",
       "\n",
       "/* Toggleable content - dropdown */\n",
       "\n",
       "#sk-container-id-3 div.sk-toggleable__content {\n",
       "  max-height: 0;\n",
       "  max-width: 0;\n",
       "  overflow: hidden;\n",
       "  text-align: left;\n",
       "  /* unfitted */\n",
       "  background-color: var(--sklearn-color-unfitted-level-0);\n",
       "}\n",
       "\n",
       "#sk-container-id-3 div.sk-toggleable__content.fitted {\n",
       "  /* fitted */\n",
       "  background-color: var(--sklearn-color-fitted-level-0);\n",
       "}\n",
       "\n",
       "#sk-container-id-3 div.sk-toggleable__content pre {\n",
       "  margin: 0.2em;\n",
       "  border-radius: 0.25em;\n",
       "  color: var(--sklearn-color-text);\n",
       "  /* unfitted */\n",
       "  background-color: var(--sklearn-color-unfitted-level-0);\n",
       "}\n",
       "\n",
       "#sk-container-id-3 div.sk-toggleable__content.fitted pre {\n",
       "  /* unfitted */\n",
       "  background-color: var(--sklearn-color-fitted-level-0);\n",
       "}\n",
       "\n",
       "#sk-container-id-3 input.sk-toggleable__control:checked~div.sk-toggleable__content {\n",
       "  /* Expand drop-down */\n",
       "  max-height: 200px;\n",
       "  max-width: 100%;\n",
       "  overflow: auto;\n",
       "}\n",
       "\n",
       "#sk-container-id-3 input.sk-toggleable__control:checked~label.sk-toggleable__label-arrow:before {\n",
       "  content: \"▾\";\n",
       "}\n",
       "\n",
       "/* Pipeline/ColumnTransformer-specific style */\n",
       "\n",
       "#sk-container-id-3 div.sk-label input.sk-toggleable__control:checked~label.sk-toggleable__label {\n",
       "  color: var(--sklearn-color-text);\n",
       "  background-color: var(--sklearn-color-unfitted-level-2);\n",
       "}\n",
       "\n",
       "#sk-container-id-3 div.sk-label.fitted input.sk-toggleable__control:checked~label.sk-toggleable__label {\n",
       "  background-color: var(--sklearn-color-fitted-level-2);\n",
       "}\n",
       "\n",
       "/* Estimator-specific style */\n",
       "\n",
       "/* Colorize estimator box */\n",
       "#sk-container-id-3 div.sk-estimator input.sk-toggleable__control:checked~label.sk-toggleable__label {\n",
       "  /* unfitted */\n",
       "  background-color: var(--sklearn-color-unfitted-level-2);\n",
       "}\n",
       "\n",
       "#sk-container-id-3 div.sk-estimator.fitted input.sk-toggleable__control:checked~label.sk-toggleable__label {\n",
       "  /* fitted */\n",
       "  background-color: var(--sklearn-color-fitted-level-2);\n",
       "}\n",
       "\n",
       "#sk-container-id-3 div.sk-label label.sk-toggleable__label,\n",
       "#sk-container-id-3 div.sk-label label {\n",
       "  /* The background is the default theme color */\n",
       "  color: var(--sklearn-color-text-on-default-background);\n",
       "}\n",
       "\n",
       "/* On hover, darken the color of the background */\n",
       "#sk-container-id-3 div.sk-label:hover label.sk-toggleable__label {\n",
       "  color: var(--sklearn-color-text);\n",
       "  background-color: var(--sklearn-color-unfitted-level-2);\n",
       "}\n",
       "\n",
       "/* Label box, darken color on hover, fitted */\n",
       "#sk-container-id-3 div.sk-label.fitted:hover label.sk-toggleable__label.fitted {\n",
       "  color: var(--sklearn-color-text);\n",
       "  background-color: var(--sklearn-color-fitted-level-2);\n",
       "}\n",
       "\n",
       "/* Estimator label */\n",
       "\n",
       "#sk-container-id-3 div.sk-label label {\n",
       "  font-family: monospace;\n",
       "  font-weight: bold;\n",
       "  display: inline-block;\n",
       "  line-height: 1.2em;\n",
       "}\n",
       "\n",
       "#sk-container-id-3 div.sk-label-container {\n",
       "  text-align: center;\n",
       "}\n",
       "\n",
       "/* Estimator-specific */\n",
       "#sk-container-id-3 div.sk-estimator {\n",
       "  font-family: monospace;\n",
       "  border: 1px dotted var(--sklearn-color-border-box);\n",
       "  border-radius: 0.25em;\n",
       "  box-sizing: border-box;\n",
       "  margin-bottom: 0.5em;\n",
       "  /* unfitted */\n",
       "  background-color: var(--sklearn-color-unfitted-level-0);\n",
       "}\n",
       "\n",
       "#sk-container-id-3 div.sk-estimator.fitted {\n",
       "  /* fitted */\n",
       "  background-color: var(--sklearn-color-fitted-level-0);\n",
       "}\n",
       "\n",
       "/* on hover */\n",
       "#sk-container-id-3 div.sk-estimator:hover {\n",
       "  /* unfitted */\n",
       "  background-color: var(--sklearn-color-unfitted-level-2);\n",
       "}\n",
       "\n",
       "#sk-container-id-3 div.sk-estimator.fitted:hover {\n",
       "  /* fitted */\n",
       "  background-color: var(--sklearn-color-fitted-level-2);\n",
       "}\n",
       "\n",
       "/* Specification for estimator info (e.g. \"i\" and \"?\") */\n",
       "\n",
       "/* Common style for \"i\" and \"?\" */\n",
       "\n",
       ".sk-estimator-doc-link,\n",
       "a:link.sk-estimator-doc-link,\n",
       "a:visited.sk-estimator-doc-link {\n",
       "  float: right;\n",
       "  font-size: smaller;\n",
       "  line-height: 1em;\n",
       "  font-family: monospace;\n",
       "  background-color: var(--sklearn-color-background);\n",
       "  border-radius: 1em;\n",
       "  height: 1em;\n",
       "  width: 1em;\n",
       "  text-decoration: none !important;\n",
       "  margin-left: 1ex;\n",
       "  /* unfitted */\n",
       "  border: var(--sklearn-color-unfitted-level-1) 1pt solid;\n",
       "  color: var(--sklearn-color-unfitted-level-1);\n",
       "}\n",
       "\n",
       ".sk-estimator-doc-link.fitted,\n",
       "a:link.sk-estimator-doc-link.fitted,\n",
       "a:visited.sk-estimator-doc-link.fitted {\n",
       "  /* fitted */\n",
       "  border: var(--sklearn-color-fitted-level-1) 1pt solid;\n",
       "  color: var(--sklearn-color-fitted-level-1);\n",
       "}\n",
       "\n",
       "/* On hover */\n",
       "div.sk-estimator:hover .sk-estimator-doc-link:hover,\n",
       ".sk-estimator-doc-link:hover,\n",
       "div.sk-label-container:hover .sk-estimator-doc-link:hover,\n",
       ".sk-estimator-doc-link:hover {\n",
       "  /* unfitted */\n",
       "  background-color: var(--sklearn-color-unfitted-level-3);\n",
       "  color: var(--sklearn-color-background);\n",
       "  text-decoration: none;\n",
       "}\n",
       "\n",
       "div.sk-estimator.fitted:hover .sk-estimator-doc-link.fitted:hover,\n",
       ".sk-estimator-doc-link.fitted:hover,\n",
       "div.sk-label-container:hover .sk-estimator-doc-link.fitted:hover,\n",
       ".sk-estimator-doc-link.fitted:hover {\n",
       "  /* fitted */\n",
       "  background-color: var(--sklearn-color-fitted-level-3);\n",
       "  color: var(--sklearn-color-background);\n",
       "  text-decoration: none;\n",
       "}\n",
       "\n",
       "/* Span, style for the box shown on hovering the info icon */\n",
       ".sk-estimator-doc-link span {\n",
       "  display: none;\n",
       "  z-index: 9999;\n",
       "  position: relative;\n",
       "  font-weight: normal;\n",
       "  right: .2ex;\n",
       "  padding: .5ex;\n",
       "  margin: .5ex;\n",
       "  width: min-content;\n",
       "  min-width: 20ex;\n",
       "  max-width: 50ex;\n",
       "  color: var(--sklearn-color-text);\n",
       "  box-shadow: 2pt 2pt 4pt #999;\n",
       "  /* unfitted */\n",
       "  background: var(--sklearn-color-unfitted-level-0);\n",
       "  border: .5pt solid var(--sklearn-color-unfitted-level-3);\n",
       "}\n",
       "\n",
       ".sk-estimator-doc-link.fitted span {\n",
       "  /* fitted */\n",
       "  background: var(--sklearn-color-fitted-level-0);\n",
       "  border: var(--sklearn-color-fitted-level-3);\n",
       "}\n",
       "\n",
       ".sk-estimator-doc-link:hover span {\n",
       "  display: block;\n",
       "}\n",
       "\n",
       "/* \"?\"-specific style due to the `<a>` HTML tag */\n",
       "\n",
       "#sk-container-id-3 a.estimator_doc_link {\n",
       "  float: right;\n",
       "  font-size: 1rem;\n",
       "  line-height: 1em;\n",
       "  font-family: monospace;\n",
       "  background-color: var(--sklearn-color-background);\n",
       "  border-radius: 1rem;\n",
       "  height: 1rem;\n",
       "  width: 1rem;\n",
       "  text-decoration: none;\n",
       "  /* unfitted */\n",
       "  color: var(--sklearn-color-unfitted-level-1);\n",
       "  border: var(--sklearn-color-unfitted-level-1) 1pt solid;\n",
       "}\n",
       "\n",
       "#sk-container-id-3 a.estimator_doc_link.fitted {\n",
       "  /* fitted */\n",
       "  border: var(--sklearn-color-fitted-level-1) 1pt solid;\n",
       "  color: var(--sklearn-color-fitted-level-1);\n",
       "}\n",
       "\n",
       "/* On hover */\n",
       "#sk-container-id-3 a.estimator_doc_link:hover {\n",
       "  /* unfitted */\n",
       "  background-color: var(--sklearn-color-unfitted-level-3);\n",
       "  color: var(--sklearn-color-background);\n",
       "  text-decoration: none;\n",
       "}\n",
       "\n",
       "#sk-container-id-3 a.estimator_doc_link.fitted:hover {\n",
       "  /* fitted */\n",
       "  background-color: var(--sklearn-color-fitted-level-3);\n",
       "}\n",
       "</style><div id=\"sk-container-id-3\" class=\"sk-top-container\"><div class=\"sk-text-repr-fallback\"><pre>LinearRegression()</pre><b>In a Jupyter environment, please rerun this cell to show the HTML representation or trust the notebook. <br />On GitHub, the HTML representation is unable to render, please try loading this page with nbviewer.org.</b></div><div class=\"sk-container\" hidden><div class=\"sk-item\"><div class=\"sk-estimator fitted sk-toggleable\"><input class=\"sk-toggleable__control sk-hidden--visually\" id=\"sk-estimator-id-3\" type=\"checkbox\" checked><label for=\"sk-estimator-id-3\" class=\"sk-toggleable__label fitted sk-toggleable__label-arrow fitted\">&nbsp;&nbsp;LinearRegression<a class=\"sk-estimator-doc-link fitted\" rel=\"noreferrer\" target=\"_blank\" href=\"https://scikit-learn.org/1.5/modules/generated/sklearn.linear_model.LinearRegression.html\">?<span>Documentation for LinearRegression</span></a><span class=\"sk-estimator-doc-link fitted\">i<span>Fitted</span></span></label><div class=\"sk-toggleable__content fitted\"><pre>LinearRegression()</pre></div> </div></div></div></div>"
      ],
      "text/plain": [
       "LinearRegression()"
      ]
     },
     "execution_count": 50,
     "metadata": {},
     "output_type": "execute_result"
    }
   ],
   "source": [
    "#using linear regression\n",
    "\n",
    "from sklearn.linear_model import LinearRegression\n",
    "from sklearn.metrics import mean_squared_error, accuracy_score\n",
    "\n",
    "regression_model_sklearn = LinearRegression(fit_intercept = True)\n",
    "regression_model_sklearn.fit(X_train, y_train)"
   ]
  },
  {
   "cell_type": "code",
   "execution_count": 51,
   "id": "d26bb2b7-5d0e-4ab7-869d-52033e1e024b",
   "metadata": {},
   "outputs": [
    {
     "data": {
      "text/plain": [
       "0.9721662402153015"
      ]
     },
     "execution_count": 51,
     "metadata": {},
     "output_type": "execute_result"
    }
   ],
   "source": [
    "regression_model_sklearn_accuracy = regression_model_sklearn.score(X_test, y_test)\n",
    "regression_model_sklearn_accuracy"
   ]
  },
  {
   "cell_type": "code",
   "execution_count": 53,
   "id": "08c711e5-28b9-4cec-a43b-d881e004d9ad",
   "metadata": {},
   "outputs": [
    {
     "name": "stdout",
     "output_type": "stream",
     "text": [
      "Linear Model Coefficient (m): [[8977.923]]\n"
     ]
    }
   ],
   "source": [
    "print('Linear Model Coefficient (m):', regression_model_sklearn.coef_ )"
   ]
  },
  {
   "cell_type": "code",
   "execution_count": 54,
   "id": "7504e42c-679f-4ae1-ae5a-a1d05f711904",
   "metadata": {},
   "outputs": [
    {
     "name": "stdout",
     "output_type": "stream",
     "text": [
      "Linear Model Intercept (b): [26923.715]\n"
     ]
    }
   ],
   "source": [
    "print('Linear Model Intercept (b):', regression_model_sklearn.intercept_)"
   ]
  },
  {
   "cell_type": "markdown",
   "id": "f608c590-9b39-4c3d-b8f0-9628dd73e8fc",
   "metadata": {},
   "source": [
    "## Making a model with fit_intercept = False\n",
    "What does this do?\n",
    "It makes the y intercept = 0 and forces the line to pass through the origin"
   ]
  },
  {
   "cell_type": "code",
   "execution_count": 58,
   "id": "6a0a47b4-4024-40ce-a8cc-b834d833e50d",
   "metadata": {},
   "outputs": [
    {
     "data": {
      "text/html": [
       "<style>#sk-container-id-4 {\n",
       "  /* Definition of color scheme common for light and dark mode */\n",
       "  --sklearn-color-text: black;\n",
       "  --sklearn-color-line: gray;\n",
       "  /* Definition of color scheme for unfitted estimators */\n",
       "  --sklearn-color-unfitted-level-0: #fff5e6;\n",
       "  --sklearn-color-unfitted-level-1: #f6e4d2;\n",
       "  --sklearn-color-unfitted-level-2: #ffe0b3;\n",
       "  --sklearn-color-unfitted-level-3: chocolate;\n",
       "  /* Definition of color scheme for fitted estimators */\n",
       "  --sklearn-color-fitted-level-0: #f0f8ff;\n",
       "  --sklearn-color-fitted-level-1: #d4ebff;\n",
       "  --sklearn-color-fitted-level-2: #b3dbfd;\n",
       "  --sklearn-color-fitted-level-3: cornflowerblue;\n",
       "\n",
       "  /* Specific color for light theme */\n",
       "  --sklearn-color-text-on-default-background: var(--sg-text-color, var(--theme-code-foreground, var(--jp-content-font-color1, black)));\n",
       "  --sklearn-color-background: var(--sg-background-color, var(--theme-background, var(--jp-layout-color0, white)));\n",
       "  --sklearn-color-border-box: var(--sg-text-color, var(--theme-code-foreground, var(--jp-content-font-color1, black)));\n",
       "  --sklearn-color-icon: #696969;\n",
       "\n",
       "  @media (prefers-color-scheme: dark) {\n",
       "    /* Redefinition of color scheme for dark theme */\n",
       "    --sklearn-color-text-on-default-background: var(--sg-text-color, var(--theme-code-foreground, var(--jp-content-font-color1, white)));\n",
       "    --sklearn-color-background: var(--sg-background-color, var(--theme-background, var(--jp-layout-color0, #111)));\n",
       "    --sklearn-color-border-box: var(--sg-text-color, var(--theme-code-foreground, var(--jp-content-font-color1, white)));\n",
       "    --sklearn-color-icon: #878787;\n",
       "  }\n",
       "}\n",
       "\n",
       "#sk-container-id-4 {\n",
       "  color: var(--sklearn-color-text);\n",
       "}\n",
       "\n",
       "#sk-container-id-4 pre {\n",
       "  padding: 0;\n",
       "}\n",
       "\n",
       "#sk-container-id-4 input.sk-hidden--visually {\n",
       "  border: 0;\n",
       "  clip: rect(1px 1px 1px 1px);\n",
       "  clip: rect(1px, 1px, 1px, 1px);\n",
       "  height: 1px;\n",
       "  margin: -1px;\n",
       "  overflow: hidden;\n",
       "  padding: 0;\n",
       "  position: absolute;\n",
       "  width: 1px;\n",
       "}\n",
       "\n",
       "#sk-container-id-4 div.sk-dashed-wrapped {\n",
       "  border: 1px dashed var(--sklearn-color-line);\n",
       "  margin: 0 0.4em 0.5em 0.4em;\n",
       "  box-sizing: border-box;\n",
       "  padding-bottom: 0.4em;\n",
       "  background-color: var(--sklearn-color-background);\n",
       "}\n",
       "\n",
       "#sk-container-id-4 div.sk-container {\n",
       "  /* jupyter's `normalize.less` sets `[hidden] { display: none; }`\n",
       "     but bootstrap.min.css set `[hidden] { display: none !important; }`\n",
       "     so we also need the `!important` here to be able to override the\n",
       "     default hidden behavior on the sphinx rendered scikit-learn.org.\n",
       "     See: https://github.com/scikit-learn/scikit-learn/issues/21755 */\n",
       "  display: inline-block !important;\n",
       "  position: relative;\n",
       "}\n",
       "\n",
       "#sk-container-id-4 div.sk-text-repr-fallback {\n",
       "  display: none;\n",
       "}\n",
       "\n",
       "div.sk-parallel-item,\n",
       "div.sk-serial,\n",
       "div.sk-item {\n",
       "  /* draw centered vertical line to link estimators */\n",
       "  background-image: linear-gradient(var(--sklearn-color-text-on-default-background), var(--sklearn-color-text-on-default-background));\n",
       "  background-size: 2px 100%;\n",
       "  background-repeat: no-repeat;\n",
       "  background-position: center center;\n",
       "}\n",
       "\n",
       "/* Parallel-specific style estimator block */\n",
       "\n",
       "#sk-container-id-4 div.sk-parallel-item::after {\n",
       "  content: \"\";\n",
       "  width: 100%;\n",
       "  border-bottom: 2px solid var(--sklearn-color-text-on-default-background);\n",
       "  flex-grow: 1;\n",
       "}\n",
       "\n",
       "#sk-container-id-4 div.sk-parallel {\n",
       "  display: flex;\n",
       "  align-items: stretch;\n",
       "  justify-content: center;\n",
       "  background-color: var(--sklearn-color-background);\n",
       "  position: relative;\n",
       "}\n",
       "\n",
       "#sk-container-id-4 div.sk-parallel-item {\n",
       "  display: flex;\n",
       "  flex-direction: column;\n",
       "}\n",
       "\n",
       "#sk-container-id-4 div.sk-parallel-item:first-child::after {\n",
       "  align-self: flex-end;\n",
       "  width: 50%;\n",
       "}\n",
       "\n",
       "#sk-container-id-4 div.sk-parallel-item:last-child::after {\n",
       "  align-self: flex-start;\n",
       "  width: 50%;\n",
       "}\n",
       "\n",
       "#sk-container-id-4 div.sk-parallel-item:only-child::after {\n",
       "  width: 0;\n",
       "}\n",
       "\n",
       "/* Serial-specific style estimator block */\n",
       "\n",
       "#sk-container-id-4 div.sk-serial {\n",
       "  display: flex;\n",
       "  flex-direction: column;\n",
       "  align-items: center;\n",
       "  background-color: var(--sklearn-color-background);\n",
       "  padding-right: 1em;\n",
       "  padding-left: 1em;\n",
       "}\n",
       "\n",
       "\n",
       "/* Toggleable style: style used for estimator/Pipeline/ColumnTransformer box that is\n",
       "clickable and can be expanded/collapsed.\n",
       "- Pipeline and ColumnTransformer use this feature and define the default style\n",
       "- Estimators will overwrite some part of the style using the `sk-estimator` class\n",
       "*/\n",
       "\n",
       "/* Pipeline and ColumnTransformer style (default) */\n",
       "\n",
       "#sk-container-id-4 div.sk-toggleable {\n",
       "  /* Default theme specific background. It is overwritten whether we have a\n",
       "  specific estimator or a Pipeline/ColumnTransformer */\n",
       "  background-color: var(--sklearn-color-background);\n",
       "}\n",
       "\n",
       "/* Toggleable label */\n",
       "#sk-container-id-4 label.sk-toggleable__label {\n",
       "  cursor: pointer;\n",
       "  display: block;\n",
       "  width: 100%;\n",
       "  margin-bottom: 0;\n",
       "  padding: 0.5em;\n",
       "  box-sizing: border-box;\n",
       "  text-align: center;\n",
       "}\n",
       "\n",
       "#sk-container-id-4 label.sk-toggleable__label-arrow:before {\n",
       "  /* Arrow on the left of the label */\n",
       "  content: \"▸\";\n",
       "  float: left;\n",
       "  margin-right: 0.25em;\n",
       "  color: var(--sklearn-color-icon);\n",
       "}\n",
       "\n",
       "#sk-container-id-4 label.sk-toggleable__label-arrow:hover:before {\n",
       "  color: var(--sklearn-color-text);\n",
       "}\n",
       "\n",
       "/* Toggleable content - dropdown */\n",
       "\n",
       "#sk-container-id-4 div.sk-toggleable__content {\n",
       "  max-height: 0;\n",
       "  max-width: 0;\n",
       "  overflow: hidden;\n",
       "  text-align: left;\n",
       "  /* unfitted */\n",
       "  background-color: var(--sklearn-color-unfitted-level-0);\n",
       "}\n",
       "\n",
       "#sk-container-id-4 div.sk-toggleable__content.fitted {\n",
       "  /* fitted */\n",
       "  background-color: var(--sklearn-color-fitted-level-0);\n",
       "}\n",
       "\n",
       "#sk-container-id-4 div.sk-toggleable__content pre {\n",
       "  margin: 0.2em;\n",
       "  border-radius: 0.25em;\n",
       "  color: var(--sklearn-color-text);\n",
       "  /* unfitted */\n",
       "  background-color: var(--sklearn-color-unfitted-level-0);\n",
       "}\n",
       "\n",
       "#sk-container-id-4 div.sk-toggleable__content.fitted pre {\n",
       "  /* unfitted */\n",
       "  background-color: var(--sklearn-color-fitted-level-0);\n",
       "}\n",
       "\n",
       "#sk-container-id-4 input.sk-toggleable__control:checked~div.sk-toggleable__content {\n",
       "  /* Expand drop-down */\n",
       "  max-height: 200px;\n",
       "  max-width: 100%;\n",
       "  overflow: auto;\n",
       "}\n",
       "\n",
       "#sk-container-id-4 input.sk-toggleable__control:checked~label.sk-toggleable__label-arrow:before {\n",
       "  content: \"▾\";\n",
       "}\n",
       "\n",
       "/* Pipeline/ColumnTransformer-specific style */\n",
       "\n",
       "#sk-container-id-4 div.sk-label input.sk-toggleable__control:checked~label.sk-toggleable__label {\n",
       "  color: var(--sklearn-color-text);\n",
       "  background-color: var(--sklearn-color-unfitted-level-2);\n",
       "}\n",
       "\n",
       "#sk-container-id-4 div.sk-label.fitted input.sk-toggleable__control:checked~label.sk-toggleable__label {\n",
       "  background-color: var(--sklearn-color-fitted-level-2);\n",
       "}\n",
       "\n",
       "/* Estimator-specific style */\n",
       "\n",
       "/* Colorize estimator box */\n",
       "#sk-container-id-4 div.sk-estimator input.sk-toggleable__control:checked~label.sk-toggleable__label {\n",
       "  /* unfitted */\n",
       "  background-color: var(--sklearn-color-unfitted-level-2);\n",
       "}\n",
       "\n",
       "#sk-container-id-4 div.sk-estimator.fitted input.sk-toggleable__control:checked~label.sk-toggleable__label {\n",
       "  /* fitted */\n",
       "  background-color: var(--sklearn-color-fitted-level-2);\n",
       "}\n",
       "\n",
       "#sk-container-id-4 div.sk-label label.sk-toggleable__label,\n",
       "#sk-container-id-4 div.sk-label label {\n",
       "  /* The background is the default theme color */\n",
       "  color: var(--sklearn-color-text-on-default-background);\n",
       "}\n",
       "\n",
       "/* On hover, darken the color of the background */\n",
       "#sk-container-id-4 div.sk-label:hover label.sk-toggleable__label {\n",
       "  color: var(--sklearn-color-text);\n",
       "  background-color: var(--sklearn-color-unfitted-level-2);\n",
       "}\n",
       "\n",
       "/* Label box, darken color on hover, fitted */\n",
       "#sk-container-id-4 div.sk-label.fitted:hover label.sk-toggleable__label.fitted {\n",
       "  color: var(--sklearn-color-text);\n",
       "  background-color: var(--sklearn-color-fitted-level-2);\n",
       "}\n",
       "\n",
       "/* Estimator label */\n",
       "\n",
       "#sk-container-id-4 div.sk-label label {\n",
       "  font-family: monospace;\n",
       "  font-weight: bold;\n",
       "  display: inline-block;\n",
       "  line-height: 1.2em;\n",
       "}\n",
       "\n",
       "#sk-container-id-4 div.sk-label-container {\n",
       "  text-align: center;\n",
       "}\n",
       "\n",
       "/* Estimator-specific */\n",
       "#sk-container-id-4 div.sk-estimator {\n",
       "  font-family: monospace;\n",
       "  border: 1px dotted var(--sklearn-color-border-box);\n",
       "  border-radius: 0.25em;\n",
       "  box-sizing: border-box;\n",
       "  margin-bottom: 0.5em;\n",
       "  /* unfitted */\n",
       "  background-color: var(--sklearn-color-unfitted-level-0);\n",
       "}\n",
       "\n",
       "#sk-container-id-4 div.sk-estimator.fitted {\n",
       "  /* fitted */\n",
       "  background-color: var(--sklearn-color-fitted-level-0);\n",
       "}\n",
       "\n",
       "/* on hover */\n",
       "#sk-container-id-4 div.sk-estimator:hover {\n",
       "  /* unfitted */\n",
       "  background-color: var(--sklearn-color-unfitted-level-2);\n",
       "}\n",
       "\n",
       "#sk-container-id-4 div.sk-estimator.fitted:hover {\n",
       "  /* fitted */\n",
       "  background-color: var(--sklearn-color-fitted-level-2);\n",
       "}\n",
       "\n",
       "/* Specification for estimator info (e.g. \"i\" and \"?\") */\n",
       "\n",
       "/* Common style for \"i\" and \"?\" */\n",
       "\n",
       ".sk-estimator-doc-link,\n",
       "a:link.sk-estimator-doc-link,\n",
       "a:visited.sk-estimator-doc-link {\n",
       "  float: right;\n",
       "  font-size: smaller;\n",
       "  line-height: 1em;\n",
       "  font-family: monospace;\n",
       "  background-color: var(--sklearn-color-background);\n",
       "  border-radius: 1em;\n",
       "  height: 1em;\n",
       "  width: 1em;\n",
       "  text-decoration: none !important;\n",
       "  margin-left: 1ex;\n",
       "  /* unfitted */\n",
       "  border: var(--sklearn-color-unfitted-level-1) 1pt solid;\n",
       "  color: var(--sklearn-color-unfitted-level-1);\n",
       "}\n",
       "\n",
       ".sk-estimator-doc-link.fitted,\n",
       "a:link.sk-estimator-doc-link.fitted,\n",
       "a:visited.sk-estimator-doc-link.fitted {\n",
       "  /* fitted */\n",
       "  border: var(--sklearn-color-fitted-level-1) 1pt solid;\n",
       "  color: var(--sklearn-color-fitted-level-1);\n",
       "}\n",
       "\n",
       "/* On hover */\n",
       "div.sk-estimator:hover .sk-estimator-doc-link:hover,\n",
       ".sk-estimator-doc-link:hover,\n",
       "div.sk-label-container:hover .sk-estimator-doc-link:hover,\n",
       ".sk-estimator-doc-link:hover {\n",
       "  /* unfitted */\n",
       "  background-color: var(--sklearn-color-unfitted-level-3);\n",
       "  color: var(--sklearn-color-background);\n",
       "  text-decoration: none;\n",
       "}\n",
       "\n",
       "div.sk-estimator.fitted:hover .sk-estimator-doc-link.fitted:hover,\n",
       ".sk-estimator-doc-link.fitted:hover,\n",
       "div.sk-label-container:hover .sk-estimator-doc-link.fitted:hover,\n",
       ".sk-estimator-doc-link.fitted:hover {\n",
       "  /* fitted */\n",
       "  background-color: var(--sklearn-color-fitted-level-3);\n",
       "  color: var(--sklearn-color-background);\n",
       "  text-decoration: none;\n",
       "}\n",
       "\n",
       "/* Span, style for the box shown on hovering the info icon */\n",
       ".sk-estimator-doc-link span {\n",
       "  display: none;\n",
       "  z-index: 9999;\n",
       "  position: relative;\n",
       "  font-weight: normal;\n",
       "  right: .2ex;\n",
       "  padding: .5ex;\n",
       "  margin: .5ex;\n",
       "  width: min-content;\n",
       "  min-width: 20ex;\n",
       "  max-width: 50ex;\n",
       "  color: var(--sklearn-color-text);\n",
       "  box-shadow: 2pt 2pt 4pt #999;\n",
       "  /* unfitted */\n",
       "  background: var(--sklearn-color-unfitted-level-0);\n",
       "  border: .5pt solid var(--sklearn-color-unfitted-level-3);\n",
       "}\n",
       "\n",
       ".sk-estimator-doc-link.fitted span {\n",
       "  /* fitted */\n",
       "  background: var(--sklearn-color-fitted-level-0);\n",
       "  border: var(--sklearn-color-fitted-level-3);\n",
       "}\n",
       "\n",
       ".sk-estimator-doc-link:hover span {\n",
       "  display: block;\n",
       "}\n",
       "\n",
       "/* \"?\"-specific style due to the `<a>` HTML tag */\n",
       "\n",
       "#sk-container-id-4 a.estimator_doc_link {\n",
       "  float: right;\n",
       "  font-size: 1rem;\n",
       "  line-height: 1em;\n",
       "  font-family: monospace;\n",
       "  background-color: var(--sklearn-color-background);\n",
       "  border-radius: 1rem;\n",
       "  height: 1rem;\n",
       "  width: 1rem;\n",
       "  text-decoration: none;\n",
       "  /* unfitted */\n",
       "  color: var(--sklearn-color-unfitted-level-1);\n",
       "  border: var(--sklearn-color-unfitted-level-1) 1pt solid;\n",
       "}\n",
       "\n",
       "#sk-container-id-4 a.estimator_doc_link.fitted {\n",
       "  /* fitted */\n",
       "  border: var(--sklearn-color-fitted-level-1) 1pt solid;\n",
       "  color: var(--sklearn-color-fitted-level-1);\n",
       "}\n",
       "\n",
       "/* On hover */\n",
       "#sk-container-id-4 a.estimator_doc_link:hover {\n",
       "  /* unfitted */\n",
       "  background-color: var(--sklearn-color-unfitted-level-3);\n",
       "  color: var(--sklearn-color-background);\n",
       "  text-decoration: none;\n",
       "}\n",
       "\n",
       "#sk-container-id-4 a.estimator_doc_link.fitted:hover {\n",
       "  /* fitted */\n",
       "  background-color: var(--sklearn-color-fitted-level-3);\n",
       "}\n",
       "</style><div id=\"sk-container-id-4\" class=\"sk-top-container\"><div class=\"sk-text-repr-fallback\"><pre>LinearRegression(fit_intercept=False)</pre><b>In a Jupyter environment, please rerun this cell to show the HTML representation or trust the notebook. <br />On GitHub, the HTML representation is unable to render, please try loading this page with nbviewer.org.</b></div><div class=\"sk-container\" hidden><div class=\"sk-item\"><div class=\"sk-estimator fitted sk-toggleable\"><input class=\"sk-toggleable__control sk-hidden--visually\" id=\"sk-estimator-id-4\" type=\"checkbox\" checked><label for=\"sk-estimator-id-4\" class=\"sk-toggleable__label fitted sk-toggleable__label-arrow fitted\">&nbsp;&nbsp;LinearRegression<a class=\"sk-estimator-doc-link fitted\" rel=\"noreferrer\" target=\"_blank\" href=\"https://scikit-learn.org/1.5/modules/generated/sklearn.linear_model.LinearRegression.html\">?<span>Documentation for LinearRegression</span></a><span class=\"sk-estimator-doc-link fitted\">i<span>Fitted</span></span></label><div class=\"sk-toggleable__content fitted\"><pre>LinearRegression(fit_intercept=False)</pre></div> </div></div></div></div>"
      ],
      "text/plain": [
       "LinearRegression(fit_intercept=False)"
      ]
     },
     "execution_count": 58,
     "metadata": {},
     "output_type": "execute_result"
    }
   ],
   "source": [
    "#linear regression with fit intercept = 0\n",
    "\n",
    "from sklearn.linear_model import LinearRegression\n",
    "from sklearn.metrics import mean_squared_error, accuracy_score\n",
    "\n",
    "regression_model_sklearn_no_intercept = LinearRegression(fit_intercept = False)\n",
    "regression_model_sklearn_no_intercept.fit(X_train, y_train)"
   ]
  },
  {
   "cell_type": "code",
   "execution_count": 59,
   "id": "58203c00-34a3-4e04-a56e-554532886b6c",
   "metadata": {},
   "outputs": [
    {
     "data": {
      "text/plain": [
       "0.6723827719688416"
      ]
     },
     "execution_count": 59,
     "metadata": {},
     "output_type": "execute_result"
    }
   ],
   "source": [
    "regression_model_sklearn_no_intercept_accuracy = regression_model_sklearn_no_intercept.score(X_test, y_test)\n",
    "regression_model_sklearn_no_intercept_accuracy"
   ]
  },
  {
   "cell_type": "code",
   "execution_count": 62,
   "id": "b791022c-d239-43b9-a8dc-f3721b416e37",
   "metadata": {},
   "outputs": [
    {
     "name": "stdout",
     "output_type": "stream",
     "text": [
      "Linear Model Coefficient (m): [[12299.696]]\n"
     ]
    }
   ],
   "source": [
    "print('Linear Model Coefficient (m):', regression_model_sklearn_no_intercept.coef_ )"
   ]
  },
  {
   "cell_type": "code",
   "execution_count": 63,
   "id": "a712f5ec-c427-4544-bd98-2f3444f428b5",
   "metadata": {},
   "outputs": [
    {
     "name": "stdout",
     "output_type": "stream",
     "text": [
      "Linear Model Intercept (b): 0.0\n"
     ]
    }
   ],
   "source": [
    "print('Linear Model Intercept (b):', regression_model_sklearn_no_intercept.intercept_)"
   ]
  },
  {
   "cell_type": "markdown",
   "id": "3eab1a86-86f5-4f53-9f5f-4f5b2b912cd8",
   "metadata": {},
   "source": [
    "The model accuracy went down and we see that the model intercept is 0"
   ]
  },
  {
   "cell_type": "markdown",
   "id": "4785969c-1c81-4c9e-b65f-bf7251e4a777",
   "metadata": {},
   "source": [
    "# TASK 6: EVALUATE TRAINED MODEL PERFORMANCE"
   ]
  },
  {
   "cell_type": "code",
   "execution_count": 67,
   "id": "82b1c95e-be3f-4f23-aa82-0fbb727d29a8",
   "metadata": {},
   "outputs": [
    {
     "data": {
      "text/plain": [
       "array([[ 87973.59 ],\n",
       "       [130169.83 ],\n",
       "       [ 38595.016],\n",
       "       [ 90666.97 ],\n",
       "       [ 53857.484],\n",
       "       [ 44879.562],\n",
       "       [142738.92 ]], dtype=float32)"
      ]
     },
     "execution_count": 67,
     "metadata": {},
     "output_type": "execute_result"
    }
   ],
   "source": [
    "#get the values of y for X_test\n",
    "y_predict = regression_model_sklearn.predict(X_test)\n",
    "y_predict"
   ]
  },
  {
   "cell_type": "code",
   "execution_count": 68,
   "id": "00586eee-d006-40b1-858d-6ed5f4b6f1d0",
   "metadata": {},
   "outputs": [],
   "source": [
    "#the above values of y corresponding to X_test have 9 values same as the shape of the test set"
   ]
  },
  {
   "cell_type": "code",
   "execution_count": 76,
   "id": "9b1e0d94-b29a-4983-bb42-eb757cc007cd",
   "metadata": {},
   "outputs": [
    {
     "data": {
      "text/plain": [
       "Text(0.5, 1.0, 'Years of Exp v/s Salary')"
      ]
     },
     "execution_count": 76,
     "metadata": {},
     "output_type": "execute_result"
    },
    {
     "data": {
      "image/png": "[encoded data removed]",
      "text/plain": [
       "<Figure size 640x480 with 1 Axes>"
      ]
     },
     "metadata": {},
     "output_type": "display_data"
    }
   ],
   "source": [
    "#plot the original X_train and y_train (original values of y)\n",
    "plt.scatter(X_train, y_train, color = 'blue', label = 'Original Data')\n",
    "#plot the original X_train and (predicted values of Y)\n",
    "plt.plot(X_train, regression_model_sklearn.predict(X_train), color = 'red')\n",
    "plt.xlabel('Years of Experience')\n",
    "plt.ylabel('Salary')\n",
    "plt.title('Years of Exp v/s Salary')"
   ]
  },
  {
   "cell_type": "markdown",
   "id": "64311c29-e8fc-4ebc-91af-0e87df9d5de8",
   "metadata": {},
   "source": [
    "## Use the trained model to obtain a salary corresponding to 5 years of experience"
   ]
  },
  {
   "cell_type": "code",
   "execution_count": 77,
   "id": "340da27b-6e99-4a2d-bf98-edb4413d42ad",
   "metadata": {},
   "outputs": [],
   "source": [
    "num_years_exp = [[5]]"
   ]
  },
  {
   "cell_type": "code",
   "execution_count": 78,
   "id": "aa76bfa3-7412-44d0-aa8d-8de259fd1cc9",
   "metadata": {},
   "outputs": [
    {
     "data": {
      "text/plain": [
       "array([[71813.32910156]])"
      ]
     },
     "execution_count": 78,
     "metadata": {},
     "output_type": "execute_result"
    }
   ],
   "source": [
    "regression_model_sklearn.predict(num_years_exp)"
   ]
  },
  {
   "cell_type": "markdown",
   "id": "ec9fd5c3-0536-4768-aed8-92eb537320f8",
   "metadata": {},
   "source": [
    "# TASK 7: TRAIN LINEAR LEARNER MODEL IN AWS SAGEMAKER"
   ]
  },
  {
   "cell_type": "markdown",
   "id": "1ba04cd0-5828-4712-9bf9-7d2d512533c9",
   "metadata": {},
   "source": [
    "## Step 1: Creating a Sagemaker session"
   ]
  },
  {
   "cell_type": "code",
   "execution_count": 80,
   "id": "78d6b311-fe05-4bd2-b451-3d364011a949",
   "metadata": {},
   "outputs": [],
   "source": [
    "#Boto3 is the Software Development Kit for Amazon Web Services.\n",
    "# It allows Python developers to write software that makes use of services like S3 and EC2\n",
    "\n",
    "import sagemaker\n",
    "import boto3\n",
    "from sagemaker import Session"
   ]
  },
  {
   "cell_type": "code",
   "execution_count": 82,
   "id": "9b3cb1ea-2350-426c-991d-e7f9696d0735",
   "metadata": {},
   "outputs": [
    {
     "name": "stdout",
     "output_type": "stream",
     "text": [
      "arn:aws:iam::021891596868:role/service-role/AmazonSageMaker-ExecutionRole-20241124T124032\n"
     ]
    }
   ],
   "source": [
    "#Create a Sagemaker session\n",
    "sagemaker_session = sagemaker.Session()\n",
    "\n",
    "#bucket = Session().default_bucket() #retrieves or creates a default bucket from your sagemaker \n",
    "bucket = 'sagemaker-learning-arusa'\n",
    "prefix = 'linear-learner' #prefix is a subfolder within the bucket\n",
    "\n",
    "role = sagemaker.get_execution_role()\n",
    "print(role)"
   ]
  },
  {
   "cell_type": "code",
   "execution_count": 84,
   "id": "35280b89-dbd5-4b51-a8e5-9edf42b301a0",
   "metadata": {},
   "outputs": [
    {
     "data": {
      "text/plain": [
       "(28, 1)"
      ]
     },
     "execution_count": 84,
     "metadata": {},
     "output_type": "execute_result"
    }
   ],
   "source": [
    "X_train.shape"
   ]
  },
  {
   "cell_type": "code",
   "execution_count": 87,
   "id": "20dd8fcb-2dca-4d62-a41f-9fbf48433ebc",
   "metadata": {},
   "outputs": [],
   "source": [
    "y_train = y_train[:,0] #converting to vector output"
   ]
  },
  {
   "cell_type": "code",
   "execution_count": 88,
   "id": "9713a00a-9536-4418-ad3b-b4edf81a09e2",
   "metadata": {},
   "outputs": [
    {
     "data": {
      "text/plain": [
       "(28,)"
      ]
     },
     "execution_count": 88,
     "metadata": {},
     "output_type": "execute_result"
    }
   ],
   "source": [
    "y_train.shape"
   ]
  },
  {
   "cell_type": "markdown",
   "id": "4b381566-711b-4e31-ba5f-f5e02dcc24d3",
   "metadata": {},
   "source": [
    "# Step 2: Converting data from numpy array to sagemaker linear learner supported formats (csv and record io). We convert to record io here"
   ]
  },
  {
   "cell_type": "code",
   "execution_count": 90,
   "id": "14e8698d-43d9-4c10-b9ad-409d098d9b26",
   "metadata": {},
   "outputs": [
    {
     "data": {
      "text/plain": [
       "0"
      ]
     },
     "execution_count": 90,
     "metadata": {},
     "output_type": "execute_result"
    }
   ],
   "source": [
    "#the below code helps to convert the training data into record io format\n",
    "#you can check the documentation to check why this is needed\n",
    "#linear learner supports record io or csv formats \n",
    "import io\n",
    "import sagemaker.amazon.common as smac #sagemaker common library\n",
    "#this sagemaker common library helps to do this conversion to a different format\n",
    "\n",
    "#the code below converts the data from numpy array format to record io format\n",
    "\n",
    "buf = io.BytesIO() #creates an in-memory byte array (buf is a buffer I will be writing to)\n",
    "smac.write_numpy_to_dense_tensor(buf, X_train, y_train)\n",
    "buf.seek(0)\n",
    "\n",
    "#when you write to in-memory byte arrays, it increments 1 every time you write to it\n",
    "#lets reset that back to zero"
   ]
  },
  {
   "cell_type": "markdown",
   "id": "c360eba7-a68f-4c20-b63f-bbe954e99407",
   "metadata": {},
   "source": [
    "# Step3: Getting the path to store the data"
   ]
  },
  {
   "cell_type": "code",
   "execution_count": 92,
   "id": "5d68510f-e7ef-494c-9690-e2410e4eeaa7",
   "metadata": {},
   "outputs": [
    {
     "name": "stdout",
     "output_type": "stream",
     "text": [
      "uploaded training data location: s3://sagemaker-learning-arusa/linear-learner/train/linear-train-data\n"
     ]
    }
   ],
   "source": [
    "import os\n",
    "\n",
    "#Code to upload data to RecordIO data to S3\n",
    "\n",
    "#Key refers to the name of the file\n",
    "\n",
    "key = 'linear-train-data'\n",
    "#order of access - 1. bucket 2. folder inside that 3. key\n",
    "#the following code uploads the data in record-io format to S3 bucket to be accessed later for train \n",
    "boto3.resource('s3').Bucket(bucket).Object(os.path.join(prefix, 'train', key)).upload_fileobj(buf)\n",
    "\n",
    "#lets print out the training data location in s3\n",
    "s3_train_data = 's3://{}/{}/train/{}'.format(bucket, prefix, key)\n",
    "print('uploaded training data location: {}'.format(s3_train_data))"
   ]
  },
  {
   "cell_type": "code",
   "execution_count": 93,
   "id": "4b1c667f-2379-4723-aa3b-5a6557d08ec7",
   "metadata": {},
   "outputs": [
    {
     "data": {
      "text/plain": [
       "(7, 1)"
      ]
     },
     "execution_count": 93,
     "metadata": {},
     "output_type": "execute_result"
    }
   ],
   "source": [
    "X_test.shape"
   ]
  },
  {
   "cell_type": "code",
   "execution_count": 94,
   "id": "c5b0003e-abff-4f19-b917-5550508ede84",
   "metadata": {},
   "outputs": [
    {
     "data": {
      "text/plain": [
       "(7, 1)"
      ]
     },
     "execution_count": 94,
     "metadata": {},
     "output_type": "execute_result"
    }
   ],
   "source": [
    "y_test.shape"
   ]
  },
  {
   "cell_type": "code",
   "execution_count": 95,
   "id": "1d6b15f3-a8f0-48bb-97f5-c7fd546c8f6c",
   "metadata": {},
   "outputs": [
    {
     "data": {
      "text/plain": [
       "array([ 91738., 126756.,  46205.,  98273.,  60150.,  43525., 135675.],\n",
       "      dtype=float32)"
      ]
     },
     "execution_count": 95,
     "metadata": {},
     "output_type": "execute_result"
    }
   ],
   "source": [
    "y_test = y_test[:,0]\n",
    "y_test"
   ]
  },
  {
   "cell_type": "code",
   "execution_count": 96,
   "id": "e784ac78-f4ba-4886-9708-d8ccc1a680a6",
   "metadata": {},
   "outputs": [
    {
     "data": {
      "text/plain": [
       "(7,)"
      ]
     },
     "execution_count": 96,
     "metadata": {},
     "output_type": "execute_result"
    }
   ],
   "source": [
    "y_test.shape"
   ]
  },
  {
   "cell_type": "code",
   "execution_count": 97,
   "id": "328c1d5c-88c1-4f84-b070-bd492d992c2b",
   "metadata": {},
   "outputs": [
    {
     "name": "stdout",
     "output_type": "stream",
     "text": [
      "Training artifacts will be uploaded to: s3://sagemaker-learning-arusa/linear-learner/output\n"
     ]
    }
   ],
   "source": [
    "# create an output placeholder in S3 bucket to store the linear learner output\n",
    "\n",
    "output_location = 's3://{}/{}/output'.format(bucket, prefix)\n",
    "print('Training artifacts will be uploaded to: {}'.format(output_location))"
   ]
  },
  {
   "cell_type": "code",
   "execution_count": 99,
   "id": "7d995b20-8013-4677-a11e-ebf00622c50b",
   "metadata": {},
   "outputs": [
    {
     "name": "stderr",
     "output_type": "stream",
     "text": [
      "The method get_image_uri has been renamed in sagemaker>=2.\n",
      "See: https://sagemaker.readthedocs.io/en/stable/v2.html for details.\n"
     ]
    }
   ],
   "source": [
    "# This code is used to get the training container of sagemaker built-in algorithms (linear learner)\n",
    "# all we have to do is to specify the name of the algorithm, that we want to use\n",
    "\n",
    "# Let's obtain a reference to the linearLearner container image\n",
    "# Note that all regression models are named estimators\n",
    "# You don't have to specify (hardcode) the region, get_image_uri will get the current region name using boto3.Session\n",
    "\n",
    "from sagemaker.amazon.amazon_estimator import get_image_uri\n",
    "\n",
    "container = get_image_uri(boto3.Session().region_name, 'linear-learner')"
   ]
  },
  {
   "cell_type": "code",
   "execution_count": 100,
   "id": "1a3a607a-364f-434b-8a3d-39b835c26041",
   "metadata": {},
   "outputs": [
    {
     "name": "stderr",
     "output_type": "stream",
     "text": [
      "train_instance_count has been renamed in sagemaker>=2.\n",
      "See: https://sagemaker.readthedocs.io/en/stable/v2.html for details.\n",
      "train_instance_type has been renamed in sagemaker>=2.\n",
      "See: https://sagemaker.readthedocs.io/en/stable/v2.html for details.\n",
      "INFO:sagemaker:Creating training-job with name: linear-learner-2024-11-29-03-01-06-855\n"
     ]
    },
    {
     "name": "stdout",
     "output_type": "stream",
     "text": [
      "2024-11-29 03:01:08 Starting - Starting the training job...\n",
      "2024-11-29 03:01:23 Starting - Preparing the instances for training...\n",
      "2024-11-29 03:01:44 Downloading - Downloading input data...\n",
      "2024-11-29 03:02:19 Downloading - Downloading the training image......\n",
      "2024-11-29 03:03:40 Training - Training image download completed. Training in progress...\u001b[34mDocker entrypoint called with argument(s): train\u001b[0m\n",
      "\u001b[34mRunning default environment configuration script\u001b[0m\n",
      "\u001b[34m[11/29/2024 03:03:49 INFO 140313100396352] Reading default configuration from /opt/amazon/lib/python3.8/site-packages/algorithm/resources/default-input.json: {'mini_batch_size': '1000', 'epochs': '15', 'feature_dim': 'auto', 'use_bias': 'true', 'binary_classifier_model_selection_criteria': 'accuracy', 'f_beta': '1.0', 'target_recall': '0.8', 'target_precision': '0.8', 'num_models': 'auto', 'num_calibration_samples': '10000000', 'init_method': 'uniform', 'init_scale': '0.07', 'init_sigma': '0.01', 'init_bias': '0.0', 'optimizer': 'auto', 'loss': 'auto', 'margin': '1.0', 'quantile': '0.5', 'loss_insensitivity': '0.01', 'huber_delta': '1.0', 'num_classes': '1', 'accuracy_top_k': '3', 'wd': 'auto', 'l1': 'auto', 'momentum': 'auto', 'learning_rate': 'auto', 'beta_1': 'auto', 'beta_2': 'auto', 'bias_lr_mult': 'auto', 'bias_wd_mult': 'auto', 'use_lr_scheduler': 'true', 'lr_scheduler_step': 'auto', 'lr_scheduler_factor': 'auto', 'lr_scheduler_minimum_lr': 'auto', 'positive_example_weight_mult': '1.0', 'balance_multiclass_weights': 'false', 'normalize_data': 'true', 'normalize_label': 'auto', 'unbias_data': 'auto', 'unbias_label': 'auto', 'num_point_for_scaler': '10000', '_kvstore': 'auto', '_num_gpus': 'auto', '_num_kv_servers': 'auto', '_log_level': 'info', '_tuning_objective_metric': '', 'early_stopping_patience': '3', 'early_stopping_tolerance': '0.001', '_enable_profiler': 'false'}\u001b[0m\n",
      "\u001b[34m[11/29/2024 03:03:49 INFO 140313100396352] Merging with provided configuration from /opt/ml/input/config/hyperparameters.json: {'epochs': '5', 'feature_dim': '1', 'loss': 'absolute_loss', 'mini_batch_size': '5', 'num_models': '32', 'predictor_type': 'regressor'}\u001b[0m\n",
      "\u001b[34m[11/29/2024 03:03:49 INFO 140313100396352] Final configuration: {'mini_batch_size': '5', 'epochs': '5', 'feature_dim': '1', 'use_bias': 'true', 'binary_classifier_model_selection_criteria': 'accuracy', 'f_beta': '1.0', 'target_recall': '0.8', 'target_precision': '0.8', 'num_models': '32', 'num_calibration_samples': '10000000', 'init_method': 'uniform', 'init_scale': '0.07', 'init_sigma': '0.01', 'init_bias': '0.0', 'optimizer': 'auto', 'loss': 'absolute_loss', 'margin': '1.0', 'quantile': '0.5', 'loss_insensitivity': '0.01', 'huber_delta': '1.0', 'num_classes': '1', 'accuracy_top_k': '3', 'wd': 'auto', 'l1': 'auto', 'momentum': 'auto', 'learning_rate': 'auto', 'beta_1': 'auto', 'beta_2': 'auto', 'bias_lr_mult': 'auto', 'bias_wd_mult': 'auto', 'use_lr_scheduler': 'true', 'lr_scheduler_step': 'auto', 'lr_scheduler_factor': 'auto', 'lr_scheduler_minimum_lr': 'auto', 'positive_example_weight_mult': '1.0', 'balance_multiclass_weights': 'false', 'normalize_data': 'true', 'normalize_label': 'auto', 'unbias_data': 'auto', 'unbias_label': 'auto', 'num_point_for_scaler': '10000', '_kvstore': 'auto', '_num_gpus': 'auto', '_num_kv_servers': 'auto', '_log_level': 'info', '_tuning_objective_metric': '', 'early_stopping_patience': '3', 'early_stopping_tolerance': '0.001', '_enable_profiler': 'false', 'predictor_type': 'regressor'}\u001b[0m\n",
      "\u001b[34m/opt/amazon/lib/python3.8/site-packages/mxnet/model.py:97: SyntaxWarning: \"is\" with a literal. Did you mean \"==\"?\n",
      "  if num_device is 1 and 'dist' not in kvstore:\u001b[0m\n",
      "\u001b[34m/opt/amazon/lib/python3.8/site-packages/scipy/optimize/_shgo.py:495: SyntaxWarning: \"is\" with a literal. Did you mean \"==\"?\n",
      "  if cons['type'] is 'ineq':\u001b[0m\n",
      "\u001b[34m/opt/amazon/lib/python3.8/site-packages/scipy/optimize/_shgo.py:743: SyntaxWarning: \"is not\" with a literal. Did you mean \"!=\"?\n",
      "  if len(self.X_min) is not 0:\u001b[0m\n",
      "\u001b[34m[11/29/2024 03:03:52 WARNING 140313100396352] Loggers have already been setup.\u001b[0m\n",
      "\u001b[34m[11/29/2024 03:03:52 INFO 140313100396352] Final configuration: {'mini_batch_size': '5', 'epochs': '5', 'feature_dim': '1', 'use_bias': 'true', 'binary_classifier_model_selection_criteria': 'accuracy', 'f_beta': '1.0', 'target_recall': '0.8', 'target_precision': '0.8', 'num_models': '32', 'num_calibration_samples': '10000000', 'init_method': 'uniform', 'init_scale': '0.07', 'init_sigma': '0.01', 'init_bias': '0.0', 'optimizer': 'auto', 'loss': 'absolute_loss', 'margin': '1.0', 'quantile': '0.5', 'loss_insensitivity': '0.01', 'huber_delta': '1.0', 'num_classes': '1', 'accuracy_top_k': '3', 'wd': 'auto', 'l1': 'auto', 'momentum': 'auto', 'learning_rate': 'auto', 'beta_1': 'auto', 'beta_2': 'auto', 'bias_lr_mult': 'auto', 'bias_wd_mult': 'auto', 'use_lr_scheduler': 'true', 'lr_scheduler_step': 'auto', 'lr_scheduler_factor': 'auto', 'lr_scheduler_minimum_lr': 'auto', 'positive_example_weight_mult': '1.0', 'balance_multiclass_weights': 'false', 'normalize_data': 'true', 'normalize_label': 'auto', 'unbias_data': 'auto', 'unbias_label': 'auto', 'num_point_for_scaler': '10000', '_kvstore': 'auto', '_num_gpus': 'auto', '_num_kv_servers': 'auto', '_log_level': 'info', '_tuning_objective_metric': '', 'early_stopping_patience': '3', 'early_stopping_tolerance': '0.001', '_enable_profiler': 'false', 'predictor_type': 'regressor'}\u001b[0m\n",
      "\u001b[34m[11/29/2024 03:03:52 WARNING 140313100396352] Loggers have already been setup.\u001b[0m\n",
      "\u001b[34mProcess 7 is a worker.\u001b[0m\n",
      "\u001b[34m[11/29/2024 03:03:52 INFO 140313100396352] Using default worker.\u001b[0m\n",
      "\u001b[34m[11/29/2024 03:03:52 INFO 140313100396352] Checkpoint loading and saving are disabled.\u001b[0m\n",
      "\u001b[34m[2024-11-29 03:03:52.105] [tensorio] [info] epoch_stats={\"data_pipeline\": \"/opt/ml/input/data/train\", \"epoch\": 0, \"duration\": 10, \"num_examples\": 1, \"num_bytes\": 240}\u001b[0m\n",
      "\u001b[34m[11/29/2024 03:03:52 INFO 140313100396352] Create Store: local\u001b[0m\n",
      "\u001b[34m[2024-11-29 03:03:52.132] [tensorio] [info] epoch_stats={\"data_pipeline\": \"/opt/ml/input/data/train\", \"epoch\": 1, \"duration\": 26, \"num_examples\": 6, \"num_bytes\": 1344}\u001b[0m\n",
      "\u001b[34m[11/29/2024 03:03:52 INFO 140313100396352] Scaler algorithm parameters\n",
      " <algorithm.scaler.ScalerAlgorithmStable object at 0x7f9ca0769490>\u001b[0m\n",
      "\u001b[34m[11/29/2024 03:03:52 INFO 140313100396352] Scaling model computed with parameters:\n",
      " {'stdev_label': \u001b[0m\n",
      "\u001b[34m[29229.594]\u001b[0m\n",
      "\u001b[34m<NDArray 1 @cpu(0)>, 'stdev_weight': \u001b[0m\n",
      "\u001b[34m[3.2343159]\u001b[0m\n",
      "\u001b[34m<NDArray 1 @cpu(0)>, 'mean_label': \u001b[0m\n",
      "\u001b[34m[81845.88]\u001b[0m\n",
      "\u001b[34m<NDArray 1 @cpu(0)>, 'mean_weight': \u001b[0m\n",
      "\u001b[34m[6.1000004]\u001b[0m\n",
      "\u001b[34m<NDArray 1 @cpu(0)>}\u001b[0m\n",
      "\u001b[34m/opt/amazon/python3.8/lib/python3.8/subprocess.py:848: RuntimeWarning: line buffering (buffering=1) isn't supported in binary mode, the default buffer size will be used\n",
      "  self.stdout = io.open(c2pread, 'rb', bufsize)\u001b[0m\n",
      "\u001b[34m[11/29/2024 03:03:52 INFO 140313100396352] nvidia-smi: took 0.031 seconds to run.\u001b[0m\n",
      "\u001b[34m[11/29/2024 03:03:52 INFO 140313100396352] nvidia-smi identified 0 GPUs.\u001b[0m\n",
      "\u001b[34m[11/29/2024 03:03:52 INFO 140313100396352] Number of GPUs being used: 0\u001b[0m\n",
      "\u001b[34m#metrics {\"StartTime\": 1732849432.2162898, \"EndTime\": 1732849432.2163231, \"Dimensions\": {\"Algorithm\": \"Linear Learner\", \"Host\": \"algo-1\", \"Operation\": \"training\", \"Meta\": \"init_train_data_iter\"}, \"Metrics\": {\"Total Records Seen\": {\"sum\": 33.0, \"count\": 1, \"min\": 33, \"max\": 33}, \"Total Batches Seen\": {\"sum\": 7.0, \"count\": 1, \"min\": 7, \"max\": 7}, \"Max Records Seen Between Resets\": {\"sum\": 28.0, \"count\": 1, \"min\": 28, \"max\": 28}, \"Max Batches Seen Between Resets\": {\"sum\": 6.0, \"count\": 1, \"min\": 6, \"max\": 6}, \"Reset Count\": {\"sum\": 2.0, \"count\": 1, \"min\": 2, \"max\": 2}, \"Number of Records Since Last Reset\": {\"sum\": 0.0, \"count\": 1, \"min\": 0, \"max\": 0}, \"Number of Batches Since Last Reset\": {\"sum\": 0.0, \"count\": 1, \"min\": 0, \"max\": 0}}}\u001b[0m\n",
      "\u001b[34m[2024-11-29 03:03:52.277] [tensorio] [info] epoch_stats={\"data_pipeline\": \"/opt/ml/input/data/train\", \"epoch\": 4, \"duration\": 61, \"num_examples\": 6, \"num_bytes\": 1344}\u001b[0m\n",
      "\u001b[34m#metrics {\"StartTime\": 1732849432.2778325, \"EndTime\": 1732849432.277906, \"Dimensions\": {\"Algorithm\": \"Linear Learner\", \"Host\": \"algo-1\", \"Operation\": \"training\", \"epoch\": 0, \"model\": 0}, \"Metrics\": {\"train_absolute_loss_objective\": {\"sum\": 0.8857179164886475, \"count\": 1, \"min\": 0.8857179164886475, \"max\": 0.8857179164886475}}}\u001b[0m\n",
      "\u001b[34m#metrics {\"StartTime\": 1732849432.277979, \"EndTime\": 1732849432.2779918, \"Dimensions\": {\"Algorithm\": \"Linear Learner\", \"Host\": \"algo-1\", \"Operation\": \"training\", \"epoch\": 0, \"model\": 1}, \"Metrics\": {\"train_absolute_loss_objective\": {\"sum\": 0.9046221351623536, \"count\": 1, \"min\": 0.9046221351623536, \"max\": 0.9046221351623536}}}\u001b[0m\n",
      "\u001b[34m#metrics {\"StartTime\": 1732849432.2780244, \"EndTime\": 1732849432.2780342, \"Dimensions\": {\"Algorithm\": \"Linear Learner\", \"Host\": \"algo-1\", \"Operation\": \"training\", \"epoch\": 0, \"model\": 2}, \"Metrics\": {\"train_absolute_loss_objective\": {\"sum\": 0.8880078792572021, \"count\": 1, \"min\": 0.8880078792572021, \"max\": 0.8880078792572021}}}\u001b[0m\n",
      "\u001b[34m#metrics {\"StartTime\": 1732849432.2780638, \"EndTime\": 1732849432.278072, \"Dimensions\": {\"Algorithm\": \"Linear Learner\", \"Host\": \"algo-1\", \"Operation\": \"training\", \"epoch\": 0, \"model\": 3}, \"Metrics\": {\"train_absolute_loss_objective\": {\"sum\": 0.9036560535430909, \"count\": 1, \"min\": 0.9036560535430909, \"max\": 0.9036560535430909}}}\u001b[0m\n",
      "\u001b[34m#metrics {\"StartTime\": 1732849432.278098, \"EndTime\": 1732849432.278106, \"Dimensions\": {\"Algorithm\": \"Linear Learner\", \"Host\": \"algo-1\", \"Operation\": \"training\", \"epoch\": 0, \"model\": 4}, \"Metrics\": {\"train_absolute_loss_objective\": {\"sum\": 1.0158870029449463, \"count\": 1, \"min\": 1.0158870029449463, \"max\": 1.0158870029449463}}}\u001b[0m\n",
      "\u001b[34m#metrics {\"StartTime\": 1732849432.2781305, \"EndTime\": 1732849432.2781384, \"Dimensions\": {\"Algorithm\": \"Linear Learner\", \"Host\": \"algo-1\", \"Operation\": \"training\", \"epoch\": 0, \"model\": 5}, \"Metrics\": {\"train_absolute_loss_objective\": {\"sum\": 1.024814567565918, \"count\": 1, \"min\": 1.024814567565918, \"max\": 1.024814567565918}}}\u001b[0m\n",
      "\u001b[34m#metrics {\"StartTime\": 1732849432.2781646, \"EndTime\": 1732849432.2781727, \"Dimensions\": {\"Algorithm\": \"Linear Learner\", \"Host\": \"algo-1\", \"Operation\": \"training\", \"epoch\": 0, \"model\": 6}, \"Metrics\": {\"train_absolute_loss_objective\": {\"sum\": 1.1011119079589844, \"count\": 1, \"min\": 1.1011119079589844, \"max\": 1.1011119079589844}}}\u001b[0m\n",
      "\u001b[34m#metrics {\"StartTime\": 1732849432.2782006, \"EndTime\": 1732849432.278209, \"Dimensions\": {\"Algorithm\": \"Linear Learner\", \"Host\": \"algo-1\", \"Operation\": \"training\", \"epoch\": 0, \"model\": 7}, \"Metrics\": {\"train_absolute_loss_objective\": {\"sum\": 1.0745479774475097, \"count\": 1, \"min\": 1.0745479774475097, \"max\": 1.0745479774475097}}}\u001b[0m\n",
      "\u001b[34m#metrics {\"StartTime\": 1732849432.2782347, \"EndTime\": 1732849432.278243, \"Dimensions\": {\"Algorithm\": \"Linear Learner\", \"Host\": \"algo-1\", \"Operation\": \"training\", \"epoch\": 0, \"model\": 8}, \"Metrics\": {\"train_absolute_loss_objective\": {\"sum\": 0.9387960147857666, \"count\": 1, \"min\": 0.9387960147857666, \"max\": 0.9387960147857666}}}\u001b[0m\n",
      "\u001b[34m#metrics {\"StartTime\": 1732849432.2782676, \"EndTime\": 1732849432.2782753, \"Dimensions\": {\"Algorithm\": \"Linear Learner\", \"Host\": \"algo-1\", \"Operation\": \"training\", \"epoch\": 0, \"model\": 9}, \"Metrics\": {\"train_absolute_loss_objective\": {\"sum\": 0.8742952156066894, \"count\": 1, \"min\": 0.8742952156066894, \"max\": 0.8742952156066894}}}\u001b[0m\n",
      "\u001b[34m#metrics {\"StartTime\": 1732849432.2783012, \"EndTime\": 1732849432.2783098, \"Dimensions\": {\"Algorithm\": \"Linear Learner\", \"Host\": \"algo-1\", \"Operation\": \"training\", \"epoch\": 0, \"model\": 10}, \"Metrics\": {\"train_absolute_loss_objective\": {\"sum\": 0.8806559371948243, \"count\": 1, \"min\": 0.8806559371948243, \"max\": 0.8806559371948243}}}\u001b[0m\n",
      "\u001b[34m#metrics {\"StartTime\": 1732849432.2783403, \"EndTime\": 1732849432.2783487, \"Dimensions\": {\"Algorithm\": \"Linear Learner\", \"Host\": \"algo-1\", \"Operation\": \"training\", \"epoch\": 0, \"model\": 11}, \"Metrics\": {\"train_absolute_loss_objective\": {\"sum\": 0.866590461730957, \"count\": 1, \"min\": 0.866590461730957, \"max\": 0.866590461730957}}}\u001b[0m\n",
      "\u001b[34m#metrics {\"StartTime\": 1732849432.2783895, \"EndTime\": 1732849432.278399, \"Dimensions\": {\"Algorithm\": \"Linear Learner\", \"Host\": \"algo-1\", \"Operation\": \"training\", \"epoch\": 0, \"model\": 12}, \"Metrics\": {\"train_absolute_loss_objective\": {\"sum\": 1.0240998458862305, \"count\": 1, \"min\": 1.0240998458862305, \"max\": 1.0240998458862305}}}\u001b[0m\n",
      "\u001b[34m#metrics {\"StartTime\": 1732849432.2784302, \"EndTime\": 1732849432.2784383, \"Dimensions\": {\"Algorithm\": \"Linear Learner\", \"Host\": \"algo-1\", \"Operation\": \"training\", \"epoch\": 0, \"model\": 13}, \"Metrics\": {\"train_absolute_loss_objective\": {\"sum\": 1.0481609535217284, \"count\": 1, \"min\": 1.0481609535217284, \"max\": 1.0481609535217284}}}\u001b[0m\n",
      "\u001b[34m#metrics {\"StartTime\": 1732849432.278468, \"EndTime\": 1732849432.278477, \"Dimensions\": {\"Algorithm\": \"Linear Learner\", \"Host\": \"algo-1\", \"Operation\": \"training\", \"epoch\": 0, \"model\": 14}, \"Metrics\": {\"train_absolute_loss_objective\": {\"sum\": 1.0227368927001954, \"count\": 1, \"min\": 1.0227368927001954, \"max\": 1.0227368927001954}}}\u001b[0m\n",
      "\u001b[34m#metrics {\"StartTime\": 1732849432.2785094, \"EndTime\": 1732849432.2785192, \"Dimensions\": {\"Algorithm\": \"Linear Learner\", \"Host\": \"algo-1\", \"Operation\": \"training\", \"epoch\": 0, \"model\": 15}, \"Metrics\": {\"train_absolute_loss_objective\": {\"sum\": 1.0539276123046875, \"count\": 1, \"min\": 1.0539276123046875, \"max\": 1.0539276123046875}}}\u001b[0m\n",
      "\u001b[34m#metrics {\"StartTime\": 1732849432.2785478, \"EndTime\": 1732849432.2785559, \"Dimensions\": {\"Algorithm\": \"Linear Learner\", \"Host\": \"algo-1\", \"Operation\": \"training\", \"epoch\": 0, \"model\": 16}, \"Metrics\": {\"train_absolute_loss_objective\": {\"sum\": 0.8514575576782226, \"count\": 1, \"min\": 0.8514575576782226, \"max\": 0.8514575576782226}}}\u001b[0m\n",
      "\u001b[34m#metrics {\"StartTime\": 1732849432.278586, \"EndTime\": 1732849432.2785935, \"Dimensions\": {\"Algorithm\": \"Linear Learner\", \"Host\": \"algo-1\", \"Operation\": \"training\", \"epoch\": 0, \"model\": 17}, \"Metrics\": {\"train_absolute_loss_objective\": {\"sum\": 0.9001054954528809, \"count\": 1, \"min\": 0.9001054954528809, \"max\": 0.9001054954528809}}}\u001b[0m\n",
      "\u001b[34m#metrics {\"StartTime\": 1732849432.2786245, \"EndTime\": 1732849432.2786329, \"Dimensions\": {\"Algorithm\": \"Linear Learner\", \"Host\": \"algo-1\", \"Operation\": \"training\", \"epoch\": 0, \"model\": 18}, \"Metrics\": {\"train_absolute_loss_objective\": {\"sum\": 0.8771456527709961, \"count\": 1, \"min\": 0.8771456527709961, \"max\": 0.8771456527709961}}}\u001b[0m\n",
      "\u001b[34m#metrics {\"StartTime\": 1732849432.2786622, \"EndTime\": 1732849432.2786705, \"Dimensions\": {\"Algorithm\": \"Linear Learner\", \"Host\": \"algo-1\", \"Operation\": \"training\", \"epoch\": 0, \"model\": 19}, \"Metrics\": {\"train_absolute_loss_objective\": {\"sum\": 0.8745811271667481, \"count\": 1, \"min\": 0.8745811271667481, \"max\": 0.8745811271667481}}}\u001b[0m\n",
      "\u001b[34m#metrics {\"StartTime\": 1732849432.278699, \"EndTime\": 1732849432.2787073, \"Dimensions\": {\"Algorithm\": \"Linear Learner\", \"Host\": \"algo-1\", \"Operation\": \"training\", \"epoch\": 0, \"model\": 20}, \"Metrics\": {\"train_absolute_loss_objective\": {\"sum\": 1.0711754035949708, \"count\": 1, \"min\": 1.0711754035949708, \"max\": 1.0711754035949708}}}\u001b[0m\n",
      "\u001b[34m#metrics {\"StartTime\": 1732849432.2787373, \"EndTime\": 1732849432.2787464, \"Dimensions\": {\"Algorithm\": \"Linear Learner\", \"Host\": \"algo-1\", \"Operation\": \"training\", \"epoch\": 0, \"model\": 21}, \"Metrics\": {\"train_absolute_loss_objective\": {\"sum\": 1.083587074279785, \"count\": 1, \"min\": 1.083587074279785, \"max\": 1.083587074279785}}}\u001b[0m\n",
      "\u001b[34m#metrics {\"StartTime\": 1732849432.2787755, \"EndTime\": 1732849432.278784, \"Dimensions\": {\"Algorithm\": \"Linear Learner\", \"Host\": \"algo-1\", \"Operation\": \"training\", \"epoch\": 0, \"model\": 22}, \"Metrics\": {\"train_absolute_loss_objective\": {\"sum\": 1.031425151824951, \"count\": 1, \"min\": 1.031425151824951, \"max\": 1.031425151824951}}}\u001b[0m\n",
      "\u001b[34m#metrics {\"StartTime\": 1732849432.2788117, \"EndTime\": 1732849432.27882, \"Dimensions\": {\"Algorithm\": \"Linear Learner\", \"Host\": \"algo-1\", \"Operation\": \"training\", \"epoch\": 0, \"model\": 23}, \"Metrics\": {\"train_absolute_loss_objective\": {\"sum\": 1.1050889778137207, \"count\": 1, \"min\": 1.1050889778137207, \"max\": 1.1050889778137207}}}\u001b[0m\n",
      "\u001b[34m#metrics {\"StartTime\": 1732849432.2788477, \"EndTime\": 1732849432.278855, \"Dimensions\": {\"Algorithm\": \"Linear Learner\", \"Host\": \"algo-1\", \"Operation\": \"training\", \"epoch\": 0, \"model\": 24}, \"Metrics\": {\"train_absolute_loss_objective\": {\"sum\": 0.8538982582092285, \"count\": 1, \"min\": 0.8538982582092285, \"max\": 0.8538982582092285}}}\u001b[0m\n",
      "\u001b[34m#metrics {\"StartTime\": 1732849432.2788851, \"EndTime\": 1732849432.2788932, \"Dimensions\": {\"Algorithm\": \"Linear Learner\", \"Host\": \"algo-1\", \"Operation\": \"training\", \"epoch\": 0, \"model\": 25}, \"Metrics\": {\"train_absolute_loss_objective\": {\"sum\": 0.9172148323059082, \"count\": 1, \"min\": 0.9172148323059082, \"max\": 0.9172148323059082}}}\u001b[0m\n",
      "\u001b[34m#metrics {\"StartTime\": 1732849432.278925, \"EndTime\": 1732849432.2789333, \"Dimensions\": {\"Algorithm\": \"Linear Learner\", \"Host\": \"algo-1\", \"Operation\": \"training\", \"epoch\": 0, \"model\": 26}, \"Metrics\": {\"train_absolute_loss_objective\": {\"sum\": 0.9046223258972168, \"count\": 1, \"min\": 0.9046223258972168, \"max\": 0.9046223258972168}}}\u001b[0m\n",
      "\u001b[34m#metrics {\"StartTime\": 1732849432.2789614, \"EndTime\": 1732849432.27897, \"Dimensions\": {\"Algorithm\": \"Linear Learner\", \"Host\": \"algo-1\", \"Operation\": \"training\", \"epoch\": 0, \"model\": 27}, \"Metrics\": {\"train_absolute_loss_objective\": {\"sum\": 0.8947124099731445, \"count\": 1, \"min\": 0.8947124099731445, \"max\": 0.8947124099731445}}}\u001b[0m\n",
      "\u001b[34m#metrics {\"StartTime\": 1732849432.2789993, \"EndTime\": 1732849432.279007, \"Dimensions\": {\"Algorithm\": \"Linear Learner\", \"Host\": \"algo-1\", \"Operation\": \"training\", \"epoch\": 0, \"model\": 28}, \"Metrics\": {\"train_absolute_loss_objective\": {\"sum\": 1.15988525390625, \"count\": 1, \"min\": 1.15988525390625, \"max\": 1.15988525390625}}}\u001b[0m\n",
      "\u001b[34m#metrics {\"StartTime\": 1732849432.279035, \"EndTime\": 1732849432.279044, \"Dimensions\": {\"Algorithm\": \"Linear Learner\", \"Host\": \"algo-1\", \"Operation\": \"training\", \"epoch\": 0, \"model\": 29}, \"Metrics\": {\"train_absolute_loss_objective\": {\"sum\": 1.161220302581787, \"count\": 1, \"min\": 1.161220302581787, \"max\": 1.161220302581787}}}\u001b[0m\n",
      "\u001b[34m#metrics {\"StartTime\": 1732849432.279071, \"EndTime\": 1732849432.2790792, \"Dimensions\": {\"Algorithm\": \"Linear Learner\", \"Host\": \"algo-1\", \"Operation\": \"training\", \"epoch\": 0, \"model\": 30}, \"Metrics\": {\"train_absolute_loss_objective\": {\"sum\": 1.1876600074768067, \"count\": 1, \"min\": 1.1876600074768067, \"max\": 1.1876600074768067}}}\u001b[0m\n",
      "\u001b[34m#metrics {\"StartTime\": 1732849432.2791097, \"EndTime\": 1732849432.2791183, \"Dimensions\": {\"Algorithm\": \"Linear Learner\", \"Host\": \"algo-1\", \"Operation\": \"training\", \"epoch\": 0, \"model\": 31}, \"Metrics\": {\"train_absolute_loss_objective\": {\"sum\": 1.1869143104553224, \"count\": 1, \"min\": 1.1869143104553224, \"max\": 1.1869143104553224}}}\u001b[0m\n",
      "\u001b[34m[11/29/2024 03:03:52 INFO 140313100396352] #quality_metric: host=algo-1, epoch=0, train absolute_loss_objective <loss>=0.8857179164886475\u001b[0m\n",
      "\u001b[34m[11/29/2024 03:03:52 INFO 140313100396352] #early_stopping_criteria_metric: host=algo-1, epoch=0, criteria=absolute_loss_objective, value=0.8514575576782226\u001b[0m\n",
      "\u001b[34m[11/29/2024 03:03:52 INFO 140313100396352] Epoch 0: Loss improved. Updating best model\u001b[0m\n",
      "\u001b[34m[11/29/2024 03:03:52 INFO 140313100396352] Saving model for epoch: 0\u001b[0m\n",
      "\u001b[34m[11/29/2024 03:03:52 INFO 140313100396352] Saved checkpoint to \"/tmp/tmp8d3qmani/mx-mod-0000.params\"\u001b[0m\n",
      "\u001b[34m[11/29/2024 03:03:52 INFO 140313100396352] #progress_metric: host=algo-1, completed 20.0 % of epochs\u001b[0m\n",
      "\u001b[34m#metrics {\"StartTime\": 1732849432.216557, \"EndTime\": 1732849432.2867107, \"Dimensions\": {\"Algorithm\": \"Linear Learner\", \"Host\": \"algo-1\", \"Operation\": \"training\", \"epoch\": 0, \"Meta\": \"training_data_iter\"}, \"Metrics\": {\"Total Records Seen\": {\"sum\": 61.0, \"count\": 1, \"min\": 61, \"max\": 61}, \"Total Batches Seen\": {\"sum\": 13.0, \"count\": 1, \"min\": 13, \"max\": 13}, \"Max Records Seen Between Resets\": {\"sum\": 28.0, \"count\": 1, \"min\": 28, \"max\": 28}, \"Max Batches Seen Between Resets\": {\"sum\": 6.0, \"count\": 1, \"min\": 6, \"max\": 6}, \"Reset Count\": {\"sum\": 3.0, \"count\": 1, \"min\": 3, \"max\": 3}, \"Number of Records Since Last Reset\": {\"sum\": 28.0, \"count\": 1, \"min\": 28, \"max\": 28}, \"Number of Batches Since Last Reset\": {\"sum\": 6.0, \"count\": 1, \"min\": 6, \"max\": 6}}}\u001b[0m\n",
      "\u001b[34m[11/29/2024 03:03:52 INFO 140313100396352] #throughput_metric: host=algo-1, train throughput=398.5763176650263 records/second\u001b[0m\n",
      "\u001b[34m[2024-11-29 03:03:52.343] [tensorio] [info] epoch_stats={\"data_pipeline\": \"/opt/ml/input/data/train\", \"epoch\": 6, \"duration\": 55, \"num_examples\": 6, \"num_bytes\": 1344}\u001b[0m\n",
      "\u001b[34m#metrics {\"StartTime\": 1732849432.343042, \"EndTime\": 1732849432.3431046, \"Dimensions\": {\"Algorithm\": \"Linear Learner\", \"Host\": \"algo-1\", \"Operation\": \"training\", \"epoch\": 1, \"model\": 0}, \"Metrics\": {\"train_absolute_loss_objective\": {\"sum\": 0.8606477546691894, \"count\": 1, \"min\": 0.8606477546691894, \"max\": 0.8606477546691894}}}\u001b[0m\n",
      "\u001b[34m#metrics {\"StartTime\": 1732849432.3431702, \"EndTime\": 1732849432.3431811, \"Dimensions\": {\"Algorithm\": \"Linear Learner\", \"Host\": \"algo-1\", \"Operation\": \"training\", \"epoch\": 1, \"model\": 1}, \"Metrics\": {\"train_absolute_loss_objective\": {\"sum\": 0.8795520210266113, \"count\": 1, \"min\": 0.8795520210266113, \"max\": 0.8795520210266113}}}\u001b[0m\n",
      "\u001b[34m#metrics {\"StartTime\": 1732849432.343212, \"EndTime\": 1732849432.34322, \"Dimensions\": {\"Algorithm\": \"Linear Learner\", \"Host\": \"algo-1\", \"Operation\": \"training\", \"epoch\": 1, \"model\": 2}, \"Metrics\": {\"train_absolute_loss_objective\": {\"sum\": 0.8629377651214599, \"count\": 1, \"min\": 0.8629377651214599, \"max\": 0.8629377651214599}}}\u001b[0m\n",
      "\u001b[34m#metrics {\"StartTime\": 1732849432.3432467, \"EndTime\": 1732849432.3432536, \"Dimensions\": {\"Algorithm\": \"Linear Learner\", \"Host\": \"algo-1\", \"Operation\": \"training\", \"epoch\": 1, \"model\": 3}, \"Metrics\": {\"train_absolute_loss_objective\": {\"sum\": 0.8785859203338623, \"count\": 1, \"min\": 0.8785859203338623, \"max\": 0.8785859203338623}}}\u001b[0m\n",
      "\u001b[34m#metrics {\"StartTime\": 1732849432.3432786, \"EndTime\": 1732849432.3432858, \"Dimensions\": {\"Algorithm\": \"Linear Learner\", \"Host\": \"algo-1\", \"Operation\": \"training\", \"epoch\": 1, \"model\": 4}, \"Metrics\": {\"train_absolute_loss_objective\": {\"sum\": 0.4363314342498779, \"count\": 1, \"min\": 0.4363314342498779, \"max\": 0.4363314342498779}}}\u001b[0m\n",
      "\u001b[34m#metrics {\"StartTime\": 1732849432.3433106, \"EndTime\": 1732849432.3433175, \"Dimensions\": {\"Algorithm\": \"Linear Learner\", \"Host\": \"algo-1\", \"Operation\": \"training\", \"epoch\": 1, \"model\": 5}, \"Metrics\": {\"train_absolute_loss_objective\": {\"sum\": 0.44513486862182616, \"count\": 1, \"min\": 0.44513486862182616, \"max\": 0.44513486862182616}}}\u001b[0m\n",
      "\u001b[34m#metrics {\"StartTime\": 1732849432.3433425, \"EndTime\": 1732849432.343349, \"Dimensions\": {\"Algorithm\": \"Linear Learner\", \"Host\": \"algo-1\", \"Operation\": \"training\", \"epoch\": 1, \"model\": 6}, \"Metrics\": {\"train_absolute_loss_objective\": {\"sum\": 0.5266837644577026, \"count\": 1, \"min\": 0.5266837644577026, \"max\": 0.5266837644577026}}}\u001b[0m\n",
      "\u001b[34m#metrics {\"StartTime\": 1732849432.3433707, \"EndTime\": 1732849432.343377, \"Dimensions\": {\"Algorithm\": \"Linear Learner\", \"Host\": \"algo-1\", \"Operation\": \"training\", \"epoch\": 1, \"model\": 7}, \"Metrics\": {\"train_absolute_loss_objective\": {\"sum\": 0.49753771781921385, \"count\": 1, \"min\": 0.49753771781921385, \"max\": 0.49753771781921385}}}\u001b[0m\n",
      "\u001b[34m#metrics {\"StartTime\": 1732849432.3433993, \"EndTime\": 1732849432.3434052, \"Dimensions\": {\"Algorithm\": \"Linear Learner\", \"Host\": \"algo-1\", \"Operation\": \"training\", \"epoch\": 1, \"model\": 8}, \"Metrics\": {\"train_absolute_loss_objective\": {\"sum\": 0.9137251949310303, \"count\": 1, \"min\": 0.9137251949310303, \"max\": 0.9137251949310303}}}\u001b[0m\n",
      "\u001b[34m#metrics {\"StartTime\": 1732849432.3434277, \"EndTime\": 1732849432.3434343, \"Dimensions\": {\"Algorithm\": \"Linear Learner\", \"Host\": \"algo-1\", \"Operation\": \"training\", \"epoch\": 1, \"model\": 9}, \"Metrics\": {\"train_absolute_loss_objective\": {\"sum\": 0.8492259407043456, \"count\": 1, \"min\": 0.8492259407043456, \"max\": 0.8492259407043456}}}\u001b[0m\n",
      "\u001b[34m#metrics {\"StartTime\": 1732849432.3434565, \"EndTime\": 1732849432.343463, \"Dimensions\": {\"Algorithm\": \"Linear Learner\", \"Host\": \"algo-1\", \"Operation\": \"training\", \"epoch\": 1, \"model\": 10}, \"Metrics\": {\"train_absolute_loss_objective\": {\"sum\": 0.8555865859985352, \"count\": 1, \"min\": 0.8555865859985352, \"max\": 0.8555865859985352}}}\u001b[0m\n",
      "\u001b[34m#metrics {\"StartTime\": 1732849432.3434863, \"EndTime\": 1732849432.3434932, \"Dimensions\": {\"Algorithm\": \"Linear Learner\", \"Host\": \"algo-1\", \"Operation\": \"training\", \"epoch\": 1, \"model\": 11}, \"Metrics\": {\"train_absolute_loss_objective\": {\"sum\": 0.8415214252471924, \"count\": 1, \"min\": 0.8415214252471924, \"max\": 0.8415214252471924}}}\u001b[0m\n",
      "\u001b[34m#metrics {\"StartTime\": 1732849432.3435175, \"EndTime\": 1732849432.343524, \"Dimensions\": {\"Algorithm\": \"Linear Learner\", \"Host\": \"algo-1\", \"Operation\": \"training\", \"epoch\": 1, \"model\": 12}, \"Metrics\": {\"train_absolute_loss_objective\": {\"sum\": 0.4447260093688965, \"count\": 1, \"min\": 0.4447260093688965, \"max\": 0.4447260093688965}}}\u001b[0m\n",
      "\u001b[34m#metrics {\"StartTime\": 1732849432.3435476, \"EndTime\": 1732849432.3435543, \"Dimensions\": {\"Algorithm\": \"Linear Learner\", \"Host\": \"algo-1\", \"Operation\": \"training\", \"epoch\": 1, \"model\": 13}, \"Metrics\": {\"train_absolute_loss_objective\": {\"sum\": 0.468890905380249, \"count\": 1, \"min\": 0.468890905380249, \"max\": 0.468890905380249}}}\u001b[0m\n",
      "\u001b[34m#metrics {\"StartTime\": 1732849432.3435774, \"EndTime\": 1732849432.3435838, \"Dimensions\": {\"Algorithm\": \"Linear Learner\", \"Host\": \"algo-1\", \"Operation\": \"training\", \"epoch\": 1, \"model\": 14}, \"Metrics\": {\"train_absolute_loss_objective\": {\"sum\": 0.4433842039108276, \"count\": 1, \"min\": 0.4433842039108276, \"max\": 0.4433842039108276}}}\u001b[0m\n",
      "\u001b[34m#metrics {\"StartTime\": 1732849432.3436077, \"EndTime\": 1732849432.343614, \"Dimensions\": {\"Algorithm\": \"Linear Learner\", \"Host\": \"algo-1\", \"Operation\": \"training\", \"epoch\": 1, \"model\": 15}, \"Metrics\": {\"train_absolute_loss_objective\": {\"sum\": 0.4752076721191406, \"count\": 1, \"min\": 0.4752076721191406, \"max\": 0.4752076721191406}}}\u001b[0m\n",
      "\u001b[34m#metrics {\"StartTime\": 1732849432.3436377, \"EndTime\": 1732849432.3436444, \"Dimensions\": {\"Algorithm\": \"Linear Learner\", \"Host\": \"algo-1\", \"Operation\": \"training\", \"epoch\": 1, \"model\": 16}, \"Metrics\": {\"train_absolute_loss_objective\": {\"sum\": 0.8265483379364014, \"count\": 1, \"min\": 0.8265483379364014, \"max\": 0.8265483379364014}}}\u001b[0m\n",
      "\u001b[34m#metrics {\"StartTime\": 1732849432.3436675, \"EndTime\": 1732849432.3436742, \"Dimensions\": {\"Algorithm\": \"Linear Learner\", \"Host\": \"algo-1\", \"Operation\": \"training\", \"epoch\": 1, \"model\": 17}, \"Metrics\": {\"train_absolute_loss_objective\": {\"sum\": 0.8750633335113526, \"count\": 1, \"min\": 0.8750633335113526, \"max\": 0.8750633335113526}}}\u001b[0m\n",
      "\u001b[34m#metrics {\"StartTime\": 1732849432.3436983, \"EndTime\": 1732849432.3437052, \"Dimensions\": {\"Algorithm\": \"Linear Learner\", \"Host\": \"algo-1\", \"Operation\": \"training\", \"epoch\": 1, \"model\": 18}, \"Metrics\": {\"train_absolute_loss_objective\": {\"sum\": 0.8521628475189209, \"count\": 1, \"min\": 0.8521628475189209, \"max\": 0.8521628475189209}}}\u001b[0m\n",
      "\u001b[34m#metrics {\"StartTime\": 1732849432.3437285, \"EndTime\": 1732849432.343735, \"Dimensions\": {\"Algorithm\": \"Linear Learner\", \"Host\": \"algo-1\", \"Operation\": \"training\", \"epoch\": 1, \"model\": 19}, \"Metrics\": {\"train_absolute_loss_objective\": {\"sum\": 0.8496053028106689, \"count\": 1, \"min\": 0.8496053028106689, \"max\": 0.8496053028106689}}}\u001b[0m\n",
      "\u001b[34m#metrics {\"StartTime\": 1732849432.3437588, \"EndTime\": 1732849432.3437657, \"Dimensions\": {\"Algorithm\": \"Linear Learner\", \"Host\": \"algo-1\", \"Operation\": \"training\", \"epoch\": 1, \"model\": 20}, \"Metrics\": {\"train_absolute_loss_objective\": {\"sum\": 0.5332916116714478, \"count\": 1, \"min\": 0.5332916116714478, \"max\": 0.5332916116714478}}}\u001b[0m\n",
      "\u001b[34m#metrics {\"StartTime\": 1732849432.3437881, \"EndTime\": 1732849432.3437943, \"Dimensions\": {\"Algorithm\": \"Linear Learner\", \"Host\": \"algo-1\", \"Operation\": \"training\", \"epoch\": 1, \"model\": 21}, \"Metrics\": {\"train_absolute_loss_objective\": {\"sum\": 0.5430791854858399, \"count\": 1, \"min\": 0.5430791854858399, \"max\": 0.5430791854858399}}}\u001b[0m\n",
      "\u001b[34m#metrics {\"StartTime\": 1732849432.3438184, \"EndTime\": 1732849432.3438244, \"Dimensions\": {\"Algorithm\": \"Linear Learner\", \"Host\": \"algo-1\", \"Operation\": \"training\", \"epoch\": 1, \"model\": 22}, \"Metrics\": {\"train_absolute_loss_objective\": {\"sum\": 0.5034720277786255, \"count\": 1, \"min\": 0.5034720277786255, \"max\": 0.5034720277786255}}}\u001b[0m\n",
      "\u001b[34m#metrics {\"StartTime\": 1732849432.3438478, \"EndTime\": 1732849432.3438544, \"Dimensions\": {\"Algorithm\": \"Linear Learner\", \"Host\": \"algo-1\", \"Operation\": \"training\", \"epoch\": 1, \"model\": 23}, \"Metrics\": {\"train_absolute_loss_objective\": {\"sum\": 0.5605115985870361, \"count\": 1, \"min\": 0.5605115985870361, \"max\": 0.5605115985870361}}}\u001b[0m\n",
      "\u001b[34m#metrics {\"StartTime\": 1732849432.3438787, \"EndTime\": 1732849432.3438857, \"Dimensions\": {\"Algorithm\": \"Linear Learner\", \"Host\": \"algo-1\", \"Operation\": \"training\", \"epoch\": 1, \"model\": 24}, \"Metrics\": {\"train_absolute_loss_objective\": {\"sum\": 0.8681389236450195, \"count\": 1, \"min\": 0.8681389236450195, \"max\": 0.8681389236450195}}}\u001b[0m\n",
      "\u001b[34m#metrics {\"StartTime\": 1732849432.3439202, \"EndTime\": 1732849432.3439274, \"Dimensions\": {\"Algorithm\": \"Linear Learner\", \"Host\": \"algo-1\", \"Operation\": \"training\", \"epoch\": 1, \"model\": 25}, \"Metrics\": {\"train_absolute_loss_objective\": {\"sum\": 0.8929144287109375, \"count\": 1, \"min\": 0.8929144287109375, \"max\": 0.8929144287109375}}}\u001b[0m\n",
      "\u001b[34m#metrics {\"StartTime\": 1732849432.343951, \"EndTime\": 1732849432.343958, \"Dimensions\": {\"Algorithm\": \"Linear Learner\", \"Host\": \"algo-1\", \"Operation\": \"training\", \"epoch\": 1, \"model\": 26}, \"Metrics\": {\"train_absolute_loss_objective\": {\"sum\": 0.8830722713470459, \"count\": 1, \"min\": 0.8830722713470459, \"max\": 0.8830722713470459}}}\u001b[0m\n",
      "\u001b[34m#metrics {\"StartTime\": 1732849432.3439975, \"EndTime\": 1732849432.3440316, \"Dimensions\": {\"Algorithm\": \"Linear Learner\", \"Host\": \"algo-1\", \"Operation\": \"training\", \"epoch\": 1, \"model\": 27}, \"Metrics\": {\"train_absolute_loss_objective\": {\"sum\": 0.8829189968109131, \"count\": 1, \"min\": 0.8829189968109131, \"max\": 0.8829189968109131}}}\u001b[0m\n",
      "\u001b[34m#metrics {\"StartTime\": 1732849432.344056, \"EndTime\": 1732849432.344061, \"Dimensions\": {\"Algorithm\": \"Linear Learner\", \"Host\": \"algo-1\", \"Operation\": \"training\", \"epoch\": 1, \"model\": 28}, \"Metrics\": {\"train_absolute_loss_objective\": {\"sum\": 0.9994689750671387, \"count\": 1, \"min\": 0.9994689750671387, \"max\": 0.9994689750671387}}}\u001b[0m\n",
      "\u001b[34m#metrics {\"StartTime\": 1732849432.344082, \"EndTime\": 1732849432.3440886, \"Dimensions\": {\"Algorithm\": \"Linear Learner\", \"Host\": \"algo-1\", \"Operation\": \"training\", \"epoch\": 1, \"model\": 29}, \"Metrics\": {\"train_absolute_loss_objective\": {\"sum\": 0.9981697463989258, \"count\": 1, \"min\": 0.9981697463989258, \"max\": 0.9981697463989258}}}\u001b[0m\n",
      "\u001b[34m#metrics {\"StartTime\": 1732849432.3441129, \"EndTime\": 1732849432.3441195, \"Dimensions\": {\"Algorithm\": \"Linear Learner\", \"Host\": \"algo-1\", \"Operation\": \"training\", \"epoch\": 1, \"model\": 30}, \"Metrics\": {\"train_absolute_loss_objective\": {\"sum\": 0.9938640403747558, \"count\": 1, \"min\": 0.9938640403747558, \"max\": 0.9938640403747558}}}\u001b[0m\n",
      "\u001b[34m#metrics {\"StartTime\": 1732849432.3441439, \"EndTime\": 1732849432.344151, \"Dimensions\": {\"Algorithm\": \"Linear Learner\", \"Host\": \"algo-1\", \"Operation\": \"training\", \"epoch\": 1, \"model\": 31}, \"Metrics\": {\"train_absolute_loss_objective\": {\"sum\": 1.0018327713012696, \"count\": 1, \"min\": 1.0018327713012696, \"max\": 1.0018327713012696}}}\u001b[0m\n",
      "\u001b[34m[11/29/2024 03:03:52 INFO 140313100396352] #quality_metric: host=algo-1, epoch=1, train absolute_loss_objective <loss>=0.8606477546691894\u001b[0m\n",
      "\u001b[34m[11/29/2024 03:03:52 INFO 140313100396352] #early_stopping_criteria_metric: host=algo-1, epoch=1, criteria=absolute_loss_objective, value=0.4363314342498779\u001b[0m\n",
      "\u001b[34m[11/29/2024 03:03:52 INFO 140313100396352] Epoch 1: Loss improved. Updating best model\u001b[0m\n",
      "\u001b[34m[11/29/2024 03:03:52 INFO 140313100396352] Saving model for epoch: 1\u001b[0m\n",
      "\u001b[34m[11/29/2024 03:03:52 INFO 140313100396352] Saved checkpoint to \"/tmp/tmpqh529ojc/mx-mod-0000.params\"\u001b[0m\n",
      "\u001b[34m[11/29/2024 03:03:52 INFO 140313100396352] #progress_metric: host=algo-1, completed 40.0 % of epochs\u001b[0m\n",
      "\u001b[34m#metrics {\"StartTime\": 1732849432.286931, \"EndTime\": 1732849432.3517706, \"Dimensions\": {\"Algorithm\": \"Linear Learner\", \"Host\": \"algo-1\", \"Operation\": \"training\", \"epoch\": 1, \"Meta\": \"training_data_iter\"}, \"Metrics\": {\"Total Records Seen\": {\"sum\": 89.0, \"count\": 1, \"min\": 89, \"max\": 89}, \"Total Batches Seen\": {\"sum\": 19.0, \"count\": 1, \"min\": 19, \"max\": 19}, \"Max Records Seen Between Resets\": {\"sum\": 28.0, \"count\": 1, \"min\": 28, \"max\": 28}, \"Max Batches Seen Between Resets\": {\"sum\": 6.0, \"count\": 1, \"min\": 6, \"max\": 6}, \"Reset Count\": {\"sum\": 4.0, \"count\": 1, \"min\": 4, \"max\": 4}, \"Number of Records Since Last Reset\": {\"sum\": 28.0, \"count\": 1, \"min\": 28, \"max\": 28}, \"Number of Batches Since Last Reset\": {\"sum\": 6.0, \"count\": 1, \"min\": 6, \"max\": 6}}}\u001b[0m\n",
      "\u001b[34m[11/29/2024 03:03:52 INFO 140313100396352] #throughput_metric: host=algo-1, train throughput=431.1183257528202 records/second\u001b[0m\n",
      "\u001b[34m[2024-11-29 03:03:52.418] [tensorio] [info] epoch_stats={\"data_pipeline\": \"/opt/ml/input/data/train\", \"epoch\": 8, \"duration\": 66, \"num_examples\": 6, \"num_bytes\": 1344}\u001b[0m\n",
      "\u001b[34m#metrics {\"StartTime\": 1732849432.4185326, \"EndTime\": 1732849432.418617, \"Dimensions\": {\"Algorithm\": \"Linear Learner\", \"Host\": \"algo-1\", \"Operation\": \"training\", \"epoch\": 2, \"model\": 0}, \"Metrics\": {\"train_absolute_loss_objective\": {\"sum\": 0.8394542694091797, \"count\": 1, \"min\": 0.8394542694091797, \"max\": 0.8394542694091797}}}\u001b[0m\n",
      "\u001b[34m#metrics {\"StartTime\": 1732849432.418688, \"EndTime\": 1732849432.4186997, \"Dimensions\": {\"Algorithm\": \"Linear Learner\", \"Host\": \"algo-1\", \"Operation\": \"training\", \"epoch\": 2, \"model\": 1}, \"Metrics\": {\"train_absolute_loss_objective\": {\"sum\": 0.8582870960235596, \"count\": 1, \"min\": 0.8582870960235596, \"max\": 0.8582870960235596}}}\u001b[0m\n",
      "\u001b[34m#metrics {\"StartTime\": 1732849432.418729, \"EndTime\": 1732849432.4187372, \"Dimensions\": {\"Algorithm\": \"Linear Learner\", \"Host\": \"algo-1\", \"Operation\": \"training\", \"epoch\": 2, \"model\": 2}, \"Metrics\": {\"train_absolute_loss_objective\": {\"sum\": 0.8417442607879638, \"count\": 1, \"min\": 0.8417442607879638, \"max\": 0.8417442607879638}}}\u001b[0m\n",
      "\u001b[34m#metrics {\"StartTime\": 1732849432.4187596, \"EndTime\": 1732849432.4187665, \"Dimensions\": {\"Algorithm\": \"Linear Learner\", \"Host\": \"algo-1\", \"Operation\": \"training\", \"epoch\": 2, \"model\": 3}, \"Metrics\": {\"train_absolute_loss_objective\": {\"sum\": 0.8573210144042969, \"count\": 1, \"min\": 0.8573210144042969, \"max\": 0.8573210144042969}}}\u001b[0m\n",
      "\u001b[34m#metrics {\"StartTime\": 1732849432.418792, \"EndTime\": 1732849432.4187999, \"Dimensions\": {\"Algorithm\": \"Linear Learner\", \"Host\": \"algo-1\", \"Operation\": \"training\", \"epoch\": 2, \"model\": 4}, \"Metrics\": {\"train_absolute_loss_objective\": {\"sum\": 0.23523757934570313, \"count\": 1, \"min\": 0.23523757934570313, \"max\": 0.23523757934570313}}}\u001b[0m\n",
      "\u001b[34m#metrics {\"StartTime\": 1732849432.4188325, \"EndTime\": 1732849432.4188414, \"Dimensions\": {\"Algorithm\": \"Linear Learner\", \"Host\": \"algo-1\", \"Operation\": \"training\", \"epoch\": 2, \"model\": 5}, \"Metrics\": {\"train_absolute_loss_objective\": {\"sum\": 0.22509600400924681, \"count\": 1, \"min\": 0.22509600400924681, \"max\": 0.22509600400924681}}}\u001b[0m\n",
      "\u001b[34m#metrics {\"StartTime\": 1732849432.418871, \"EndTime\": 1732849432.4188797, \"Dimensions\": {\"Algorithm\": \"Linear Learner\", \"Host\": \"algo-1\", \"Operation\": \"training\", \"epoch\": 2, \"model\": 6}, \"Metrics\": {\"train_absolute_loss_objective\": {\"sum\": 0.2760679483413696, \"count\": 1, \"min\": 0.2760679483413696, \"max\": 0.2760679483413696}}}\u001b[0m\n",
      "\u001b[34m#metrics {\"StartTime\": 1732849432.4189105, \"EndTime\": 1732849432.4189184, \"Dimensions\": {\"Algorithm\": \"Linear Learner\", \"Host\": \"algo-1\", \"Operation\": \"training\", \"epoch\": 2, \"model\": 7}, \"Metrics\": {\"train_absolute_loss_objective\": {\"sum\": 0.2718569564819336, \"count\": 1, \"min\": 0.2718569564819336, \"max\": 0.2718569564819336}}}\u001b[0m\n",
      "\u001b[34m#metrics {\"StartTime\": 1732849432.4189444, \"EndTime\": 1732849432.4189517, \"Dimensions\": {\"Algorithm\": \"Linear Learner\", \"Host\": \"algo-1\", \"Operation\": \"training\", \"epoch\": 2, \"model\": 8}, \"Metrics\": {\"train_absolute_loss_objective\": {\"sum\": 0.892532024383545, \"count\": 1, \"min\": 0.892532024383545, \"max\": 0.892532024383545}}}\u001b[0m\n",
      "\u001b[34m#metrics {\"StartTime\": 1732849432.4189806, \"EndTime\": 1732849432.4189897, \"Dimensions\": {\"Algorithm\": \"Linear Learner\", \"Host\": \"algo-1\", \"Operation\": \"training\", \"epoch\": 2, \"model\": 9}, \"Metrics\": {\"train_absolute_loss_objective\": {\"sum\": 0.8279628276824951, \"count\": 1, \"min\": 0.8279628276824951, \"max\": 0.8279628276824951}}}\u001b[0m\n",
      "\u001b[34m#metrics {\"StartTime\": 1732849432.4190216, \"EndTime\": 1732849432.4190302, \"Dimensions\": {\"Algorithm\": \"Linear Learner\", \"Host\": \"algo-1\", \"Operation\": \"training\", \"epoch\": 2, \"model\": 10}, \"Metrics\": {\"train_absolute_loss_objective\": {\"sum\": 0.834394702911377, \"count\": 1, \"min\": 0.834394702911377, \"max\": 0.834394702911377}}}\u001b[0m\n",
      "\u001b[34m#metrics {\"StartTime\": 1732849432.4190571, \"EndTime\": 1732849432.4190652, \"Dimensions\": {\"Algorithm\": \"Linear Learner\", \"Host\": \"algo-1\", \"Operation\": \"training\", \"epoch\": 2, \"model\": 11}, \"Metrics\": {\"train_absolute_loss_objective\": {\"sum\": 0.8202584743499756, \"count\": 1, \"min\": 0.8202584743499756, \"max\": 0.8202584743499756}}}\u001b[0m\n",
      "\u001b[34m#metrics {\"StartTime\": 1732849432.4190938, \"EndTime\": 1732849432.4191017, \"Dimensions\": {\"Algorithm\": \"Linear Learner\", \"Host\": \"algo-1\", \"Operation\": \"training\", \"epoch\": 2, \"model\": 12}, \"Metrics\": {\"train_absolute_loss_objective\": {\"sum\": 0.22426285982131958, \"count\": 1, \"min\": 0.22426285982131958, \"max\": 0.22426285982131958}}}\u001b[0m\n",
      "\u001b[34m#metrics {\"StartTime\": 1732849432.4191344, \"EndTime\": 1732849432.4191427, \"Dimensions\": {\"Algorithm\": \"Linear Learner\", \"Host\": \"algo-1\", \"Operation\": \"training\", \"epoch\": 2, \"model\": 13}, \"Metrics\": {\"train_absolute_loss_objective\": {\"sum\": 0.268189857006073, \"count\": 1, \"min\": 0.268189857006073, \"max\": 0.268189857006073}}}\u001b[0m\n",
      "\u001b[34m#metrics {\"StartTime\": 1732849432.4191692, \"EndTime\": 1732849432.4191773, \"Dimensions\": {\"Algorithm\": \"Linear Learner\", \"Host\": \"algo-1\", \"Operation\": \"training\", \"epoch\": 2, \"model\": 14}, \"Metrics\": {\"train_absolute_loss_objective\": {\"sum\": 0.22452669620513915, \"count\": 1, \"min\": 0.22452669620513915, \"max\": 0.22452669620513915}}}\u001b[0m\n",
      "\u001b[34m#metrics {\"StartTime\": 1732849432.4192054, \"EndTime\": 1732849432.419214, \"Dimensions\": {\"Algorithm\": \"Linear Learner\", \"Host\": \"algo-1\", \"Operation\": \"training\", \"epoch\": 2, \"model\": 15}, \"Metrics\": {\"train_absolute_loss_objective\": {\"sum\": 0.2686932373046875, \"count\": 1, \"min\": 0.2686932373046875, \"max\": 0.2686932373046875}}}\u001b[0m\n",
      "\u001b[34m#metrics {\"StartTime\": 1732849432.4192429, \"EndTime\": 1732849432.419251, \"Dimensions\": {\"Algorithm\": \"Linear Learner\", \"Host\": \"algo-1\", \"Operation\": \"training\", \"epoch\": 2, \"model\": 16}, \"Metrics\": {\"train_absolute_loss_objective\": {\"sum\": 0.8056144332885742, \"count\": 1, \"min\": 0.8056144332885742, \"max\": 0.8056144332885742}}}\u001b[0m\n",
      "\u001b[34m#metrics {\"StartTime\": 1732849432.4192781, \"EndTime\": 1732849432.4192863, \"Dimensions\": {\"Algorithm\": \"Linear Learner\", \"Host\": \"algo-1\", \"Operation\": \"training\", \"epoch\": 2, \"model\": 17}, \"Metrics\": {\"train_absolute_loss_objective\": {\"sum\": 0.8539247703552246, \"count\": 1, \"min\": 0.8539247703552246, \"max\": 0.8539247703552246}}}\u001b[0m\n",
      "\u001b[34m#metrics {\"StartTime\": 1732849432.419314, \"EndTime\": 1732849432.4193215, \"Dimensions\": {\"Algorithm\": \"Linear Learner\", \"Host\": \"algo-1\", \"Operation\": \"training\", \"epoch\": 2, \"model\": 18}, \"Metrics\": {\"train_absolute_loss_objective\": {\"sum\": 0.8311548614501953, \"count\": 1, \"min\": 0.8311548614501953, \"max\": 0.8311548614501953}}}\u001b[0m\n",
      "\u001b[34m#metrics {\"StartTime\": 1732849432.4193475, \"EndTime\": 1732849432.4193554, \"Dimensions\": {\"Algorithm\": \"Linear Learner\", \"Host\": \"algo-1\", \"Operation\": \"training\", \"epoch\": 2, \"model\": 19}, \"Metrics\": {\"train_absolute_loss_objective\": {\"sum\": 0.8285339736938476, \"count\": 1, \"min\": 0.8285339736938476, \"max\": 0.8285339736938476}}}\u001b[0m\n",
      "\u001b[34m#metrics {\"StartTime\": 1732849432.419387, \"EndTime\": 1732849432.419395, \"Dimensions\": {\"Algorithm\": \"Linear Learner\", \"Host\": \"algo-1\", \"Operation\": \"training\", \"epoch\": 2, \"model\": 20}, \"Metrics\": {\"train_absolute_loss_objective\": {\"sum\": 0.38668614387512207, \"count\": 1, \"min\": 0.38668614387512207, \"max\": 0.38668614387512207}}}\u001b[0m\n",
      "\u001b[34m#metrics {\"StartTime\": 1732849432.4194264, \"EndTime\": 1732849432.4194355, \"Dimensions\": {\"Algorithm\": \"Linear Learner\", \"Host\": \"algo-1\", \"Operation\": \"training\", \"epoch\": 2, \"model\": 21}, \"Metrics\": {\"train_absolute_loss_objective\": {\"sum\": 0.3897452449798584, \"count\": 1, \"min\": 0.3897452449798584, \"max\": 0.3897452449798584}}}\u001b[0m\n",
      "\u001b[34m#metrics {\"StartTime\": 1732849432.4194632, \"EndTime\": 1732849432.419471, \"Dimensions\": {\"Algorithm\": \"Linear Learner\", \"Host\": \"algo-1\", \"Operation\": \"training\", \"epoch\": 2, \"model\": 22}, \"Metrics\": {\"train_absolute_loss_objective\": {\"sum\": 0.37996816635131836, \"count\": 1, \"min\": 0.37996816635131836, \"max\": 0.37996816635131836}}}\u001b[0m\n",
      "\u001b[34m#metrics {\"StartTime\": 1732849432.4194977, \"EndTime\": 1732849432.4195068, \"Dimensions\": {\"Algorithm\": \"Linear Learner\", \"Host\": \"algo-1\", \"Operation\": \"training\", \"epoch\": 2, \"model\": 23}, \"Metrics\": {\"train_absolute_loss_objective\": {\"sum\": 0.39492852687835694, \"count\": 1, \"min\": 0.39492852687835694, \"max\": 0.39492852687835694}}}\u001b[0m\n",
      "\u001b[34m#metrics {\"StartTime\": 1732849432.4195383, \"EndTime\": 1732849432.4195461, \"Dimensions\": {\"Algorithm\": \"Linear Learner\", \"Host\": \"algo-1\", \"Operation\": \"training\", \"epoch\": 2, \"model\": 24}, \"Metrics\": {\"train_absolute_loss_objective\": {\"sum\": 0.8831136703491211, \"count\": 1, \"min\": 0.8831136703491211, \"max\": 0.8831136703491211}}}\u001b[0m\n",
      "\u001b[34m#metrics {\"StartTime\": 1732849432.4195726, \"EndTime\": 1732849432.4195802, \"Dimensions\": {\"Algorithm\": \"Linear Learner\", \"Host\": \"algo-1\", \"Operation\": \"training\", \"epoch\": 2, \"model\": 25}, \"Metrics\": {\"train_absolute_loss_objective\": {\"sum\": 0.8784992408752441, \"count\": 1, \"min\": 0.8784992408752441, \"max\": 0.8784992408752441}}}\u001b[0m\n",
      "\u001b[34m#metrics {\"StartTime\": 1732849432.4196541, \"EndTime\": 1732849432.419667, \"Dimensions\": {\"Algorithm\": \"Linear Learner\", \"Host\": \"algo-1\", \"Operation\": \"training\", \"epoch\": 2, \"model\": 26}, \"Metrics\": {\"train_absolute_loss_objective\": {\"sum\": 0.8779675769805908, \"count\": 1, \"min\": 0.8779675769805908, \"max\": 0.8779675769805908}}}\u001b[0m\n",
      "\u001b[34m#metrics {\"StartTime\": 1732849432.419705, \"EndTime\": 1732849432.4197142, \"Dimensions\": {\"Algorithm\": \"Linear Learner\", \"Host\": \"algo-1\", \"Operation\": \"training\", \"epoch\": 2, \"model\": 27}, \"Metrics\": {\"train_absolute_loss_objective\": {\"sum\": 0.8869817066192627, \"count\": 1, \"min\": 0.8869817066192627, \"max\": 0.8869817066192627}}}\u001b[0m\n",
      "\u001b[34m#metrics {\"StartTime\": 1732849432.4197443, \"EndTime\": 1732849432.4197536, \"Dimensions\": {\"Algorithm\": \"Linear Learner\", \"Host\": \"algo-1\", \"Operation\": \"training\", \"epoch\": 2, \"model\": 28}, \"Metrics\": {\"train_absolute_loss_objective\": {\"sum\": 0.8614937686920165, \"count\": 1, \"min\": 0.8614937686920165, \"max\": 0.8614937686920165}}}\u001b[0m\n",
      "\u001b[34m#metrics {\"StartTime\": 1732849432.419785, \"EndTime\": 1732849432.4197934, \"Dimensions\": {\"Algorithm\": \"Linear Learner\", \"Host\": \"algo-1\", \"Operation\": \"training\", \"epoch\": 2, \"model\": 29}, \"Metrics\": {\"train_absolute_loss_objective\": {\"sum\": 0.8619551277160644, \"count\": 1, \"min\": 0.8619551277160644, \"max\": 0.8619551277160644}}}\u001b[0m\n",
      "\u001b[34m#metrics {\"StartTime\": 1732849432.4198198, \"EndTime\": 1732849432.4198272, \"Dimensions\": {\"Algorithm\": \"Linear Learner\", \"Host\": \"algo-1\", \"Operation\": \"training\", \"epoch\": 2, \"model\": 30}, \"Metrics\": {\"train_absolute_loss_objective\": {\"sum\": 0.8665133571624756, \"count\": 1, \"min\": 0.8665133571624756, \"max\": 0.8665133571624756}}}\u001b[0m\n",
      "\u001b[34m#metrics {\"StartTime\": 1732849432.4198542, \"EndTime\": 1732849432.4198627, \"Dimensions\": {\"Algorithm\": \"Linear Learner\", \"Host\": \"algo-1\", \"Operation\": \"training\", \"epoch\": 2, \"model\": 31}, \"Metrics\": {\"train_absolute_loss_objective\": {\"sum\": 0.8542619895935059, \"count\": 1, \"min\": 0.8542619895935059, \"max\": 0.8542619895935059}}}\u001b[0m\n",
      "\u001b[34m[11/29/2024 03:03:52 INFO 140313100396352] #quality_metric: host=algo-1, epoch=2, train absolute_loss_objective <loss>=0.8394542694091797\u001b[0m\n",
      "\u001b[34m[11/29/2024 03:03:52 INFO 140313100396352] #early_stopping_criteria_metric: host=algo-1, epoch=2, criteria=absolute_loss_objective, value=0.22426285982131958\u001b[0m\n",
      "\u001b[34m[11/29/2024 03:03:52 INFO 140313100396352] Epoch 2: Loss improved. Updating best model\u001b[0m\n",
      "\u001b[34m[11/29/2024 03:03:52 INFO 140313100396352] Saving model for epoch: 2\u001b[0m\n",
      "\u001b[34m[11/29/2024 03:03:52 INFO 140313100396352] Saved checkpoint to \"/tmp/tmpkasjsy1y/mx-mod-0000.params\"\u001b[0m\n",
      "\u001b[34m[11/29/2024 03:03:52 INFO 140313100396352] #progress_metric: host=algo-1, completed 60.0 % of epochs\u001b[0m\n",
      "\u001b[34m#metrics {\"StartTime\": 1732849432.3520005, \"EndTime\": 1732849432.427456, \"Dimensions\": {\"Algorithm\": \"Linear Learner\", \"Host\": \"algo-1\", \"Operation\": \"training\", \"epoch\": 2, \"Meta\": \"training_data_iter\"}, \"Metrics\": {\"Total Records Seen\": {\"sum\": 117.0, \"count\": 1, \"min\": 117, \"max\": 117}, \"Total Batches Seen\": {\"sum\": 25.0, \"count\": 1, \"min\": 25, \"max\": 25}, \"Max Records Seen Between Resets\": {\"sum\": 28.0, \"count\": 1, \"min\": 28, \"max\": 28}, \"Max Batches Seen Between Resets\": {\"sum\": 6.0, \"count\": 1, \"min\": 6, \"max\": 6}, \"Reset Count\": {\"sum\": 5.0, \"count\": 1, \"min\": 5, \"max\": 5}, \"Number of Records Since Last Reset\": {\"sum\": 28.0, \"count\": 1, \"min\": 28, \"max\": 28}, \"Number of Batches Since Last Reset\": {\"sum\": 6.0, \"count\": 1, \"min\": 6, \"max\": 6}}}\u001b[0m\n",
      "\u001b[34m[11/29/2024 03:03:52 INFO 140313100396352] #throughput_metric: host=algo-1, train throughput=370.52623077020155 records/second\u001b[0m\n",
      "\u001b[34m[2024-11-29 03:03:52.499] [tensorio] [info] epoch_stats={\"data_pipeline\": \"/opt/ml/input/data/train\", \"epoch\": 10, \"duration\": 70, \"num_examples\": 6, \"num_bytes\": 1344}\u001b[0m\n",
      "\u001b[34m#metrics {\"StartTime\": 1732849432.4990432, \"EndTime\": 1732849432.4990983, \"Dimensions\": {\"Algorithm\": \"Linear Learner\", \"Host\": \"algo-1\", \"Operation\": \"training\", \"epoch\": 3, \"model\": 0}, \"Metrics\": {\"train_absolute_loss_objective\": {\"sum\": 0.8187548828125, \"count\": 1, \"min\": 0.8187548828125, \"max\": 0.8187548828125}}}\u001b[0m\n",
      "\u001b[34m#metrics {\"StartTime\": 1732849432.4991596, \"EndTime\": 1732849432.4991715, \"Dimensions\": {\"Algorithm\": \"Linear Learner\", \"Host\": \"algo-1\", \"Operation\": \"training\", \"epoch\": 3, \"model\": 1}, \"Metrics\": {\"train_absolute_loss_objective\": {\"sum\": 0.837378625869751, \"count\": 1, \"min\": 0.837378625869751, \"max\": 0.837378625869751}}}\u001b[0m\n",
      "\u001b[34m#metrics {\"StartTime\": 1732849432.4992003, \"EndTime\": 1732849432.4992085, \"Dimensions\": {\"Algorithm\": \"Linear Learner\", \"Host\": \"algo-1\", \"Operation\": \"training\", \"epoch\": 3, \"model\": 2}, \"Metrics\": {\"train_absolute_loss_objective\": {\"sum\": 0.821044864654541, \"count\": 1, \"min\": 0.821044864654541, \"max\": 0.821044864654541}}}\u001b[0m\n",
      "\u001b[34m#metrics {\"StartTime\": 1732849432.4992325, \"EndTime\": 1732849432.4992397, \"Dimensions\": {\"Algorithm\": \"Linear Learner\", \"Host\": \"algo-1\", \"Operation\": \"training\", \"epoch\": 3, \"model\": 3}, \"Metrics\": {\"train_absolute_loss_objective\": {\"sum\": 0.8364125442504883, \"count\": 1, \"min\": 0.8364125442504883, \"max\": 0.8364125442504883}}}\u001b[0m\n",
      "\u001b[34m#metrics {\"StartTime\": 1732849432.4992619, \"EndTime\": 1732849432.4992688, \"Dimensions\": {\"Algorithm\": \"Linear Learner\", \"Host\": \"algo-1\", \"Operation\": \"training\", \"epoch\": 3, \"model\": 4}, \"Metrics\": {\"train_absolute_loss_objective\": {\"sum\": 0.33563570499420164, \"count\": 1, \"min\": 0.33563570499420164, \"max\": 0.33563570499420164}}}\u001b[0m\n",
      "\u001b[34m#metrics {\"StartTime\": 1732849432.4992933, \"EndTime\": 1732849432.4993007, \"Dimensions\": {\"Algorithm\": \"Linear Learner\", \"Host\": \"algo-1\", \"Operation\": \"training\", \"epoch\": 3, \"model\": 5}, \"Metrics\": {\"train_absolute_loss_objective\": {\"sum\": 0.2830007839202881, \"count\": 1, \"min\": 0.2830007839202881, \"max\": 0.2830007839202881}}}\u001b[0m\n",
      "\u001b[34m#metrics {\"StartTime\": 1732849432.499327, \"EndTime\": 1732849432.4993355, \"Dimensions\": {\"Algorithm\": \"Linear Learner\", \"Host\": \"algo-1\", \"Operation\": \"training\", \"epoch\": 3, \"model\": 6}, \"Metrics\": {\"train_absolute_loss_objective\": {\"sum\": 0.3911895799636841, \"count\": 1, \"min\": 0.3911895799636841, \"max\": 0.3911895799636841}}}\u001b[0m\n",
      "\u001b[34m#metrics {\"StartTime\": 1732849432.4993598, \"EndTime\": 1732849432.4993663, \"Dimensions\": {\"Algorithm\": \"Linear Learner\", \"Host\": \"algo-1\", \"Operation\": \"training\", \"epoch\": 3, \"model\": 7}, \"Metrics\": {\"train_absolute_loss_objective\": {\"sum\": 0.41640915870666506, \"count\": 1, \"min\": 0.41640915870666506, \"max\": 0.41640915870666506}}}\u001b[0m\n",
      "\u001b[34m#metrics {\"StartTime\": 1732849432.4993913, \"EndTime\": 1732849432.499399, \"Dimensions\": {\"Algorithm\": \"Linear Learner\", \"Host\": \"algo-1\", \"Operation\": \"training\", \"epoch\": 3, \"model\": 8}, \"Metrics\": {\"train_absolute_loss_objective\": {\"sum\": 0.8718343162536621, \"count\": 1, \"min\": 0.8718343162536621, \"max\": 0.8718343162536621}}}\u001b[0m\n",
      "\u001b[34m#metrics {\"StartTime\": 1732849432.499424, \"EndTime\": 1732849432.4994314, \"Dimensions\": {\"Algorithm\": \"Linear Learner\", \"Host\": \"algo-1\", \"Operation\": \"training\", \"epoch\": 3, \"model\": 9}, \"Metrics\": {\"train_absolute_loss_objective\": {\"sum\": 0.8070575332641602, \"count\": 1, \"min\": 0.8070575332641602, \"max\": 0.8070575332641602}}}\u001b[0m\n",
      "\u001b[34m#metrics {\"StartTime\": 1732849432.4994583, \"EndTime\": 1732849432.4994693, \"Dimensions\": {\"Algorithm\": \"Linear Learner\", \"Host\": \"algo-1\", \"Operation\": \"training\", \"epoch\": 3, \"model\": 10}, \"Metrics\": {\"train_absolute_loss_objective\": {\"sum\": 0.8136982917785645, \"count\": 1, \"min\": 0.8136982917785645, \"max\": 0.8136982917785645}}}\u001b[0m\n",
      "\u001b[34m#metrics {\"StartTime\": 1732849432.4994926, \"EndTime\": 1732849432.4995003, \"Dimensions\": {\"Algorithm\": \"Linear Learner\", \"Host\": \"algo-1\", \"Operation\": \"training\", \"epoch\": 3, \"model\": 11}, \"Metrics\": {\"train_absolute_loss_objective\": {\"sum\": 0.7993533325195312, \"count\": 1, \"min\": 0.7993533325195312, \"max\": 0.7993533325195312}}}\u001b[0m\n",
      "\u001b[34m#metrics {\"StartTime\": 1732849432.4995263, \"EndTime\": 1732849432.4995341, \"Dimensions\": {\"Algorithm\": \"Linear Learner\", \"Host\": \"algo-1\", \"Operation\": \"training\", \"epoch\": 3, \"model\": 12}, \"Metrics\": {\"train_absolute_loss_objective\": {\"sum\": 0.2767521858215332, \"count\": 1, \"min\": 0.2767521858215332, \"max\": 0.2767521858215332}}}\u001b[0m\n",
      "\u001b[34m#metrics {\"StartTime\": 1732849432.4995582, \"EndTime\": 1732849432.4995656, \"Dimensions\": {\"Algorithm\": \"Linear Learner\", \"Host\": \"algo-1\", \"Operation\": \"training\", \"epoch\": 3, \"model\": 13}, \"Metrics\": {\"train_absolute_loss_objective\": {\"sum\": 0.38772698879241946, \"count\": 1, \"min\": 0.38772698879241946, \"max\": 0.38772698879241946}}}\u001b[0m\n",
      "\u001b[34m#metrics {\"StartTime\": 1732849432.499591, \"EndTime\": 1732849432.4995987, \"Dimensions\": {\"Algorithm\": \"Linear Learner\", \"Host\": \"algo-1\", \"Operation\": \"training\", \"epoch\": 3, \"model\": 14}, \"Metrics\": {\"train_absolute_loss_objective\": {\"sum\": 0.2780418586730957, \"count\": 1, \"min\": 0.2780418586730957, \"max\": 0.2780418586730957}}}\u001b[0m\n",
      "\u001b[34m#metrics {\"StartTime\": 1732849432.499625, \"EndTime\": 1732849432.4996321, \"Dimensions\": {\"Algorithm\": \"Linear Learner\", \"Host\": \"algo-1\", \"Operation\": \"training\", \"epoch\": 3, \"model\": 15}, \"Metrics\": {\"train_absolute_loss_objective\": {\"sum\": 0.42888856887817384, \"count\": 1, \"min\": 0.42888856887817384, \"max\": 0.42888856887817384}}}\u001b[0m\n",
      "\u001b[34m#metrics {\"StartTime\": 1732849432.4996576, \"EndTime\": 1732849432.499666, \"Dimensions\": {\"Algorithm\": \"Linear Learner\", \"Host\": \"algo-1\", \"Operation\": \"training\", \"epoch\": 3, \"model\": 16}, \"Metrics\": {\"train_absolute_loss_objective\": {\"sum\": 0.7853294277191162, \"count\": 1, \"min\": 0.7853294277191162, \"max\": 0.7853294277191162}}}\u001b[0m\n",
      "\u001b[34m#metrics {\"StartTime\": 1732849432.4996939, \"EndTime\": 1732849432.4997027, \"Dimensions\": {\"Algorithm\": \"Linear Learner\", \"Host\": \"algo-1\", \"Operation\": \"training\", \"epoch\": 3, \"model\": 17}, \"Metrics\": {\"train_absolute_loss_objective\": {\"sum\": 0.8332901191711426, \"count\": 1, \"min\": 0.8332901191711426, \"max\": 0.8332901191711426}}}\u001b[0m\n",
      "\u001b[34m#metrics {\"StartTime\": 1732849432.4997299, \"EndTime\": 1732849432.4997373, \"Dimensions\": {\"Algorithm\": \"Linear Learner\", \"Host\": \"algo-1\", \"Operation\": \"training\", \"epoch\": 3, \"model\": 18}, \"Metrics\": {\"train_absolute_loss_objective\": {\"sum\": 0.8107902431488037, \"count\": 1, \"min\": 0.8107902431488037, \"max\": 0.8107902431488037}}}\u001b[0m\n",
      "\u001b[34m#metrics {\"StartTime\": 1732849432.499762, \"EndTime\": 1732849432.49977, \"Dimensions\": {\"Algorithm\": \"Linear Learner\", \"Host\": \"algo-1\", \"Operation\": \"training\", \"epoch\": 3, \"model\": 19}, \"Metrics\": {\"train_absolute_loss_objective\": {\"sum\": 0.8079720783233643, \"count\": 1, \"min\": 0.8079720783233643, \"max\": 0.8079720783233643}}}\u001b[0m\n",
      "\u001b[34m#metrics {\"StartTime\": 1732849432.499796, \"EndTime\": 1732849432.499803, \"Dimensions\": {\"Algorithm\": \"Linear Learner\", \"Host\": \"algo-1\", \"Operation\": \"training\", \"epoch\": 3, \"model\": 20}, \"Metrics\": {\"train_absolute_loss_objective\": {\"sum\": 0.25696459770202634, \"count\": 1, \"min\": 0.25696459770202634, \"max\": 0.25696459770202634}}}\u001b[0m\n",
      "\u001b[34m#metrics {\"StartTime\": 1732849432.4998298, \"EndTime\": 1732849432.4998379, \"Dimensions\": {\"Algorithm\": \"Linear Learner\", \"Host\": \"algo-1\", \"Operation\": \"training\", \"epoch\": 3, \"model\": 21}, \"Metrics\": {\"train_absolute_loss_objective\": {\"sum\": 0.2579866528511047, \"count\": 1, \"min\": 0.2579866528511047, \"max\": 0.2579866528511047}}}\u001b[0m\n",
      "\u001b[34m#metrics {\"StartTime\": 1732849432.4998667, \"EndTime\": 1732849432.4998758, \"Dimensions\": {\"Algorithm\": \"Linear Learner\", \"Host\": \"algo-1\", \"Operation\": \"training\", \"epoch\": 3, \"model\": 22}, \"Metrics\": {\"train_absolute_loss_objective\": {\"sum\": 0.26084356784820556, \"count\": 1, \"min\": 0.26084356784820556, \"max\": 0.26084356784820556}}}\u001b[0m\n",
      "\u001b[34m#metrics {\"StartTime\": 1732849432.4999099, \"EndTime\": 1732849432.4999177, \"Dimensions\": {\"Algorithm\": \"Linear Learner\", \"Host\": \"algo-1\", \"Operation\": \"training\", \"epoch\": 3, \"model\": 23}, \"Metrics\": {\"train_absolute_loss_objective\": {\"sum\": 0.25643009662628174, \"count\": 1, \"min\": 0.25643009662628174, \"max\": 0.25643009662628174}}}\u001b[0m\n",
      "\u001b[34m#metrics {\"StartTime\": 1732849432.4999435, \"EndTime\": 1732849432.4999504, \"Dimensions\": {\"Algorithm\": \"Linear Learner\", \"Host\": \"algo-1\", \"Operation\": \"training\", \"epoch\": 3, \"model\": 24}, \"Metrics\": {\"train_absolute_loss_objective\": {\"sum\": 0.8923549365997314, \"count\": 1, \"min\": 0.8923549365997314, \"max\": 0.8923549365997314}}}\u001b[0m\n",
      "\u001b[34m#metrics {\"StartTime\": 1732849432.4999747, \"EndTime\": 1732849432.4999816, \"Dimensions\": {\"Algorithm\": \"Linear Learner\", \"Host\": \"algo-1\", \"Operation\": \"training\", \"epoch\": 3, \"model\": 25}, \"Metrics\": {\"train_absolute_loss_objective\": {\"sum\": 0.8742547702789306, \"count\": 1, \"min\": 0.8742547702789306, \"max\": 0.8742547702789306}}}\u001b[0m\n",
      "\u001b[34m#metrics {\"StartTime\": 1732849432.5000064, \"EndTime\": 1732849432.5000134, \"Dimensions\": {\"Algorithm\": \"Linear Learner\", \"Host\": \"algo-1\", \"Operation\": \"training\", \"epoch\": 3, \"model\": 26}, \"Metrics\": {\"train_absolute_loss_objective\": {\"sum\": 0.8824393463134765, \"count\": 1, \"min\": 0.8824393463134765, \"max\": 0.8824393463134765}}}\u001b[0m\n",
      "\u001b[34m#metrics {\"StartTime\": 1732849432.5000389, \"EndTime\": 1732849432.5000474, \"Dimensions\": {\"Algorithm\": \"Linear Learner\", \"Host\": \"algo-1\", \"Operation\": \"training\", \"epoch\": 3, \"model\": 27}, \"Metrics\": {\"train_absolute_loss_objective\": {\"sum\": 0.8861469268798828, \"count\": 1, \"min\": 0.8861469268798828, \"max\": 0.8861469268798828}}}\u001b[0m\n",
      "\u001b[34m#metrics {\"StartTime\": 1732849432.5000784, \"EndTime\": 1732849432.5000863, \"Dimensions\": {\"Algorithm\": \"Linear Learner\", \"Host\": \"algo-1\", \"Operation\": \"training\", \"epoch\": 3, \"model\": 28}, \"Metrics\": {\"train_absolute_loss_objective\": {\"sum\": 0.9472503185272216, \"count\": 1, \"min\": 0.9472503185272216, \"max\": 0.9472503185272216}}}\u001b[0m\n",
      "\u001b[34m#metrics {\"StartTime\": 1732849432.5001173, \"EndTime\": 1732849432.5001252, \"Dimensions\": {\"Algorithm\": \"Linear Learner\", \"Host\": \"algo-1\", \"Operation\": \"training\", \"epoch\": 3, \"model\": 29}, \"Metrics\": {\"train_absolute_loss_objective\": {\"sum\": 0.9490705871582031, \"count\": 1, \"min\": 0.9490705871582031, \"max\": 0.9490705871582031}}}\u001b[0m\n",
      "\u001b[34m#metrics {\"StartTime\": 1732849432.5001516, \"EndTime\": 1732849432.500159, \"Dimensions\": {\"Algorithm\": \"Linear Learner\", \"Host\": \"algo-1\", \"Operation\": \"training\", \"epoch\": 3, \"model\": 30}, \"Metrics\": {\"train_absolute_loss_objective\": {\"sum\": 0.9426566696166992, \"count\": 1, \"min\": 0.9426566696166992, \"max\": 0.9426566696166992}}}\u001b[0m\n",
      "\u001b[34m#metrics {\"StartTime\": 1732849432.5001853, \"EndTime\": 1732849432.5001945, \"Dimensions\": {\"Algorithm\": \"Linear Learner\", \"Host\": \"algo-1\", \"Operation\": \"training\", \"epoch\": 3, \"model\": 31}, \"Metrics\": {\"train_absolute_loss_objective\": {\"sum\": 0.9549635982513428, \"count\": 1, \"min\": 0.9549635982513428, \"max\": 0.9549635982513428}}}\u001b[0m\n",
      "\u001b[34m[11/29/2024 03:03:52 INFO 140313100396352] #quality_metric: host=algo-1, epoch=3, train absolute_loss_objective <loss>=0.8187548828125\u001b[0m\n",
      "\u001b[34m[11/29/2024 03:03:52 INFO 140313100396352] #early_stopping_criteria_metric: host=algo-1, epoch=3, criteria=absolute_loss_objective, value=0.25643009662628174\u001b[0m\n",
      "\u001b[34m[11/29/2024 03:03:52 INFO 140313100396352] Saving model for epoch: 3\u001b[0m\n",
      "\u001b[34m[11/29/2024 03:03:52 INFO 140313100396352] Saved checkpoint to \"/tmp/tmp6736xn3b/mx-mod-0000.params\"\u001b[0m\n",
      "\u001b[34m[11/29/2024 03:03:52 INFO 140313100396352] #progress_metric: host=algo-1, completed 80.0 % of epochs\u001b[0m\n",
      "\u001b[34m#metrics {\"StartTime\": 1732849432.427691, \"EndTime\": 1732849432.506148, \"Dimensions\": {\"Algorithm\": \"Linear Learner\", \"Host\": \"algo-1\", \"Operation\": \"training\", \"epoch\": 3, \"Meta\": \"training_data_iter\"}, \"Metrics\": {\"Total Records Seen\": {\"sum\": 145.0, \"count\": 1, \"min\": 145, \"max\": 145}, \"Total Batches Seen\": {\"sum\": 31.0, \"count\": 1, \"min\": 31, \"max\": 31}, \"Max Records Seen Between Resets\": {\"sum\": 28.0, \"count\": 1, \"min\": 28, \"max\": 28}, \"Max Batches Seen Between Resets\": {\"sum\": 6.0, \"count\": 1, \"min\": 6, \"max\": 6}, \"Reset Count\": {\"sum\": 6.0, \"count\": 1, \"min\": 6, \"max\": 6}, \"Number of Records Since Last Reset\": {\"sum\": 28.0, \"count\": 1, \"min\": 28, \"max\": 28}, \"Number of Batches Since Last Reset\": {\"sum\": 6.0, \"count\": 1, \"min\": 6, \"max\": 6}}}\u001b[0m\n",
      "\u001b[34m[11/29/2024 03:03:52 INFO 140313100396352] #throughput_metric: host=algo-1, train throughput=356.23981775549265 records/second\u001b[0m\n",
      "\u001b[34m[2024-11-29 03:03:52.583] [tensorio] [info] epoch_stats={\"data_pipeline\": \"/opt/ml/input/data/train\", \"epoch\": 12, \"duration\": 77, \"num_examples\": 6, \"num_bytes\": 1344}\u001b[0m\n",
      "\u001b[34m#metrics {\"StartTime\": 1732849432.5836198, \"EndTime\": 1732849432.5836854, \"Dimensions\": {\"Algorithm\": \"Linear Learner\", \"Host\": \"algo-1\", \"Operation\": \"training\", \"epoch\": 4, \"model\": 0}, \"Metrics\": {\"train_absolute_loss_objective\": {\"sum\": 0.7982308864593506, \"count\": 1, \"min\": 0.7982308864593506, \"max\": 0.7982308864593506}}}\u001b[0m\n",
      "\u001b[34m#metrics {\"StartTime\": 1732849432.5837598, \"EndTime\": 1732849432.5837724, \"Dimensions\": {\"Algorithm\": \"Linear Learner\", \"Host\": \"algo-1\", \"Operation\": \"training\", \"epoch\": 4, \"model\": 1}, \"Metrics\": {\"train_absolute_loss_objective\": {\"sum\": 0.8165698814392089, \"count\": 1, \"min\": 0.8165698814392089, \"max\": 0.8165698814392089}}}\u001b[0m\n",
      "\u001b[34m#metrics {\"StartTime\": 1732849432.5838025, \"EndTime\": 1732849432.5838103, \"Dimensions\": {\"Algorithm\": \"Linear Learner\", \"Host\": \"algo-1\", \"Operation\": \"training\", \"epoch\": 4, \"model\": 2}, \"Metrics\": {\"train_absolute_loss_objective\": {\"sum\": 0.800520830154419, \"count\": 1, \"min\": 0.800520830154419, \"max\": 0.800520830154419}}}\u001b[0m\n",
      "\u001b[34m#metrics {\"StartTime\": 1732849432.5838351, \"EndTime\": 1732849432.5838418, \"Dimensions\": {\"Algorithm\": \"Linear Learner\", \"Host\": \"algo-1\", \"Operation\": \"training\", \"epoch\": 4, \"model\": 3}, \"Metrics\": {\"train_absolute_loss_objective\": {\"sum\": 0.8156038284301758, \"count\": 1, \"min\": 0.8156038284301758, \"max\": 0.8156038284301758}}}\u001b[0m\n",
      "\u001b[34m#metrics {\"StartTime\": 1732849432.5838642, \"EndTime\": 1732849432.5838718, \"Dimensions\": {\"Algorithm\": \"Linear Learner\", \"Host\": \"algo-1\", \"Operation\": \"training\", \"epoch\": 4, \"model\": 4}, \"Metrics\": {\"train_absolute_loss_objective\": {\"sum\": 0.2820483827590942, \"count\": 1, \"min\": 0.2820483827590942, \"max\": 0.2820483827590942}}}\u001b[0m\n",
      "\u001b[34m#metrics {\"StartTime\": 1732849432.5839102, \"EndTime\": 1732849432.583919, \"Dimensions\": {\"Algorithm\": \"Linear Learner\", \"Host\": \"algo-1\", \"Operation\": \"training\", \"epoch\": 4, \"model\": 5}, \"Metrics\": {\"train_absolute_loss_objective\": {\"sum\": 0.23256494998931884, \"count\": 1, \"min\": 0.23256494998931884, \"max\": 0.23256494998931884}}}\u001b[0m\n",
      "\u001b[34m#metrics {\"StartTime\": 1732849432.5839522, \"EndTime\": 1732849432.5839593, \"Dimensions\": {\"Algorithm\": \"Linear Learner\", \"Host\": \"algo-1\", \"Operation\": \"training\", \"epoch\": 4, \"model\": 6}, \"Metrics\": {\"train_absolute_loss_objective\": {\"sum\": 0.319783878326416, \"count\": 1, \"min\": 0.319783878326416, \"max\": 0.319783878326416}}}\u001b[0m\n",
      "\u001b[34m#metrics {\"StartTime\": 1732849432.5839903, \"EndTime\": 1732849432.5839992, \"Dimensions\": {\"Algorithm\": \"Linear Learner\", \"Host\": \"algo-1\", \"Operation\": \"training\", \"epoch\": 4, \"model\": 7}, \"Metrics\": {\"train_absolute_loss_objective\": {\"sum\": 0.33598785400390624, \"count\": 1, \"min\": 0.33598785400390624, \"max\": 0.33598785400390624}}}\u001b[0m\n",
      "\u001b[34m#metrics {\"StartTime\": 1732849432.5840297, \"EndTime\": 1732849432.5840375, \"Dimensions\": {\"Algorithm\": \"Linear Learner\", \"Host\": \"algo-1\", \"Operation\": \"training\", \"epoch\": 4, \"model\": 8}, \"Metrics\": {\"train_absolute_loss_objective\": {\"sum\": 0.8513137435913086, \"count\": 1, \"min\": 0.8513137435913086, \"max\": 0.8513137435913086}}}\u001b[0m\n",
      "\u001b[34m#metrics {\"StartTime\": 1732849432.5840697, \"EndTime\": 1732849432.5840786, \"Dimensions\": {\"Algorithm\": \"Linear Learner\", \"Host\": \"algo-1\", \"Operation\": \"training\", \"epoch\": 4, \"model\": 9}, \"Metrics\": {\"train_absolute_loss_objective\": {\"sum\": 0.7862537479400635, \"count\": 1, \"min\": 0.7862537479400635, \"max\": 0.7862537479400635}}}\u001b[0m\n",
      "\u001b[34m#metrics {\"StartTime\": 1732849432.5841098, \"EndTime\": 1732849432.5841184, \"Dimensions\": {\"Algorithm\": \"Linear Learner\", \"Host\": \"algo-1\", \"Operation\": \"training\", \"epoch\": 4, \"model\": 10}, \"Metrics\": {\"train_absolute_loss_objective\": {\"sum\": 0.7931789684295655, \"count\": 1, \"min\": 0.7931789684295655, \"max\": 0.7931789684295655}}}\u001b[0m\n",
      "\u001b[34m#metrics {\"StartTime\": 1732849432.5841453, \"EndTime\": 1732849432.5841534, \"Dimensions\": {\"Algorithm\": \"Linear Learner\", \"Host\": \"algo-1\", \"Operation\": \"training\", \"epoch\": 4, \"model\": 11}, \"Metrics\": {\"train_absolute_loss_objective\": {\"sum\": 0.7785497093200684, \"count\": 1, \"min\": 0.7785497093200684, \"max\": 0.7785497093200684}}}\u001b[0m\n",
      "\u001b[34m#metrics {\"StartTime\": 1732849432.584178, \"EndTime\": 1732849432.5841856, \"Dimensions\": {\"Algorithm\": \"Linear Learner\", \"Host\": \"algo-1\", \"Operation\": \"training\", \"epoch\": 4, \"model\": 12}, \"Metrics\": {\"train_absolute_loss_objective\": {\"sum\": 0.27213043689727784, \"count\": 1, \"min\": 0.27213043689727784, \"max\": 0.27213043689727784}}}\u001b[0m\n",
      "\u001b[34m#metrics {\"StartTime\": 1732849432.584212, \"EndTime\": 1732849432.584221, \"Dimensions\": {\"Algorithm\": \"Linear Learner\", \"Host\": \"algo-1\", \"Operation\": \"training\", \"epoch\": 4, \"model\": 13}, \"Metrics\": {\"train_absolute_loss_objective\": {\"sum\": 0.2759850549697876, \"count\": 1, \"min\": 0.2759850549697876, \"max\": 0.2759850549697876}}}\u001b[0m\n",
      "\u001b[34m#metrics {\"StartTime\": 1732849432.5842702, \"EndTime\": 1732849432.5842803, \"Dimensions\": {\"Algorithm\": \"Linear Learner\", \"Host\": \"algo-1\", \"Operation\": \"training\", \"epoch\": 4, \"model\": 14}, \"Metrics\": {\"train_absolute_loss_objective\": {\"sum\": 0.2724762964248657, \"count\": 1, \"min\": 0.2724762964248657, \"max\": 0.2724762964248657}}}\u001b[0m\n",
      "\u001b[34m#metrics {\"StartTime\": 1732849432.5843117, \"EndTime\": 1732849432.584319, \"Dimensions\": {\"Algorithm\": \"Linear Learner\", \"Host\": \"algo-1\", \"Operation\": \"training\", \"epoch\": 4, \"model\": 15}, \"Metrics\": {\"train_absolute_loss_objective\": {\"sum\": 0.3435921859741211, \"count\": 1, \"min\": 0.3435921859741211, \"max\": 0.3435921859741211}}}\u001b[0m\n",
      "\u001b[34m#metrics {\"StartTime\": 1732849432.5843444, \"EndTime\": 1732849432.5843523, \"Dimensions\": {\"Algorithm\": \"Linear Learner\", \"Host\": \"algo-1\", \"Operation\": \"training\", \"epoch\": 4, \"model\": 16}, \"Metrics\": {\"train_absolute_loss_objective\": {\"sum\": 0.7654211711883545, \"count\": 1, \"min\": 0.7654211711883545, \"max\": 0.7654211711883545}}}\u001b[0m\n",
      "\u001b[34m#metrics {\"StartTime\": 1732849432.5843778, \"EndTime\": 1732849432.5843866, \"Dimensions\": {\"Algorithm\": \"Linear Learner\", \"Host\": \"algo-1\", \"Operation\": \"training\", \"epoch\": 4, \"model\": 17}, \"Metrics\": {\"train_absolute_loss_objective\": {\"sum\": 0.8129477500915527, \"count\": 1, \"min\": 0.8129477500915527, \"max\": 0.8129477500915527}}}\u001b[0m\n",
      "\u001b[34m#metrics {\"StartTime\": 1732849432.5844166, \"EndTime\": 1732849432.5844247, \"Dimensions\": {\"Algorithm\": \"Linear Learner\", \"Host\": \"algo-1\", \"Operation\": \"training\", \"epoch\": 4, \"model\": 18}, \"Metrics\": {\"train_absolute_loss_objective\": {\"sum\": 0.7907943534851074, \"count\": 1, \"min\": 0.7907943534851074, \"max\": 0.7907943534851074}}}\u001b[0m\n",
      "\u001b[34m#metrics {\"StartTime\": 1732849432.5844574, \"EndTime\": 1732849432.584466, \"Dimensions\": {\"Algorithm\": \"Linear Learner\", \"Host\": \"algo-1\", \"Operation\": \"training\", \"epoch\": 4, \"model\": 19}, \"Metrics\": {\"train_absolute_loss_objective\": {\"sum\": 0.7877103137969971, \"count\": 1, \"min\": 0.7877103137969971, \"max\": 0.7877103137969971}}}\u001b[0m\n",
      "\u001b[34m#metrics {\"StartTime\": 1732849432.584499, \"EndTime\": 1732849432.5845082, \"Dimensions\": {\"Algorithm\": \"Linear Learner\", \"Host\": \"algo-1\", \"Operation\": \"training\", \"epoch\": 4, \"model\": 20}, \"Metrics\": {\"train_absolute_loss_objective\": {\"sum\": 0.5000399684906006, \"count\": 1, \"min\": 0.5000399684906006, \"max\": 0.5000399684906006}}}\u001b[0m\n",
      "\u001b[34m#metrics {\"StartTime\": 1732849432.5845382, \"EndTime\": 1732849432.584546, \"Dimensions\": {\"Algorithm\": \"Linear Learner\", \"Host\": \"algo-1\", \"Operation\": \"training\", \"epoch\": 4, \"model\": 21}, \"Metrics\": {\"train_absolute_loss_objective\": {\"sum\": 0.4988493728637695, \"count\": 1, \"min\": 0.4988493728637695, \"max\": 0.4988493728637695}}}\u001b[0m\n",
      "\u001b[34m#metrics {\"StartTime\": 1732849432.5845716, \"EndTime\": 1732849432.5845795, \"Dimensions\": {\"Algorithm\": \"Linear Learner\", \"Host\": \"algo-1\", \"Operation\": \"training\", \"epoch\": 4, \"model\": 22}, \"Metrics\": {\"train_absolute_loss_objective\": {\"sum\": 0.5140834426879883, \"count\": 1, \"min\": 0.5140834426879883, \"max\": 0.5140834426879883}}}\u001b[0m\n",
      "\u001b[34m#metrics {\"StartTime\": 1732849432.5846057, \"EndTime\": 1732849432.5846133, \"Dimensions\": {\"Algorithm\": \"Linear Learner\", \"Host\": \"algo-1\", \"Operation\": \"training\", \"epoch\": 4, \"model\": 23}, \"Metrics\": {\"train_absolute_loss_objective\": {\"sum\": 0.4916145420074463, \"count\": 1, \"min\": 0.4916145420074463, \"max\": 0.4916145420074463}}}\u001b[0m\n",
      "\u001b[34m#metrics {\"StartTime\": 1732849432.5846453, \"EndTime\": 1732849432.5846536, \"Dimensions\": {\"Algorithm\": \"Linear Learner\", \"Host\": \"algo-1\", \"Operation\": \"training\", \"epoch\": 4, \"model\": 24}, \"Metrics\": {\"train_absolute_loss_objective\": {\"sum\": 0.8942433261871338, \"count\": 1, \"min\": 0.8942433261871338, \"max\": 0.8942433261871338}}}\u001b[0m\n",
      "\u001b[34m#metrics {\"StartTime\": 1732849432.5846846, \"EndTime\": 1732849432.584693, \"Dimensions\": {\"Algorithm\": \"Linear Learner\", \"Host\": \"algo-1\", \"Operation\": \"training\", \"epoch\": 4, \"model\": 25}, \"Metrics\": {\"train_absolute_loss_objective\": {\"sum\": 0.8775017642974854, \"count\": 1, \"min\": 0.8775017642974854, \"max\": 0.8775017642974854}}}\u001b[0m\n",
      "\u001b[34m#metrics {\"StartTime\": 1732849432.5847204, \"EndTime\": 1732849432.5847285, \"Dimensions\": {\"Algorithm\": \"Linear Learner\", \"Host\": \"algo-1\", \"Operation\": \"training\", \"epoch\": 4, \"model\": 26}, \"Metrics\": {\"train_absolute_loss_objective\": {\"sum\": 0.8865044021606445, \"count\": 1, \"min\": 0.8865044021606445, \"max\": 0.8865044021606445}}}\u001b[0m\n",
      "\u001b[34m#metrics {\"StartTime\": 1732849432.5847535, \"EndTime\": 1732849432.5847616, \"Dimensions\": {\"Algorithm\": \"Linear Learner\", \"Host\": \"algo-1\", \"Operation\": \"training\", \"epoch\": 4, \"model\": 27}, \"Metrics\": {\"train_absolute_loss_objective\": {\"sum\": 0.8817719650268555, \"count\": 1, \"min\": 0.8817719650268555, \"max\": 0.8817719650268555}}}\u001b[0m\n",
      "\u001b[34m#metrics {\"StartTime\": 1732849432.584786, \"EndTime\": 1732849432.5847938, \"Dimensions\": {\"Algorithm\": \"Linear Learner\", \"Host\": \"algo-1\", \"Operation\": \"training\", \"epoch\": 4, \"model\": 28}, \"Metrics\": {\"train_absolute_loss_objective\": {\"sum\": 0.900021448135376, \"count\": 1, \"min\": 0.900021448135376, \"max\": 0.900021448135376}}}\u001b[0m\n",
      "\u001b[34m#metrics {\"StartTime\": 1732849432.5848255, \"EndTime\": 1732849432.584834, \"Dimensions\": {\"Algorithm\": \"Linear Learner\", \"Host\": \"algo-1\", \"Operation\": \"training\", \"epoch\": 4, \"model\": 29}, \"Metrics\": {\"train_absolute_loss_objective\": {\"sum\": 0.9004982471466064, \"count\": 1, \"min\": 0.9004982471466064, \"max\": 0.9004982471466064}}}\u001b[0m\n",
      "\u001b[34m#metrics {\"StartTime\": 1732849432.5848646, \"EndTime\": 1732849432.584873, \"Dimensions\": {\"Algorithm\": \"Linear Learner\", \"Host\": \"algo-1\", \"Operation\": \"training\", \"epoch\": 4, \"model\": 30}, \"Metrics\": {\"train_absolute_loss_objective\": {\"sum\": 0.8971329498291015, \"count\": 1, \"min\": 0.8971329498291015, \"max\": 0.8971329498291015}}}\u001b[0m\n",
      "\u001b[34m#metrics {\"StartTime\": 1732849432.5849004, \"EndTime\": 1732849432.5849082, \"Dimensions\": {\"Algorithm\": \"Linear Learner\", \"Host\": \"algo-1\", \"Operation\": \"training\", \"epoch\": 4, \"model\": 31}, \"Metrics\": {\"train_absolute_loss_objective\": {\"sum\": 0.8916512393951416, \"count\": 1, \"min\": 0.8916512393951416, \"max\": 0.8916512393951416}}}\u001b[0m\n",
      "\u001b[34m[11/29/2024 03:03:52 INFO 140313100396352] #quality_metric: host=algo-1, epoch=4, train absolute_loss_objective <loss>=0.7982308864593506\u001b[0m\n",
      "\u001b[34m[11/29/2024 03:03:52 INFO 140313100396352] #early_stopping_criteria_metric: host=algo-1, epoch=4, criteria=absolute_loss_objective, value=0.23256494998931884\u001b[0m\n",
      "\u001b[34m[11/29/2024 03:03:52 INFO 140313100396352] Saving model for epoch: 4\u001b[0m\n",
      "\u001b[34m[11/29/2024 03:03:52 INFO 140313100396352] Saved checkpoint to \"/tmp/tmpptrvfci6/mx-mod-0000.params\"\u001b[0m\n",
      "\u001b[34m[11/29/2024 03:03:52 INFO 140313100396352] #progress_metric: host=algo-1, completed 100.0 % of epochs\u001b[0m\n",
      "\u001b[34m#metrics {\"StartTime\": 1732849432.5064147, \"EndTime\": 1732849432.5916631, \"Dimensions\": {\"Algorithm\": \"Linear Learner\", \"Host\": \"algo-1\", \"Operation\": \"training\", \"epoch\": 4, \"Meta\": \"training_data_iter\"}, \"Metrics\": {\"Total Records Seen\": {\"sum\": 173.0, \"count\": 1, \"min\": 173, \"max\": 173}, \"Total Batches Seen\": {\"sum\": 37.0, \"count\": 1, \"min\": 37, \"max\": 37}, \"Max Records Seen Between Resets\": {\"sum\": 28.0, \"count\": 1, \"min\": 28, \"max\": 28}, \"Max Batches Seen Between Resets\": {\"sum\": 6.0, \"count\": 1, \"min\": 6, \"max\": 6}, \"Reset Count\": {\"sum\": 7.0, \"count\": 1, \"min\": 7, \"max\": 7}, \"Number of Records Since Last Reset\": {\"sum\": 28.0, \"count\": 1, \"min\": 28, \"max\": 28}, \"Number of Batches Since Last Reset\": {\"sum\": 6.0, \"count\": 1, \"min\": 6, \"max\": 6}}}\u001b[0m\n",
      "\u001b[34m[11/29/2024 03:03:52 INFO 140313100396352] #throughput_metric: host=algo-1, train throughput=328.07086567981383 records/second\u001b[0m\n",
      "\u001b[34m[11/29/2024 03:03:52 WARNING 140313100396352] wait_for_all_workers will not sync workers since the kv store is not running distributed\u001b[0m\n",
      "\u001b[34m[11/29/2024 03:03:52 WARNING 140313100396352] wait_for_all_workers will not sync workers since the kv store is not running distributed\u001b[0m\n",
      "\u001b[34m[2024-11-29 03:03:52.592] [tensorio] [info] epoch_stats={\"data_pipeline\": \"/opt/ml/input/data/train\", \"epoch\": 14, \"duration\": 0, \"num_examples\": 1, \"num_bytes\": 240}\u001b[0m\n",
      "\u001b[34m[2024-11-29 03:03:52.599] [tensorio] [info] epoch_stats={\"data_pipeline\": \"/opt/ml/input/data/train\", \"epoch\": 16, \"duration\": 5, \"num_examples\": 6, \"num_bytes\": 1344}\u001b[0m\n",
      "\u001b[34m[11/29/2024 03:03:52 INFO 140313100396352] #train_score (algo-1) : ('absolute_loss_objective', 6755.302734375)\u001b[0m\n",
      "\u001b[34m[11/29/2024 03:03:52 INFO 140313100396352] #train_score (algo-1) : ('mse', 76711317.14285715)\u001b[0m\n",
      "\u001b[34m[11/29/2024 03:03:52 INFO 140313100396352] #train_score (algo-1) : ('absolute_loss', 6755.302734375)\u001b[0m\n",
      "\u001b[34m[11/29/2024 03:03:52 INFO 140313100396352] #train_score (algo-1) : ('rmse', 8758.499708446485)\u001b[0m\n",
      "\u001b[34m[11/29/2024 03:03:52 INFO 140313100396352] #train_score (algo-1) : ('r2', 0.9197463144938776)\u001b[0m\n",
      "\u001b[34m[11/29/2024 03:03:52 INFO 140313100396352] #train_score (algo-1) : ('mae', 6755.302734375)\u001b[0m\n",
      "\u001b[34m[11/29/2024 03:03:52 INFO 140313100396352] #quality_metric: host=algo-1, train absolute_loss_objective <loss>=6755.302734375\u001b[0m\n",
      "\u001b[34m[11/29/2024 03:03:52 INFO 140313100396352] #quality_metric: host=algo-1, train mse <loss>=76711317.14285715\u001b[0m\n",
      "\u001b[34m[11/29/2024 03:03:52 INFO 140313100396352] #quality_metric: host=algo-1, train absolute_loss <loss>=6755.302734375\u001b[0m\n",
      "\u001b[34m[11/29/2024 03:03:52 INFO 140313100396352] #quality_metric: host=algo-1, train rmse <loss>=8758.499708446485\u001b[0m\n",
      "\u001b[34m[11/29/2024 03:03:52 INFO 140313100396352] #quality_metric: host=algo-1, train r2 <loss>=0.9197463144938776\u001b[0m\n",
      "\u001b[34m[11/29/2024 03:03:52 INFO 140313100396352] #quality_metric: host=algo-1, train mae <loss>=6755.302734375\u001b[0m\n",
      "\u001b[34m[11/29/2024 03:03:52 INFO 140313100396352] Best model found for hyperparameters: {\"optimizer\": \"adam\", \"learning_rate\": 0.1, \"wd\": 0.01, \"l1\": 0.0, \"lr_scheduler_step\": 10, \"lr_scheduler_factor\": 0.99, \"lr_scheduler_minimum_lr\": 1e-05}\u001b[0m\n",
      "\u001b[34m[11/29/2024 03:03:52 INFO 140313100396352] Saved checkpoint to \"/tmp/tmpnwrrq82g/mx-mod-0000.params\"\u001b[0m\n",
      "\u001b[34m[11/29/2024 03:03:52 INFO 140313100396352] Test data is not provided.\u001b[0m\n",
      "\u001b[34m#metrics {\"StartTime\": 1732849432.0949135, \"EndTime\": 1732849432.605717, \"Dimensions\": {\"Algorithm\": \"Linear Learner\", \"Host\": \"algo-1\", \"Operation\": \"training\"}, \"Metrics\": {\"initialize.time\": {\"sum\": 120.58687210083008, \"count\": 1, \"min\": 120.58687210083008, \"max\": 120.58687210083008}, \"epochs\": {\"sum\": 5.0, \"count\": 1, \"min\": 5, \"max\": 5}, \"check_early_stopping.time\": {\"sum\": 2.9065608978271484, \"count\": 5, \"min\": 0.19073486328125, \"max\": 0.9200572967529297}, \"update.time\": {\"sum\": 363.12222480773926, \"count\": 5, \"min\": 62.586069107055664, \"max\": 83.31608772277832}, \"finalize.time\": {\"sum\": 9.717226028442383, \"count\": 1, \"min\": 9.717226028442383, \"max\": 9.717226028442383}, \"setuptime\": {\"sum\": 1.7468929290771484, \"count\": 1, \"min\": 1.7468929290771484, \"max\": 1.7468929290771484}, \"totaltime\": {\"sum\": 603.2495498657227, \"count\": 1, \"min\": 603.2495498657227, \"max\": 603.2495498657227}}}\u001b[0m\n",
      "\n",
      "2024-11-29 03:04:09 Uploading - Uploading generated training model\n",
      "2024-11-29 03:04:09 Completed - Training job completed\n",
      "Training seconds: 145\n",
      "Billable seconds: 145\n"
     ]
    }
   ],
   "source": [
    "# We have pass in the container, the type of instance that we would like to use for training \n",
    "# output path and sagemaker session into the Estimator. \n",
    "# We can also specify how many instances we would like to use for training\n",
    "# sagemaker_session = sagemaker.Session()\n",
    "\n",
    "linear = sagemaker.estimator.Estimator(container,\n",
    "                                       role, \n",
    "                                       train_instance_count = 1, \n",
    "                                       train_instance_type = 'ml.c4.xlarge',\n",
    "                                       output_path = output_location,\n",
    "                                       sagemaker_session = sagemaker_session)\n",
    "\n",
    "\n",
    "# We can tune parameters like the number of features that we are passing in, type of predictor like 'regressor' or 'classifier', mini batch size, epochs\n",
    "# Train 32 different versions of the model and will get the best out of them (built-in parameters optimization!)\n",
    "\n",
    "linear.set_hyperparameters(feature_dim = 1,\n",
    "                           predictor_type = 'regressor',\n",
    "                           mini_batch_size = 5,\n",
    "                           epochs = 5,\n",
    "                           num_models = 32, #trains 32 models\n",
    "                           loss = 'absolute_loss')\n",
    "\n",
    "# Now we are ready to pass in the training data from S3 to train the linear learner model\n",
    "\n",
    "linear.fit({'train': s3_train_data})\n",
    "\n",
    "# Let's see the progress using cloudwatch logs"
   ]
  },
  {
   "cell_type": "code",
   "execution_count": null,
   "id": "e997bf6a-9ac4-4603-9982-2f3dc272131d",
   "metadata": {},
   "outputs": [],
   "source": [
    "# linear = sagemaker.estimator.Estimator(container,\n",
    "#                                        role, \n",
    "#                                        train_instance_count = 1, \n",
    "#                                        train_instance_type = 'ml.c4.xlarge',\n",
    "#                                        output_path = output_location,\n",
    "#                                        sagemaker_session = sagemaker_session)\n",
    "\n",
    "#to reduce the billable seconds add the below three lines\n",
    "#train_use_spot_instances = True #allows users to use spot instances, helps companies to save money\n",
    "#train_max_run = 300\n",
    "#train_max_wait = 600"
   ]
  },
  {
   "cell_type": "markdown",
   "id": "a28ac308-ee65-4a25-b61e-53fe0832594e",
   "metadata": {},
   "source": [
    "# TASK 8: DEPLOY MODEL and invoke endpoint in SAGEMAKER"
   ]
  },
  {
   "cell_type": "code",
   "execution_count": 101,
   "id": "11f3f57f-010b-4301-8e13-1a7f67eda65a",
   "metadata": {},
   "outputs": [
    {
     "name": "stderr",
     "output_type": "stream",
     "text": [
      "INFO:sagemaker:Creating model with name: linear-learner-2024-11-29-04-01-11-241\n",
      "INFO:sagemaker:Creating endpoint-config with name linear-learner-2024-11-29-04-01-11-241\n",
      "INFO:sagemaker:Creating endpoint with name linear-learner-2024-11-29-04-01-11-241\n"
     ]
    },
    {
     "name": "stdout",
     "output_type": "stream",
     "text": [
      "-------!"
     ]
    }
   ],
   "source": [
    "# Deploying the model to perform inference \n",
    "\n",
    "linear_regressor = linear.deploy(initial_instance_count = 1,\n",
    "                                          instance_type = 'ml.m4.xlarge')"
   ]
  },
  {
   "cell_type": "code",
   "execution_count": 103,
   "id": "72452dce-0924-4637-8121-532b448cb937",
   "metadata": {},
   "outputs": [],
   "source": [
    "from sagemaker.serializers import CSVSerializer\n",
    "from sagemaker.deserializers import JSONDeserializer\n",
    "# Content type overrides the data that will be passed to the deployed model, since the deployed model expects data in text/csv format.\n",
    "\n",
    "# Serializer accepts a single argument, the input data, and returns a sequence of bytes in the specified content type\n",
    "\n",
    "# Deserializer accepts two arguments, the result data and the response content type, and return a sequence of bytes in the specified content type.\n",
    "\n",
    "# Reference: https://sagemaker.readthedocs.io/en/stable/predictors.html\n",
    "\n",
    "# Example usage\n",
    "# Set the content type and serializer for your endpoint\n",
    "linear_regressor.content_type = 'text/csv'\n",
    "linear_regressor.serializer = CSVSerializer()\n",
    "\n",
    "# Set the deserializer for the response\n",
    "linear_regressor.deserializer = JSONDeserializer()"
   ]
  },
  {
   "cell_type": "code",
   "execution_count": 104,
   "id": "e1ed7734-3b9b-4f1d-929a-d4db1617fdf8",
   "metadata": {},
   "outputs": [],
   "source": [
    "# making prediction on the test data\n",
    "\n",
    "result = linear_regressor.predict(X_test)"
   ]
  },
  {
   "cell_type": "code",
   "execution_count": 105,
   "id": "2ba035d1-3410-4748-be49-d5dd51900a69",
   "metadata": {},
   "outputs": [
    {
     "data": {
      "text/plain": [
       "{'predictions': [{'score': 90257.3984375},\n",
       "  {'score': 141065.4375},\n",
       "  {'score': 30801.18359375},\n",
       "  {'score': 93500.4609375},\n",
       "  {'score': 49178.5625},\n",
       "  {'score': 38368.33984375},\n",
       "  {'score': 156199.75}]}"
      ]
     },
     "execution_count": 105,
     "metadata": {},
     "output_type": "execute_result"
    }
   ],
   "source": [
    "result # results are in Json format"
   ]
  },
  {
   "cell_type": "code",
   "execution_count": null,
   "id": "559bef54-904a-4cee-8035-85385939fbd7",
   "metadata": {},
   "outputs": [],
   "source": []
  }
 ],
 "metadata": {
  "kernelspec": {
   "display_name": "Python 3 (ipykernel)",
   "language": "python",
   "name": "python3"
  },
  "language_info": {
   "codemirror_mode": {
    "name": "ipython",
    "version": 3
   },
   "file_extension": ".py",
   "mimetype": "text/x-python",
   "name": "python",
   "nbconvert_exporter": "python",
   "pygments_lexer": "ipython3",
   "version": "3.11.10"
  }
 },
 "nbformat": 4,
 "nbformat_minor": 5
}
